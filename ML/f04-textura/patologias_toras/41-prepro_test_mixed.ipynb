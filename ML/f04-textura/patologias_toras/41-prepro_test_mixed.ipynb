{
 "cells": [
  {
   "cell_type": "markdown",
   "metadata": {},
   "source": [
    "# Experimentando classificação com diferentes _datasets_\n",
    "\n",
    "Utilizando o dataset de toras previamente cortadas para treino.\n",
    "\n",
    "Utilizando o dataset de toras cortadas pelos algoritmos de preprocessamento em `./img_edit.py`.\n",
    "\n",
    "Utilizando melhor combinação de fatores para calculo do LBP:\n",
    "  - utilizando 8 p\n",
    "\n",
    "## Importando bibliotecas"
   ]
  },
  {
   "cell_type": "markdown",
   "metadata": {},
   "source": [
    "## Analisando desempenho com KNN\n",
    "\n",
    "> Descomente _imports_ caso não tenha executado células superiores"
   ]
  },
  {
   "cell_type": "code",
   "execution_count": 1,
   "metadata": {},
   "outputs": [
    {
     "name": "stderr",
     "output_type": "stream",
     "text": [
      "Intel(R) Extension for Scikit-learn* enabled (https://github.com/intel/scikit-learn-intelex)\n"
     ]
    },
    {
     "data": {
      "text/plain": [
       "array([6810, 2969, 1978, 4848, 5507, 2455, 6552, 2142, 1340,  728, 6873,\n",
       "       3520, 5634, 5424, 2604, 6232, 5418, 7185, 3137, 3789, 1776,  979,\n",
       "       4739, 4539, 7261, 3950, 2047, 7814, 3726, 5477])"
      ]
     },
     "execution_count": 1,
     "metadata": {},
     "output_type": "execute_result"
    }
   ],
   "source": [
    "# # importado de células anteriores\n",
    "import numpy as np\n",
    "import pandas as pd\n",
    "import seaborn as sns\n",
    "import matplotlib.pyplot as plt\n",
    "\n",
    "from sklearnex import patch_sklearn\n",
    "patch_sklearn() # Deve ser chamada antes dos imports no sklearn\n",
    "\n",
    "from sklearn.svm import SVC\n",
    "from sklearn.pipeline import make_pipeline\n",
    "from sklearn.preprocessing import StandardScaler\n",
    "from sklearn.neighbors import KNeighborsClassifier\n",
    "from sklearn.model_selection import train_test_split\n",
    "from sklearn.metrics import confusion_matrix\n",
    "\n",
    "\n",
    "TESTE = 5\n",
    "TREINO = 6\n",
    "dados = lambda tipo, func, n_pontos: f'./csvs/prepro_{tipo}-{func}-P{n_pontos}.csv'\n",
    "\n",
    "N_POINTS = [4, 8]\n",
    "FUNC_NAMES = ['ambos', 'menor', 'maior']\n",
    "TARGET_NAMES = ['normal', 'broca', 'fissura', 'musgo'] # Já declarado anteriormente\n",
    "\n",
    "# Gerando 30 sementes \"aleatórias\" dentro do intervalo [0, 8000)\n",
    "seed_arr = np.random.randint(8000, size=30)\n",
    "seed_arr"
   ]
  },
  {
   "cell_type": "code",
   "execution_count": 2,
   "metadata": {},
   "outputs": [],
   "source": [
    "COLUMNS = ['acc', 'otsu', 'pontos', 'classificador']\n",
    "combinations = []\n",
    "\n",
    "for classifier in ['knn', 'svm']:\n",
    "  for n_points in [8]:\n",
    "    for name in FUNC_NAMES:\n",
    "      # classes: {0:'broca', 1:'fissura', 2:'musgo', 3:'quebra'}\n",
    "      data_treino = pd.read_csv(f'./csvs/prepro_{TREINO}-{name}-P{n_points}.csv')\n",
    "      y_train = data_treino.pop('target').values\n",
    "      X_train = data_treino.values\n",
    "\n",
    "      # classes: {0:'normal', 1:'broca', 2:'fissura', 3:'musgo'}\n",
    "      data_teste = pd.read_csv(f'./csvs/prepro_{TESTE}-{name}-P{n_points}.csv')\n",
    "      y_test = data_teste.pop('target').values\n",
    "      X_test = data_teste.values\n",
    "\n",
    "      # classes: {3:'normal', 0:'broca', 1:'fissura', 2:'musgo'}\n",
    "      y_test = (y_test - 1) % 4 # corrigindo valores das classes para correspondência entre datasets\n",
    "\n",
    "      # Instanciando classificador\n",
    "\n",
    "      clf = KNeighborsClassifier() if classifier == 'knn' else make_pipeline(StandardScaler(), SVC(cache_size=600))\n",
    "      clf.fit(X_train, y_train)\n",
    "\n",
    "      combinations.append([\n",
    "        clf.score(X_test, y_test),\n",
    "        name,\n",
    "        n_points,\n",
    "        classifier])\n"
   ]
  },
  {
   "cell_type": "code",
   "execution_count": 5,
   "metadata": {},
   "outputs": [
    {
     "data": {
      "text/html": [
       "<div>\n",
       "<style scoped>\n",
       "    .dataframe tbody tr th:only-of-type {\n",
       "        vertical-align: middle;\n",
       "    }\n",
       "\n",
       "    .dataframe tbody tr th {\n",
       "        vertical-align: top;\n",
       "    }\n",
       "\n",
       "    .dataframe thead th {\n",
       "        text-align: right;\n",
       "    }\n",
       "</style>\n",
       "<table border=\"1\" class=\"dataframe\">\n",
       "  <thead>\n",
       "    <tr style=\"text-align: right;\">\n",
       "      <th></th>\n",
       "      <th>acc</th>\n",
       "      <th>otsu</th>\n",
       "      <th>pontos</th>\n",
       "      <th>classificador</th>\n",
       "    </tr>\n",
       "  </thead>\n",
       "  <tbody>\n",
       "    <tr>\n",
       "      <th>0</th>\n",
       "      <td>0.319444</td>\n",
       "      <td>ambos</td>\n",
       "      <td>8</td>\n",
       "      <td>knn</td>\n",
       "    </tr>\n",
       "    <tr>\n",
       "      <th>1</th>\n",
       "      <td>0.325000</td>\n",
       "      <td>menor</td>\n",
       "      <td>8</td>\n",
       "      <td>knn</td>\n",
       "    </tr>\n",
       "    <tr>\n",
       "      <th>2</th>\n",
       "      <td>0.277778</td>\n",
       "      <td>maior</td>\n",
       "      <td>8</td>\n",
       "      <td>knn</td>\n",
       "    </tr>\n",
       "    <tr>\n",
       "      <th>3</th>\n",
       "      <td>0.316667</td>\n",
       "      <td>ambos</td>\n",
       "      <td>8</td>\n",
       "      <td>svm</td>\n",
       "    </tr>\n",
       "    <tr>\n",
       "      <th>4</th>\n",
       "      <td>0.352778</td>\n",
       "      <td>menor</td>\n",
       "      <td>8</td>\n",
       "      <td>svm</td>\n",
       "    </tr>\n",
       "    <tr>\n",
       "      <th>5</th>\n",
       "      <td>0.219444</td>\n",
       "      <td>maior</td>\n",
       "      <td>8</td>\n",
       "      <td>svm</td>\n",
       "    </tr>\n",
       "  </tbody>\n",
       "</table>\n",
       "</div>"
      ],
      "text/plain": [
       "        acc   otsu  pontos classificador\n",
       "0  0.319444  ambos       8           knn\n",
       "1  0.325000  menor       8           knn\n",
       "2  0.277778  maior       8           knn\n",
       "3  0.316667  ambos       8           svm\n",
       "4  0.352778  menor       8           svm\n",
       "5  0.219444  maior       8           svm"
      ]
     },
     "execution_count": 5,
     "metadata": {},
     "output_type": "execute_result"
    },
    {
     "data": {
      "image/png": "[encoded data removed]",
      "text/plain": [
       "<Figure size 432x288 with 1 Axes>"
      ]
     },
     "metadata": {},
     "output_type": "display_data"
    }
   ],
   "source": [
    "df = pd.DataFrame(data=combinations, columns=COLUMNS)\n",
    "\n",
    "sns.set_style('darkgrid')\n",
    "sns.pointplot(\n",
    "  data=df,\n",
    "  x='otsu',\n",
    "  y='acc',\n",
    "  hue='classificador'\n",
    ")\n",
    "\n",
    "df"
   ]
  }
 ],
 "metadata": {
  "interpreter": {
   "hash": "c16140625c651733d1fbc5d98d4101edd2a0aaa3f1a74f9cf81da72c2024c118"
  },
  "kernelspec": {
   "display_name": "ml_venv",
   "language": "python",
   "name": "ml_venv"
  },
  "language_info": {
   "codemirror_mode": {
    "name": "ipython",
    "version": 3
   },
   "file_extension": ".py",
   "mimetype": "text/x-python",
   "name": "python",
   "nbconvert_exporter": "python",
   "pygments_lexer": "ipython3",
   "version": "3.7.9"
  }
 },
 "nbformat": 4,
 "nbformat_minor": 2
}
