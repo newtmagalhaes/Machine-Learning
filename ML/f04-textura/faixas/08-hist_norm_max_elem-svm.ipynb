{
 "cells": [
  {
   "cell_type": "markdown",
   "source": [
    "# Experimentando classificação com histogramas normalizados pelo maior elemento\n",
    "\n",
    "## Importando bibliotecas"
   ],
   "metadata": {}
  },
  {
   "cell_type": "code",
   "execution_count": null,
   "source": [
    "import numpy as np\n",
    "import pandas as pd\n",
    "import seaborn as sns\n",
    "import matplotlib.pyplot as plt\n",
    "\n",
    "from sklearn.svm import SVC\n",
    "from sklearn.pipeline import make_pipeline\n",
    "from sklearn.preprocessing import StandardScaler\n",
    "from sklearn.model_selection import train_test_split\n",
    "from sklearn.metrics import (accuracy_score,\n",
    "                             classification_report,\n",
    "                             confusion_matrix,\n",
    "                             f1_score,\n",
    "                             plot_confusion_matrix)\n",
    "\n",
    "TARGET_NAMES = {'nao_faixa': 0,\n",
    "                'faixa_frente': 1,\n",
    "                'faixa_diagonal_direita': 2,\n",
    "                'faixa_diagonal_esquerda': 3}\n",
    "\n",
    "# Gerando 30 sementes aleatórias dentro do intervalo [0, 8000)\n",
    "seed_arr = np.random.randint(8000, size=30)"
   ],
   "outputs": [],
   "metadata": {}
  },
  {
   "cell_type": "markdown",
   "source": [
    "## Realizando 30 rodadas de classificação"
   ],
   "metadata": {}
  },
  {
   "cell_type": "code",
   "execution_count": null,
   "source": [
    "df = pd.read_csv('./csvs/otsu-norm_max_elem-lbp_faixas.csv').tail(1000)\n",
    "y = df.pop('target').values\n",
    "X = df.values\n",
    "\n",
    "acc_e_f1_por_rodada = []\n",
    "confu_matrices = []\n",
    "\n",
    "for rodada, seed in enumerate(seed_arr):\n",
    "  # separando dados\n",
    "  X_train, X_test, y_train, y_test = train_test_split(X, y, test_size=0.3, random_state=seed)\n",
    "\n",
    "  clf = make_pipeline(StandardScaler(), SVC()).fit(X_train, y_train)\n",
    "  y_pred = clf.predict(X_test)\n",
    "  \n",
    "  # Adicionando resultados à respectiva lista\n",
    "  acc_e_f1_por_rodada.append(\n",
    "    [accuracy_score(y_test, y_pred)]\n",
    "    + list(f1_score(y_test, y_pred, average=None)))\n",
    "\n",
    "  confu_matrices.append(\n",
    "    confusion_matrix(y_test, y_pred, normalize='true'))\n",
    "\n",
    "  print(f'Rodada {rodada}\\t-\\tSeed {seed}')\n",
    "  print(\n",
    "    classification_report(\n",
    "      y_true=y_test,\n",
    "      y_pred=y_pred,\n",
    "      target_names=TARGET_NAMES))\n",
    "\n",
    "  plot_confusion_matrix(\n",
    "    estimator=clf,\n",
    "    X=X_test,\n",
    "    y_true=y_test,\n",
    "    display_labels=TARGET_NAMES,\n",
    "    xticks_rotation=30,\n",
    "    normalize='true')\n",
    "  \n",
    "  plt.show()"
   ],
   "outputs": [],
   "metadata": {}
  },
  {
   "cell_type": "markdown",
   "source": [
    "## Métricas do experimento"
   ],
   "metadata": {}
  },
  {
   "cell_type": "code",
   "execution_count": null,
   "source": [
    "confusion_matrix_mean = np.mean(confu_matrices, axis=0)\n",
    "confusion_matrix_std = np.std(confu_matrices, axis=0)\n",
    "\n",
    "sns.heatmap(\n",
    "    data=confusion_matrix_mean,\n",
    "    cmap='Blues',\n",
    "    vmin=0,\n",
    "    vmax=1,\n",
    "    annot=True,\n",
    "    fmt='.4f',\n",
    "    mask=confusion_matrix_mean == 0,\n",
    "    xticklabels=TARGET_NAMES,\n",
    "    yticklabels=TARGET_NAMES\n",
    "    ).set(\n",
    "        title='Matriz de confusão média',\n",
    "        xlabel='Predicted label',\n",
    "        ylabel='True label')\n",
    "\n",
    "plt.show()\n",
    "\n",
    "sns.heatmap(\n",
    "    data=confusion_matrix_std,\n",
    "    cmap='Blues',\n",
    "    annot=True,\n",
    "    fmt='.4f',\n",
    "    mask=confusion_matrix_std == 0,\n",
    "    xticklabels=TARGET_NAMES,\n",
    "    yticklabels=TARGET_NAMES\n",
    "    ).set(\n",
    "        title='Desvio padrão da matriz de confusão',\n",
    "        xlabel='Predicted label',\n",
    "        ylabel='True label')\n",
    "\n",
    "None"
   ],
   "outputs": [],
   "metadata": {}
  },
  {
   "cell_type": "code",
   "execution_count": null,
   "source": [
    "acc_df = pd.DataFrame(\n",
    "  data=acc_e_f1_por_rodada,\n",
    "  columns=['Acurácia'] + [f'f1-{name}' for name in TARGET_NAMES])\n",
    "\n",
    "print(acc_df.describe())\n",
    "\n",
    "acc_df.boxplot(rot=30)\n",
    "\n",
    "acc_df.style.hide_index().background_gradient(cmap='Blues')"
   ],
   "outputs": [],
   "metadata": {}
  }
 ],
 "metadata": {
  "orig_nbformat": 4,
  "language_info": {
   "name": "python"
  }
 },
 "nbformat": 4,
 "nbformat_minor": 2
}