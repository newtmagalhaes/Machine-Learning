{
 "nbformat": 4,
 "nbformat_minor": 2,
 "metadata": {
  "language_info": {
   "name": "python",
   "codemirror_mode": {
    "name": "ipython",
    "version": 3
   },
   "version": "3.7.7-final"
  },
  "orig_nbformat": 2,
  "file_extension": ".py",
  "mimetype": "text/x-python",
  "name": "python",
  "npconvert_exporter": "python",
  "pygments_lexer": "ipython3",
  "version": 3,
  "kernelspec": {
   "name": "ml_venv",
   "display_name": "ML_venv"
  }
 },
 "cells": [
  {
   "cell_type": "markdown",
   "metadata": {},
   "source": [
    "# KNN - Correntes de motor\n",
    "\n",
    "Testando 30 rodadas com algoritmo **KNN** nos conjuntos de dados de correntes de motor com dados extraídos por _dwt_.\n",
    "\n",
    "## Importando Bibliotecas"
   ]
  },
  {
   "cell_type": "code",
   "execution_count": 1,
   "metadata": {},
   "outputs": [],
   "source": [
    "import numpy as np\n",
    "import pandas as pd\n",
    "\n",
    "from random import randint\n",
    "from matplotlib import pyplot as plt\n",
    "from sklearn.neighbors import KNeighborsClassifier\n",
    "from sklearn.model_selection import train_test_split\n",
    "from sklearn.metrics import classification_report, confusion_matrix, plot_confusion_matrix, accuracy_score, recall_score"
   ]
  },
  {
   "cell_type": "markdown",
   "metadata": {},
   "source": [
    "## Características dos dados\n",
    "\n",
    "| Características     |  Valor|\n",
    "|:--------------------|------:|\n",
    "| Classes             |      7|\n",
    "| Amostras            |   7851|\n",
    "| Dimensionalidade    |     38|\n",
    "| Amostras por classe |       |\n",
    "\n",
    "## Carregando dados e rótulos"
   ]
  },
  {
   "cell_type": "code",
   "execution_count": 13,
   "metadata": {},
   "outputs": [],
   "source": [
    "# Carregando data\n",
    "chain_raw = np.append(\n",
    "    arr=np.load(\"corrente1.npy\"),\n",
    "    values=np.append(np.load(\"corrente2.npy\"), np.load(\"corrente3.npy\"), 0),\n",
    "    axis=0)\n",
    "\n",
    "# Carregando Rótulos\n",
    "chain_labels = ['DesvioD1','DesvioD2','DesvioD3','DesvioD4','DesvioD5','DesvioA5',\n",
    "                    'MeanAD1','MeanAD2','MeanAD3','MeanAD4','MeanAD5','MeanADA5',\n",
    "                    'MedianAD1','MedianAD2','MedianAD3','MedianAD4','MedianAD5','MedianADA5',\n",
    "                    'KurtosisD1','KurtosisD2','KurtosisD3','KurtosisD4','KurtosisD5','KurtosisA5',\n",
    "                    'SkewnessD1','SkewnessD2','SkewnessD3','SkewnessD4','SkewnessD5','SkewnessA5',\n",
    "                    'EnergiaD1','EnergiaD2','EnergiaD3','EnergiaD4','EnergiaD5','EnergiaA5',\n",
    "                    'frequencia','classe','carga']\n",
    "\n",
    "chain_ds = {\n",
    "    # Removendo coluna de 'classe' dos dados\n",
    "    \"data\":[np.append(data[:37], data[38]) for data in chain_raw],\n",
    "    \"feature_names\":[label for label in chain_labels if label != \"classe\"],\n",
    "    \"target\":[classe[37] for classe in chain_raw],\n",
    "    \"target_names\":[\"Normal\", \"HI-1\", \"HI-2\", \"HI-3\", \"LI-1\", \"LI-2\", \"LI-3\"]\n",
    "}"
   ]
  },
  {
   "cell_type": "markdown",
   "metadata": {},
   "source": [
    "## Gerando DataFrame"
   ]
  },
  {
   "cell_type": "code",
   "execution_count": 14,
   "metadata": {},
   "outputs": [
    {
     "output_type": "execute_result",
     "data": {
      "text/plain": "          DesvioD1     DesvioD2     DesvioD3     DesvioD4     DesvioD5  \\\ncount  7814.000000  7814.000000  7814.000000  7814.000000  7814.000000   \nmean      0.011714     0.013514     0.017711     0.063898     0.311945   \nstd       0.000757     0.001440     0.004552     0.030013     0.147733   \nmin       0.010658     0.011566     0.011991     0.021461     0.097941   \n25%       0.011179     0.012379     0.014090     0.040713     0.193685   \n50%       0.011463     0.013058     0.016527     0.057920     0.285489   \n75%       0.012030     0.014415     0.019972     0.080620     0.396877   \nmax       0.018549     0.020684     0.036409     0.172226     0.832394   \n\n          DesvioA5      MeanAD1      MeanAD2      MeanAD3      MeanAD4  ...  \\\ncount  7814.000000  7814.000000  7814.000000  7814.000000  7814.000000  ...   \nmean      3.327927     0.009316     0.010746     0.014375     0.054918  ...   \nstd       0.778690     0.000576     0.001116     0.003907     0.025786  ...   \nmin       2.054899     0.008512     0.009209     0.009526     0.017718  ...   \n25%       2.559373     0.008901     0.009867     0.011280     0.035190  ...   \n50%       3.071178     0.009127     0.010393     0.013340     0.049917  ...   \n75%       4.181957     0.009577     0.011454     0.016254     0.069454  ...   \nmax       5.370829     0.011858     0.015411     0.031664     0.150451  ...   \n\n        SkewnessD5   SkewnessA5    EnergiaD1    EnergiaD2    EnergiaD3  \\\ncount  7814.000000  7814.000000  7814.000000  7814.000000  7814.000000   \nmean      0.012822     0.002228     0.000225     0.000148     0.000119   \nstd       0.054027     0.011603     0.000091     0.000058     0.000044   \nmin      -0.336391    -0.068359     0.000082     0.000051     0.000045   \n25%      -0.010300    -0.003404     0.000132     0.000099     0.000086   \n50%       0.013098     0.004119     0.000220     0.000142     0.000112   \n75%       0.035170     0.008408     0.000303     0.000187     0.000149   \nmax       0.339453     0.054295     0.000553     0.000413     0.000277   \n\n         EnergiaD4    EnergiaD5    EnergiaA5   frequencia        carga  \ncount  7814.000000  7814.000000  7814.000000  7851.000000  7851.000000  \nmean      0.000812     0.009945     0.989410    45.091708    49.694306  \nstd       0.000558     0.007103     0.007734     9.991614    40.795070  \nmin       0.000140     0.001580     0.973051    30.000000     0.000000  \n25%       0.000334     0.003480     0.982538    35.000000     0.000000  \n50%       0.000636     0.007894     0.991598    45.000000    50.000000  \n75%       0.001259     0.016380     0.996292    55.000000   100.000000  \nmax       0.002222     0.025331     0.999192    60.000000   100.000000  \n\n[8 rows x 38 columns]",
      "text/html": "<div>\n<style scoped>\n    .dataframe tbody tr th:only-of-type {\n        vertical-align: middle;\n    }\n\n    .dataframe tbody tr th {\n        vertical-align: top;\n    }\n\n    .dataframe thead th {\n        text-align: right;\n    }\n</style>\n<table border=\"1\" class=\"dataframe\">\n  <thead>\n    <tr style=\"text-align: right;\">\n      <th></th>\n      <th>DesvioD1</th>\n      <th>DesvioD2</th>\n      <th>DesvioD3</th>\n      <th>DesvioD4</th>\n      <th>DesvioD5</th>\n      <th>DesvioA5</th>\n      <th>MeanAD1</th>\n      <th>MeanAD2</th>\n      <th>MeanAD3</th>\n      <th>MeanAD4</th>\n      <th>...</th>\n      <th>SkewnessD5</th>\n      <th>SkewnessA5</th>\n      <th>EnergiaD1</th>\n      <th>EnergiaD2</th>\n      <th>EnergiaD3</th>\n      <th>EnergiaD4</th>\n      <th>EnergiaD5</th>\n      <th>EnergiaA5</th>\n      <th>frequencia</th>\n      <th>carga</th>\n    </tr>\n  </thead>\n  <tbody>\n    <tr>\n      <th>count</th>\n      <td>7814.000000</td>\n      <td>7814.000000</td>\n      <td>7814.000000</td>\n      <td>7814.000000</td>\n      <td>7814.000000</td>\n      <td>7814.000000</td>\n      <td>7814.000000</td>\n      <td>7814.000000</td>\n      <td>7814.000000</td>\n      <td>7814.000000</td>\n      <td>...</td>\n      <td>7814.000000</td>\n      <td>7814.000000</td>\n      <td>7814.000000</td>\n      <td>7814.000000</td>\n      <td>7814.000000</td>\n      <td>7814.000000</td>\n      <td>7814.000000</td>\n      <td>7814.000000</td>\n      <td>7851.000000</td>\n      <td>7851.000000</td>\n    </tr>\n    <tr>\n      <th>mean</th>\n      <td>0.011714</td>\n      <td>0.013514</td>\n      <td>0.017711</td>\n      <td>0.063898</td>\n      <td>0.311945</td>\n      <td>3.327927</td>\n      <td>0.009316</td>\n      <td>0.010746</td>\n      <td>0.014375</td>\n      <td>0.054918</td>\n      <td>...</td>\n      <td>0.012822</td>\n      <td>0.002228</td>\n      <td>0.000225</td>\n      <td>0.000148</td>\n      <td>0.000119</td>\n      <td>0.000812</td>\n      <td>0.009945</td>\n      <td>0.989410</td>\n      <td>45.091708</td>\n      <td>49.694306</td>\n    </tr>\n    <tr>\n      <th>std</th>\n      <td>0.000757</td>\n      <td>0.001440</td>\n      <td>0.004552</td>\n      <td>0.030013</td>\n      <td>0.147733</td>\n      <td>0.778690</td>\n      <td>0.000576</td>\n      <td>0.001116</td>\n      <td>0.003907</td>\n      <td>0.025786</td>\n      <td>...</td>\n      <td>0.054027</td>\n      <td>0.011603</td>\n      <td>0.000091</td>\n      <td>0.000058</td>\n      <td>0.000044</td>\n      <td>0.000558</td>\n      <td>0.007103</td>\n      <td>0.007734</td>\n      <td>9.991614</td>\n      <td>40.795070</td>\n    </tr>\n    <tr>\n      <th>min</th>\n      <td>0.010658</td>\n      <td>0.011566</td>\n      <td>0.011991</td>\n      <td>0.021461</td>\n      <td>0.097941</td>\n      <td>2.054899</td>\n      <td>0.008512</td>\n      <td>0.009209</td>\n      <td>0.009526</td>\n      <td>0.017718</td>\n      <td>...</td>\n      <td>-0.336391</td>\n      <td>-0.068359</td>\n      <td>0.000082</td>\n      <td>0.000051</td>\n      <td>0.000045</td>\n      <td>0.000140</td>\n      <td>0.001580</td>\n      <td>0.973051</td>\n      <td>30.000000</td>\n      <td>0.000000</td>\n    </tr>\n    <tr>\n      <th>25%</th>\n      <td>0.011179</td>\n      <td>0.012379</td>\n      <td>0.014090</td>\n      <td>0.040713</td>\n      <td>0.193685</td>\n      <td>2.559373</td>\n      <td>0.008901</td>\n      <td>0.009867</td>\n      <td>0.011280</td>\n      <td>0.035190</td>\n      <td>...</td>\n      <td>-0.010300</td>\n      <td>-0.003404</td>\n      <td>0.000132</td>\n      <td>0.000099</td>\n      <td>0.000086</td>\n      <td>0.000334</td>\n      <td>0.003480</td>\n      <td>0.982538</td>\n      <td>35.000000</td>\n      <td>0.000000</td>\n    </tr>\n    <tr>\n      <th>50%</th>\n      <td>0.011463</td>\n      <td>0.013058</td>\n      <td>0.016527</td>\n      <td>0.057920</td>\n      <td>0.285489</td>\n      <td>3.071178</td>\n      <td>0.009127</td>\n      <td>0.010393</td>\n      <td>0.013340</td>\n      <td>0.049917</td>\n      <td>...</td>\n      <td>0.013098</td>\n      <td>0.004119</td>\n      <td>0.000220</td>\n      <td>0.000142</td>\n      <td>0.000112</td>\n      <td>0.000636</td>\n      <td>0.007894</td>\n      <td>0.991598</td>\n      <td>45.000000</td>\n      <td>50.000000</td>\n    </tr>\n    <tr>\n      <th>75%</th>\n      <td>0.012030</td>\n      <td>0.014415</td>\n      <td>0.019972</td>\n      <td>0.080620</td>\n      <td>0.396877</td>\n      <td>4.181957</td>\n      <td>0.009577</td>\n      <td>0.011454</td>\n      <td>0.016254</td>\n      <td>0.069454</td>\n      <td>...</td>\n      <td>0.035170</td>\n      <td>0.008408</td>\n      <td>0.000303</td>\n      <td>0.000187</td>\n      <td>0.000149</td>\n      <td>0.001259</td>\n      <td>0.016380</td>\n      <td>0.996292</td>\n      <td>55.000000</td>\n      <td>100.000000</td>\n    </tr>\n    <tr>\n      <th>max</th>\n      <td>0.018549</td>\n      <td>0.020684</td>\n      <td>0.036409</td>\n      <td>0.172226</td>\n      <td>0.832394</td>\n      <td>5.370829</td>\n      <td>0.011858</td>\n      <td>0.015411</td>\n      <td>0.031664</td>\n      <td>0.150451</td>\n      <td>...</td>\n      <td>0.339453</td>\n      <td>0.054295</td>\n      <td>0.000553</td>\n      <td>0.000413</td>\n      <td>0.000277</td>\n      <td>0.002222</td>\n      <td>0.025331</td>\n      <td>0.999192</td>\n      <td>60.000000</td>\n      <td>100.000000</td>\n    </tr>\n  </tbody>\n</table>\n<p>8 rows × 38 columns</p>\n</div>"
     },
     "metadata": {},
     "execution_count": 14
    }
   ],
   "source": [
    "chainDF = pd.DataFrame(data=chain_ds[\"data\"], columns=chain_ds[\"feature_names\"])\n",
    "chainDF.describe()"
   ]
  },
  {
   "cell_type": "markdown",
   "metadata": {},
   "source": [
    "## Realizando 30 rodadas de Teste Com KNN"
   ]
  }
 ]
}