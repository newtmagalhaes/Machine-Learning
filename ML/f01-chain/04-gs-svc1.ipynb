{
 "cells": [
  {
   "cell_type": "markdown",
   "metadata": {},
   "source": [
    "# Grid Search SVC 1\n",
    "\n",
    "Explorando `GridSearchCV` com `SVC` para encontrar melhor configuração de `kernel` que se adeque ao dataset das correntes.\n",
    "\n",
    "## Importando bibliotecas"
   ]
  },
  {
   "cell_type": "code",
   "execution_count": 1,
   "metadata": {},
   "outputs": [],
   "source": [
    "import numpy as np\n",
    "import pandas as pd\n",
    "\n",
    "from sklearn.svm import SVC\n",
    "from sklearn.preprocessing import StandardScaler\n",
    "from sklearn.model_selection import train_test_split, GridSearchCV"
   ]
  },
  {
   "cell_type": "markdown",
   "metadata": {},
   "source": [
    "## Carregando dados"
   ]
  },
  {
   "cell_type": "code",
   "execution_count": 2,
   "metadata": {},
   "outputs": [],
   "source": [
    "# Carregando DataFrame\n",
    "chainDF = pd.read_csv('./corrente.csv')\n",
    "\n",
    "targetS = chainDF.pop('classe')\n",
    "\n",
    "# Carregando Rótulos das características\n",
    "feature_names = chainDF.columns\n",
    "\n",
    "# Carregando rótulos das classes\n",
    "target_names = ['Normal', 'HI-1', 'HI-2', 'HI-3', 'LI-1', 'LI-2', 'LI-3']\n",
    "\n",
    "# Definindo variáveis\n",
    "X, y = chainDF.to_numpy(), targetS.to_numpy()\n",
    "\n",
    "# Separando dados\n",
    "X_pre_train, X_pre_test, y_train, y_test = train_test_split(X, y, test_size=0.3, random_state=42)\n",
    "\n",
    "# Pré-processando dados\n",
    "sc = StandardScaler().fit(X_pre_train)\n",
    "\n",
    "X_train = sc.transform(X_pre_train)\n",
    "X_test = sc.transform(X_pre_test)"
   ]
  },
  {
   "cell_type": "markdown",
   "metadata": {},
   "source": [
    "## Grid Search"
   ]
  },
  {
   "cell_type": "code",
   "execution_count": 3,
   "metadata": {},
   "outputs": [
    {
     "output_type": "execute_result",
     "data": {
      "text/plain": "  param_kernel  mean_test_score  std_test_score  rank_test_score\n2          rbf         0.456040        0.020287                1\n0       linear         0.405209        0.022010                2\n1         poly         0.383075        0.022123                3\n3      sigmoid         0.174814        0.019770                4",
      "text/html": "<div>\n<style scoped>\n    .dataframe tbody tr th:only-of-type {\n        vertical-align: middle;\n    }\n\n    .dataframe tbody tr th {\n        vertical-align: top;\n    }\n\n    .dataframe thead th {\n        text-align: right;\n    }\n</style>\n<table border=\"1\" class=\"dataframe\">\n  <thead>\n    <tr style=\"text-align: right;\">\n      <th></th>\n      <th>param_kernel</th>\n      <th>mean_test_score</th>\n      <th>std_test_score</th>\n      <th>rank_test_score</th>\n    </tr>\n  </thead>\n  <tbody>\n    <tr>\n      <th>2</th>\n      <td>rbf</td>\n      <td>0.456040</td>\n      <td>0.020287</td>\n      <td>1</td>\n    </tr>\n    <tr>\n      <th>0</th>\n      <td>linear</td>\n      <td>0.405209</td>\n      <td>0.022010</td>\n      <td>2</td>\n    </tr>\n    <tr>\n      <th>1</th>\n      <td>poly</td>\n      <td>0.383075</td>\n      <td>0.022123</td>\n      <td>3</td>\n    </tr>\n    <tr>\n      <th>3</th>\n      <td>sigmoid</td>\n      <td>0.174814</td>\n      <td>0.019770</td>\n      <td>4</td>\n    </tr>\n  </tbody>\n</table>\n</div>"
     },
     "metadata": {},
     "execution_count": 3
    }
   ],
   "source": [
    "kernelGS = GridSearchCV(\n",
    "    estimator=SVC(),\n",
    "    cv=15,\n",
    "    param_grid={'kernel':['linear', 'poly', 'rbf', 'sigmoid'], 'decision_function_shape':['ovo']}\n",
    ").fit(\n",
    "    X_train,\n",
    "    y_train\n",
    ")\n",
    "\n",
    "kernelDF = pd.DataFrame(kernelGS.cv_results_)\n",
    "kernelDF[['param_kernel', 'mean_test_score', 'std_test_score', 'rank_test_score']].sort_values(by='rank_test_score')"
   ]
  }
 ],
 "metadata": {
  "language_info": {
   "codemirror_mode": {
    "name": "ipython",
    "version": 3
   },
   "file_extension": ".py",
   "mimetype": "text/x-python",
   "name": "python",
   "nbconvert_exporter": "python",
   "pygments_lexer": "ipython3",
   "version": "3.7.7-final"
  },
  "orig_nbformat": 2,
  "kernelspec": {
   "name": "ml_venv",
   "display_name": "ML_venv"
  }
 },
 "nbformat": 4,
 "nbformat_minor": 2
}