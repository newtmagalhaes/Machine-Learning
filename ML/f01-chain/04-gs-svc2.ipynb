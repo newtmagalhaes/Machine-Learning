{
 "cells": [
  {
   "cell_type": "markdown",
   "metadata": {},
   "source": [
    "# Grid Search SVC 1\n",
    "\n",
    "Explorando `GridSearchCV` com `SVC` para encontrar melhor valor para parâmetro `C` que se adeque ao dataset das correntes.\n",
    "\n",
    "## Importando bibliotecas"
   ]
  },
  {
   "cell_type": "code",
   "execution_count": 1,
   "metadata": {},
   "outputs": [],
   "source": [
    "import numpy as np\n",
    "import pandas as pd\n",
    "\n",
    "from sklearn.svm import SVC\n",
    "from sklearn.preprocessing import StandardScaler\n",
    "from sklearn.model_selection import train_test_split, GridSearchCV"
   ]
  },
  {
   "cell_type": "markdown",
   "metadata": {},
   "source": [
    "## Carregando dados"
   ]
  },
  {
   "cell_type": "code",
   "execution_count": 2,
   "metadata": {},
   "outputs": [],
   "source": [
    "# Carregando DataFrame\n",
    "chainDF = pd.read_csv('./corrente.csv')\n",
    "\n",
    "targetS = chainDF.pop('classe')\n",
    "\n",
    "# Carregando Rótulos das características\n",
    "feature_names = chainDF.columns\n",
    "\n",
    "# Carregando rótulos das classes\n",
    "target_names = ['Normal', 'HI-1', 'HI-2', 'HI-3', 'LI-1', 'LI-2', 'LI-3']\n",
    "\n",
    "# Definindo variáveis\n",
    "X, y = chainDF.to_numpy(), targetS.to_numpy()\n",
    "\n",
    "# Separando dados\n",
    "X_pre_train, X_pre_test, y_train, y_test = train_test_split(X, y, test_size=0.3, random_state=42)\n",
    "\n",
    "# Pré-processando dados\n",
    "sc = StandardScaler().fit(X_pre_train)\n",
    "\n",
    "X_train = sc.transform(X_pre_train)\n",
    "X_test = sc.transform(X_pre_test)"
   ]
  },
  {
   "cell_type": "markdown",
   "metadata": {},
   "source": [
    "## Grid Search"
   ]
  },
  {
   "cell_type": "code",
   "execution_count": 3,
   "metadata": {},
   "outputs": [
    {
     "output_type": "execute_result",
     "data": {
      "text/plain": "     param_C  mean_test_score  std_test_score  rank_test_score\n19         3         0.556958        0.021389                1\n18   2.84737         0.550741        0.019785                2\n17   2.69474         0.544891        0.018745                3\n16   2.54211         0.540871        0.019075                4\n15   2.38947         0.535384        0.022002                5\n14   2.23684         0.528070        0.020036                6\n13   2.08421         0.523133        0.021033                7\n12   1.93158         0.519839        0.020353                8\n11   1.77895         0.510882        0.021881                9\n10   1.62632         0.501745        0.021478               10\n9    1.47368         0.491687        0.019296               11\n8    1.32105         0.481814        0.019016               12\n7    1.16842         0.472487        0.018204               13\n6    1.01579         0.457868        0.020767               14\n5   0.863158         0.441223        0.013513               15\n4   0.710526         0.426777        0.015864               16\n3   0.557895         0.409589        0.018696               17\n2   0.405263         0.382717        0.025241               18\n1   0.252632         0.349986        0.017383               19\n0        0.1         0.301532        0.020755               20",
      "text/html": "<div>\n<style scoped>\n    .dataframe tbody tr th:only-of-type {\n        vertical-align: middle;\n    }\n\n    .dataframe tbody tr th {\n        vertical-align: top;\n    }\n\n    .dataframe thead th {\n        text-align: right;\n    }\n</style>\n<table border=\"1\" class=\"dataframe\">\n  <thead>\n    <tr style=\"text-align: right;\">\n      <th></th>\n      <th>param_C</th>\n      <th>mean_test_score</th>\n      <th>std_test_score</th>\n      <th>rank_test_score</th>\n    </tr>\n  </thead>\n  <tbody>\n    <tr>\n      <th>19</th>\n      <td>3</td>\n      <td>0.556958</td>\n      <td>0.021389</td>\n      <td>1</td>\n    </tr>\n    <tr>\n      <th>18</th>\n      <td>2.84737</td>\n      <td>0.550741</td>\n      <td>0.019785</td>\n      <td>2</td>\n    </tr>\n    <tr>\n      <th>17</th>\n      <td>2.69474</td>\n      <td>0.544891</td>\n      <td>0.018745</td>\n      <td>3</td>\n    </tr>\n    <tr>\n      <th>16</th>\n      <td>2.54211</td>\n      <td>0.540871</td>\n      <td>0.019075</td>\n      <td>4</td>\n    </tr>\n    <tr>\n      <th>15</th>\n      <td>2.38947</td>\n      <td>0.535384</td>\n      <td>0.022002</td>\n      <td>5</td>\n    </tr>\n    <tr>\n      <th>14</th>\n      <td>2.23684</td>\n      <td>0.528070</td>\n      <td>0.020036</td>\n      <td>6</td>\n    </tr>\n    <tr>\n      <th>13</th>\n      <td>2.08421</td>\n      <td>0.523133</td>\n      <td>0.021033</td>\n      <td>7</td>\n    </tr>\n    <tr>\n      <th>12</th>\n      <td>1.93158</td>\n      <td>0.519839</td>\n      <td>0.020353</td>\n      <td>8</td>\n    </tr>\n    <tr>\n      <th>11</th>\n      <td>1.77895</td>\n      <td>0.510882</td>\n      <td>0.021881</td>\n      <td>9</td>\n    </tr>\n    <tr>\n      <th>10</th>\n      <td>1.62632</td>\n      <td>0.501745</td>\n      <td>0.021478</td>\n      <td>10</td>\n    </tr>\n    <tr>\n      <th>9</th>\n      <td>1.47368</td>\n      <td>0.491687</td>\n      <td>0.019296</td>\n      <td>11</td>\n    </tr>\n    <tr>\n      <th>8</th>\n      <td>1.32105</td>\n      <td>0.481814</td>\n      <td>0.019016</td>\n      <td>12</td>\n    </tr>\n    <tr>\n      <th>7</th>\n      <td>1.16842</td>\n      <td>0.472487</td>\n      <td>0.018204</td>\n      <td>13</td>\n    </tr>\n    <tr>\n      <th>6</th>\n      <td>1.01579</td>\n      <td>0.457868</td>\n      <td>0.020767</td>\n      <td>14</td>\n    </tr>\n    <tr>\n      <th>5</th>\n      <td>0.863158</td>\n      <td>0.441223</td>\n      <td>0.013513</td>\n      <td>15</td>\n    </tr>\n    <tr>\n      <th>4</th>\n      <td>0.710526</td>\n      <td>0.426777</td>\n      <td>0.015864</td>\n      <td>16</td>\n    </tr>\n    <tr>\n      <th>3</th>\n      <td>0.557895</td>\n      <td>0.409589</td>\n      <td>0.018696</td>\n      <td>17</td>\n    </tr>\n    <tr>\n      <th>2</th>\n      <td>0.405263</td>\n      <td>0.382717</td>\n      <td>0.025241</td>\n      <td>18</td>\n    </tr>\n    <tr>\n      <th>1</th>\n      <td>0.252632</td>\n      <td>0.349986</td>\n      <td>0.017383</td>\n      <td>19</td>\n    </tr>\n    <tr>\n      <th>0</th>\n      <td>0.1</td>\n      <td>0.301532</td>\n      <td>0.020755</td>\n      <td>20</td>\n    </tr>\n  </tbody>\n</table>\n</div>"
     },
     "metadata": {},
     "execution_count": 3
    }
   ],
   "source": [
    "cGS = GridSearchCV(\n",
    "    estimator=SVC(),\n",
    "    cv=15,\n",
    "    param_grid={\n",
    "        'C':np.linspace(0.1, 3, 20),\n",
    "        'decision_function_shape':['ovo'],\n",
    "        'cache_size':[1000]}\n",
    ").fit(\n",
    "    X_train,\n",
    "    y_train\n",
    ")\n",
    "\n",
    "kernelDF = pd.DataFrame(cGS.cv_results_)\n",
    "kernelDF[['param_C', 'mean_test_score', 'std_test_score', 'rank_test_score']].sort_values(by='rank_test_score')"
   ]
  },
  {
   "cell_type": "markdown",
   "metadata": {},
   "source": [
    "Como parece que a Acurácia média aumenta conforme o parâmetro C, resolvi fazer outra busca em outro intervalo"
   ]
  },
  {
   "cell_type": "code",
   "execution_count": 4,
   "metadata": {},
   "outputs": [
    {
     "output_type": "execute_result",
     "data": {
      "text/plain": "  param_C  mean_test_score  std_test_score  rank_test_score\n9      40         0.724272        0.017083                1\n8      36         0.719335        0.017717                2\n7      32         0.712937        0.018400                3\n6      28         0.709462        0.018613                4\n5      24         0.705987        0.020530                5\n4      20         0.695748        0.019385                6\n3      16         0.683498        0.015444                7\n2      12         0.666124        0.016793                8\n1       8         0.638320        0.015171                9\n0       4         0.582008        0.020961               10",
      "text/html": "<div>\n<style scoped>\n    .dataframe tbody tr th:only-of-type {\n        vertical-align: middle;\n    }\n\n    .dataframe tbody tr th {\n        vertical-align: top;\n    }\n\n    .dataframe thead th {\n        text-align: right;\n    }\n</style>\n<table border=\"1\" class=\"dataframe\">\n  <thead>\n    <tr style=\"text-align: right;\">\n      <th></th>\n      <th>param_C</th>\n      <th>mean_test_score</th>\n      <th>std_test_score</th>\n      <th>rank_test_score</th>\n    </tr>\n  </thead>\n  <tbody>\n    <tr>\n      <th>9</th>\n      <td>40</td>\n      <td>0.724272</td>\n      <td>0.017083</td>\n      <td>1</td>\n    </tr>\n    <tr>\n      <th>8</th>\n      <td>36</td>\n      <td>0.719335</td>\n      <td>0.017717</td>\n      <td>2</td>\n    </tr>\n    <tr>\n      <th>7</th>\n      <td>32</td>\n      <td>0.712937</td>\n      <td>0.018400</td>\n      <td>3</td>\n    </tr>\n    <tr>\n      <th>6</th>\n      <td>28</td>\n      <td>0.709462</td>\n      <td>0.018613</td>\n      <td>4</td>\n    </tr>\n    <tr>\n      <th>5</th>\n      <td>24</td>\n      <td>0.705987</td>\n      <td>0.020530</td>\n      <td>5</td>\n    </tr>\n    <tr>\n      <th>4</th>\n      <td>20</td>\n      <td>0.695748</td>\n      <td>0.019385</td>\n      <td>6</td>\n    </tr>\n    <tr>\n      <th>3</th>\n      <td>16</td>\n      <td>0.683498</td>\n      <td>0.015444</td>\n      <td>7</td>\n    </tr>\n    <tr>\n      <th>2</th>\n      <td>12</td>\n      <td>0.666124</td>\n      <td>0.016793</td>\n      <td>8</td>\n    </tr>\n    <tr>\n      <th>1</th>\n      <td>8</td>\n      <td>0.638320</td>\n      <td>0.015171</td>\n      <td>9</td>\n    </tr>\n    <tr>\n      <th>0</th>\n      <td>4</td>\n      <td>0.582008</td>\n      <td>0.020961</td>\n      <td>10</td>\n    </tr>\n  </tbody>\n</table>\n</div>"
     },
     "metadata": {},
     "execution_count": 4
    }
   ],
   "source": [
    "c2GS = GridSearchCV(\n",
    "    estimator=SVC(),\n",
    "    cv=15,\n",
    "    param_grid={\n",
    "        'C':np.arange(4, 44, 4),\n",
    "        'decision_function_shape':['ovo'],\n",
    "        'cache_size':[1000]}\n",
    ").fit(\n",
    "    X_train,\n",
    "    y_train\n",
    ")\n",
    "\n",
    "kernelDF = pd.DataFrame(c2GS.cv_results_)\n",
    "kernelDF[['param_C', 'mean_test_score', 'std_test_score', 'rank_test_score']].sort_values(by='rank_test_score')"
   ]
  },
  {
   "cell_type": "code",
   "execution_count": 5,
   "metadata": {},
   "outputs": [
    {
     "output_type": "execute_result",
     "data": {
      "text/plain": "  param_C  mean_test_score  std_test_score  rank_test_score\n5     100         0.749875        0.017695                1\n4      90         0.746948        0.016612                2\n3      80         0.745120        0.018343                3\n2      70         0.744387        0.017141                4\n1      60         0.741276        0.018650                5\n0      50         0.735059        0.017280                6",
      "text/html": "<div>\n<style scoped>\n    .dataframe tbody tr th:only-of-type {\n        vertical-align: middle;\n    }\n\n    .dataframe tbody tr th {\n        vertical-align: top;\n    }\n\n    .dataframe thead th {\n        text-align: right;\n    }\n</style>\n<table border=\"1\" class=\"dataframe\">\n  <thead>\n    <tr style=\"text-align: right;\">\n      <th></th>\n      <th>param_C</th>\n      <th>mean_test_score</th>\n      <th>std_test_score</th>\n      <th>rank_test_score</th>\n    </tr>\n  </thead>\n  <tbody>\n    <tr>\n      <th>5</th>\n      <td>100</td>\n      <td>0.749875</td>\n      <td>0.017695</td>\n      <td>1</td>\n    </tr>\n    <tr>\n      <th>4</th>\n      <td>90</td>\n      <td>0.746948</td>\n      <td>0.016612</td>\n      <td>2</td>\n    </tr>\n    <tr>\n      <th>3</th>\n      <td>80</td>\n      <td>0.745120</td>\n      <td>0.018343</td>\n      <td>3</td>\n    </tr>\n    <tr>\n      <th>2</th>\n      <td>70</td>\n      <td>0.744387</td>\n      <td>0.017141</td>\n      <td>4</td>\n    </tr>\n    <tr>\n      <th>1</th>\n      <td>60</td>\n      <td>0.741276</td>\n      <td>0.018650</td>\n      <td>5</td>\n    </tr>\n    <tr>\n      <th>0</th>\n      <td>50</td>\n      <td>0.735059</td>\n      <td>0.017280</td>\n      <td>6</td>\n    </tr>\n  </tbody>\n</table>\n</div>"
     },
     "metadata": {},
     "execution_count": 5
    }
   ],
   "source": [
    "c3GS = GridSearchCV(\n",
    "    estimator=SVC(),\n",
    "    cv=15,\n",
    "    param_grid={\n",
    "        'C':np.arange(50, 110, 10),\n",
    "        'decision_function_shape':['ovo'],\n",
    "        'cache_size':[1000]}\n",
    ").fit(\n",
    "    X_train,\n",
    "    y_train\n",
    ")\n",
    "\n",
    "kernelDF = pd.DataFrame(c3GS.cv_results_)\n",
    "kernelDF[['param_C', 'mean_test_score', 'std_test_score', 'rank_test_score']].sort_values(by='rank_test_score')"
   ]
  },
  {
   "cell_type": "code",
   "execution_count": 6,
   "metadata": {},
   "outputs": [
    {
     "output_type": "execute_result",
     "data": {
      "text/plain": "  param_C  mean_test_score  std_test_score  rank_test_score\n4     200         0.760662        0.017976                1\n3     180         0.758284        0.018180                2\n2     160         0.757920        0.017856                3\n1     140         0.756091        0.017233                4\n0     120         0.753346        0.018018                5",
      "text/html": "<div>\n<style scoped>\n    .dataframe tbody tr th:only-of-type {\n        vertical-align: middle;\n    }\n\n    .dataframe tbody tr th {\n        vertical-align: top;\n    }\n\n    .dataframe thead th {\n        text-align: right;\n    }\n</style>\n<table border=\"1\" class=\"dataframe\">\n  <thead>\n    <tr style=\"text-align: right;\">\n      <th></th>\n      <th>param_C</th>\n      <th>mean_test_score</th>\n      <th>std_test_score</th>\n      <th>rank_test_score</th>\n    </tr>\n  </thead>\n  <tbody>\n    <tr>\n      <th>4</th>\n      <td>200</td>\n      <td>0.760662</td>\n      <td>0.017976</td>\n      <td>1</td>\n    </tr>\n    <tr>\n      <th>3</th>\n      <td>180</td>\n      <td>0.758284</td>\n      <td>0.018180</td>\n      <td>2</td>\n    </tr>\n    <tr>\n      <th>2</th>\n      <td>160</td>\n      <td>0.757920</td>\n      <td>0.017856</td>\n      <td>3</td>\n    </tr>\n    <tr>\n      <th>1</th>\n      <td>140</td>\n      <td>0.756091</td>\n      <td>0.017233</td>\n      <td>4</td>\n    </tr>\n    <tr>\n      <th>0</th>\n      <td>120</td>\n      <td>0.753346</td>\n      <td>0.018018</td>\n      <td>5</td>\n    </tr>\n  </tbody>\n</table>\n</div>"
     },
     "metadata": {},
     "execution_count": 6
    }
   ],
   "source": [
    "c4GS = GridSearchCV(\n",
    "    estimator=SVC(),\n",
    "    cv=15,\n",
    "    param_grid={\n",
    "        'C':np.arange(120, 220, 20),\n",
    "        'decision_function_shape':['ovo'],\n",
    "        'cache_size':[1000]}\n",
    ").fit(\n",
    "    X_train,\n",
    "    y_train\n",
    ")\n",
    "\n",
    "kernelDF = pd.DataFrame(c4GS.cv_results_)\n",
    "kernelDF[['param_C', 'mean_test_score', 'std_test_score', 'rank_test_score']].sort_values(by='rank_test_score')"
   ]
  }
 ],
 "metadata": {
  "language_info": {
   "codemirror_mode": {
    "name": "ipython",
    "version": 3
   },
   "file_extension": ".py",
   "mimetype": "text/x-python",
   "name": "python",
   "nbconvert_exporter": "python",
   "pygments_lexer": "ipython3",
   "version": "3.7.7-final"
  },
  "orig_nbformat": 2,
  "kernelspec": {
   "name": "ml_venv",
   "display_name": "ML_venv"
  }
 },
 "nbformat": 4,
 "nbformat_minor": 2
}