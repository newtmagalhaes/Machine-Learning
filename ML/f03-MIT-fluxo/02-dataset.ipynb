{
 "metadata": {
  "language_info": {
   "codemirror_mode": {
    "name": "ipython",
    "version": 3
   },
   "file_extension": ".py",
   "mimetype": "text/x-python",
   "name": "python",
   "nbconvert_exporter": "python",
   "pygments_lexer": "ipython3",
   "version": "3.7.7"
  },
  "orig_nbformat": 2,
  "kernelspec": {
   "name": "python377jvsc74a57bd068ad0e59a91b06897043873f612d559c9a964f72e80aa2425e08d1c8fbba60c0",
   "display_name": "Python 3.7.7 64-bit ('ml_venv': conda)"
  }
 },
 "nbformat": 4,
 "nbformat_minor": 2,
 "cells": [
  {
   "cell_type": "markdown",
   "metadata": {},
   "source": [
    "# Gerando dataset em arquivo csv\n",
    "\n",
    "## Importando bibliotecas"
   ]
  },
  {
   "cell_type": "code",
   "execution_count": 1,
   "metadata": {},
   "outputs": [],
   "source": [
    "import numpy as np\n",
    "import pandas as pd\n",
    "import seaborn as sns\n",
    "from zipfile import ZipFile\n",
    "\n",
    "from feat_set_ext import *"
   ]
  },
  {
   "cell_type": "markdown",
   "metadata": {},
   "source": [
    "## Criando lista de DataFrames por amostra"
   ]
  },
  {
   "cell_type": "code",
   "execution_count": 2,
   "metadata": {},
   "outputs": [],
   "source": [
    "HEADER_LINE_OF_CSV = 19\n",
    "list_of_df = []\n",
    "\n",
    "with ZipFile('./fluxo.zip') as fluxo:\n",
    "    path_list = fluxo.namelist()\n",
    "    path_list.sort()\n",
    "    for file_path in filter(lambda string: '.csv' in string, path_list):\n",
    "        with fluxo.open(file_path) as csv_file:\n",
    "            signal = pd.read_csv(csv_file, header=HEADER_LINE_OF_CSV)[['CH1']].values.flatten()\n",
    "            list_of_df.append(create_fs20(signal, file_path))"
   ]
  },
  {
   "cell_type": "markdown",
   "metadata": {},
   "source": [
    "## Gerando arquivos csv"
   ]
  },
  {
   "cell_type": "code",
   "execution_count": 3,
   "metadata": {},
   "outputs": [
    {
     "output_type": "execute_result",
     "data": {
      "text/plain": [
       "   MeanAD-A5  MeanAD-D4  MeanAD-D3  MedianAD-A5      Energy-A5  MedianAD-D5  \\\n",
       "0   0.478198   0.086020   0.038056     0.637963  265202.616809     0.187633   \n",
       "1   0.475344   0.085821   0.037986     0.641705  265146.596130     0.185012   \n",
       "2   0.480317   0.085428   0.037994     0.655420  265173.675794     0.184159   \n",
       "3   0.471190   0.083805   0.037057     0.598311  263826.387460     0.176982   \n",
       "4   0.470342   0.083314   0.037003     0.607864  263950.043210     0.177187   \n",
       "\n",
       "    Energy-D5  MedianAD-D4  Energy-D4  MedianAD-D3  Energy-D3   Kurt-A5  \\\n",
       "0  124.557840     0.118557  65.170220     0.051194  26.593132 -0.724753   \n",
       "1  122.217348     0.119766  64.525229     0.051161  26.296542 -0.741694   \n",
       "2  122.702194     0.117915  64.366580     0.051516  26.373236 -0.770183   \n",
       "3  117.526827     0.115591  61.910702     0.049583  25.154780 -0.557662   \n",
       "4  117.401925     0.116743  61.140724     0.049381  25.058178 -0.542239   \n",
       "\n",
       "    Kurt-D5   Skew-D4  frequence  target  \n",
       "0 -0.363398 -0.067063         30       0  \n",
       "1 -0.350619 -0.062657         30       0  \n",
       "2 -0.388830 -0.054136         30       0  \n",
       "3 -0.321497 -0.059188         30       0  \n",
       "4 -0.324286 -0.073999         30       0  "
      ],
      "text/html": "<div>\n<style scoped>\n    .dataframe tbody tr th:only-of-type {\n        vertical-align: middle;\n    }\n\n    .dataframe tbody tr th {\n        vertical-align: top;\n    }\n\n    .dataframe thead th {\n        text-align: right;\n    }\n</style>\n<table border=\"1\" class=\"dataframe\">\n  <thead>\n    <tr style=\"text-align: right;\">\n      <th></th>\n      <th>MeanAD-A5</th>\n      <th>MeanAD-D4</th>\n      <th>MeanAD-D3</th>\n      <th>MedianAD-A5</th>\n      <th>Energy-A5</th>\n      <th>MedianAD-D5</th>\n      <th>Energy-D5</th>\n      <th>MedianAD-D4</th>\n      <th>Energy-D4</th>\n      <th>MedianAD-D3</th>\n      <th>Energy-D3</th>\n      <th>Kurt-A5</th>\n      <th>Kurt-D5</th>\n      <th>Skew-D4</th>\n      <th>frequence</th>\n      <th>target</th>\n    </tr>\n  </thead>\n  <tbody>\n    <tr>\n      <th>0</th>\n      <td>0.478198</td>\n      <td>0.086020</td>\n      <td>0.038056</td>\n      <td>0.637963</td>\n      <td>265202.616809</td>\n      <td>0.187633</td>\n      <td>124.557840</td>\n      <td>0.118557</td>\n      <td>65.170220</td>\n      <td>0.051194</td>\n      <td>26.593132</td>\n      <td>-0.724753</td>\n      <td>-0.363398</td>\n      <td>-0.067063</td>\n      <td>30</td>\n      <td>0</td>\n    </tr>\n    <tr>\n      <th>1</th>\n      <td>0.475344</td>\n      <td>0.085821</td>\n      <td>0.037986</td>\n      <td>0.641705</td>\n      <td>265146.596130</td>\n      <td>0.185012</td>\n      <td>122.217348</td>\n      <td>0.119766</td>\n      <td>64.525229</td>\n      <td>0.051161</td>\n      <td>26.296542</td>\n      <td>-0.741694</td>\n      <td>-0.350619</td>\n      <td>-0.062657</td>\n      <td>30</td>\n      <td>0</td>\n    </tr>\n    <tr>\n      <th>2</th>\n      <td>0.480317</td>\n      <td>0.085428</td>\n      <td>0.037994</td>\n      <td>0.655420</td>\n      <td>265173.675794</td>\n      <td>0.184159</td>\n      <td>122.702194</td>\n      <td>0.117915</td>\n      <td>64.366580</td>\n      <td>0.051516</td>\n      <td>26.373236</td>\n      <td>-0.770183</td>\n      <td>-0.388830</td>\n      <td>-0.054136</td>\n      <td>30</td>\n      <td>0</td>\n    </tr>\n    <tr>\n      <th>3</th>\n      <td>0.471190</td>\n      <td>0.083805</td>\n      <td>0.037057</td>\n      <td>0.598311</td>\n      <td>263826.387460</td>\n      <td>0.176982</td>\n      <td>117.526827</td>\n      <td>0.115591</td>\n      <td>61.910702</td>\n      <td>0.049583</td>\n      <td>25.154780</td>\n      <td>-0.557662</td>\n      <td>-0.321497</td>\n      <td>-0.059188</td>\n      <td>30</td>\n      <td>0</td>\n    </tr>\n    <tr>\n      <th>4</th>\n      <td>0.470342</td>\n      <td>0.083314</td>\n      <td>0.037003</td>\n      <td>0.607864</td>\n      <td>263950.043210</td>\n      <td>0.177187</td>\n      <td>117.401925</td>\n      <td>0.116743</td>\n      <td>61.140724</td>\n      <td>0.049381</td>\n      <td>25.058178</td>\n      <td>-0.542239</td>\n      <td>-0.324286</td>\n      <td>-0.073999</td>\n      <td>30</td>\n      <td>0</td>\n    </tr>\n  </tbody>\n</table>\n</div>"
     },
     "metadata": {},
     "execution_count": 3
    }
   ],
   "source": [
    "data_df = pd.concat(list_of_df, ignore_index=True)\n",
    "\n",
    "data_df.replace(np.inf, np.NaN)\n",
    "data_df.dropna(inplace=True)\n",
    "\n",
    "data_df.to_csv('./csvs/fs20.csv', index=False)\n",
    "\n",
    "data_df.head()"
   ]
  },
  {
   "cell_type": "code",
   "execution_count": 4,
   "metadata": {},
   "outputs": [
    {
     "output_type": "execute_result",
     "data": {
      "text/plain": [
       "         MeanAD-A5    MeanAD-D4    MeanAD-D3  MedianAD-A5      Energy-A5  \\\n",
       "count  2591.000000  2591.000000  2591.000000  2591.000000    2591.000000   \n",
       "mean      0.493828     0.072729     0.033635     0.656545  262632.467236   \n",
       "std       0.391148     0.031626     0.007943     0.537579    3404.639894   \n",
       "min       0.160341     0.030767     0.020894     0.211590  254064.570828   \n",
       "25%       0.227488     0.044032     0.027731     0.301606  260302.458763   \n",
       "50%       0.383412     0.069741     0.031330     0.529513  262097.833295   \n",
       "75%       0.492917     0.088386     0.040853     0.653687  264116.147677   \n",
       "max       1.926847     0.194740     0.059884     2.922854  276162.845571   \n",
       "\n",
       "       MedianAD-D5    Energy-D5  MedianAD-D4    Energy-D4  MedianAD-D3  \\\n",
       "count  2591.000000  2591.000000  2591.000000  2591.000000  2591.000000   \n",
       "mean      0.341381   306.674887     0.094024    59.052809     0.044151   \n",
       "std       0.180997   299.212143     0.039903    54.364024     0.009982   \n",
       "min       0.067091    16.155064     0.038593     9.246443     0.027942   \n",
       "25%       0.199464   101.484382     0.059879    18.192438     0.036956   \n",
       "50%       0.302422   201.375363     0.093198    42.412413     0.041104   \n",
       "75%       0.449921   402.249491     0.112156    71.277793     0.052984   \n",
       "max       0.830811  1407.096739     0.274176   330.260622     0.078213   \n",
       "\n",
       "         Energy-D3      Kurt-A5      Kurt-D5      Skew-D4    frequence  \\\n",
       "count  2591.000000  2591.000000  2591.000000  2591.000000  2591.000000   \n",
       "mean     22.411848    -0.881533    -0.911116     0.035692    45.111926   \n",
       "std      11.006087     0.315756     0.363825     0.087622    10.008057   \n",
       "min       7.744998    -1.458222    -1.525245    -0.218854    30.000000   \n",
       "25%      14.360976    -1.103226    -1.226955    -0.026409    35.000000   \n",
       "50%      18.361013    -0.938204    -0.967632     0.020849    45.000000   \n",
       "75%      31.537654    -0.687654    -0.638916     0.091792    55.000000   \n",
       "max      67.052858     0.134414     0.142201     0.311011    60.000000   \n",
       "\n",
       "            target  \n",
       "count  2591.000000  \n",
       "mean      2.992667  \n",
       "std       1.978539  \n",
       "min       0.000000  \n",
       "25%       1.000000  \n",
       "50%       3.000000  \n",
       "75%       5.000000  \n",
       "max       6.000000  "
      ],
      "text/html": "<div>\n<style scoped>\n    .dataframe tbody tr th:only-of-type {\n        vertical-align: middle;\n    }\n\n    .dataframe tbody tr th {\n        vertical-align: top;\n    }\n\n    .dataframe thead th {\n        text-align: right;\n    }\n</style>\n<table border=\"1\" class=\"dataframe\">\n  <thead>\n    <tr style=\"text-align: right;\">\n      <th></th>\n      <th>MeanAD-A5</th>\n      <th>MeanAD-D4</th>\n      <th>MeanAD-D3</th>\n      <th>MedianAD-A5</th>\n      <th>Energy-A5</th>\n      <th>MedianAD-D5</th>\n      <th>Energy-D5</th>\n      <th>MedianAD-D4</th>\n      <th>Energy-D4</th>\n      <th>MedianAD-D3</th>\n      <th>Energy-D3</th>\n      <th>Kurt-A5</th>\n      <th>Kurt-D5</th>\n      <th>Skew-D4</th>\n      <th>frequence</th>\n      <th>target</th>\n    </tr>\n  </thead>\n  <tbody>\n    <tr>\n      <th>count</th>\n      <td>2591.000000</td>\n      <td>2591.000000</td>\n      <td>2591.000000</td>\n      <td>2591.000000</td>\n      <td>2591.000000</td>\n      <td>2591.000000</td>\n      <td>2591.000000</td>\n      <td>2591.000000</td>\n      <td>2591.000000</td>\n      <td>2591.000000</td>\n      <td>2591.000000</td>\n      <td>2591.000000</td>\n      <td>2591.000000</td>\n      <td>2591.000000</td>\n      <td>2591.000000</td>\n      <td>2591.000000</td>\n    </tr>\n    <tr>\n      <th>mean</th>\n      <td>0.493828</td>\n      <td>0.072729</td>\n      <td>0.033635</td>\n      <td>0.656545</td>\n      <td>262632.467236</td>\n      <td>0.341381</td>\n      <td>306.674887</td>\n      <td>0.094024</td>\n      <td>59.052809</td>\n      <td>0.044151</td>\n      <td>22.411848</td>\n      <td>-0.881533</td>\n      <td>-0.911116</td>\n      <td>0.035692</td>\n      <td>45.111926</td>\n      <td>2.992667</td>\n    </tr>\n    <tr>\n      <th>std</th>\n      <td>0.391148</td>\n      <td>0.031626</td>\n      <td>0.007943</td>\n      <td>0.537579</td>\n      <td>3404.639894</td>\n      <td>0.180997</td>\n      <td>299.212143</td>\n      <td>0.039903</td>\n      <td>54.364024</td>\n      <td>0.009982</td>\n      <td>11.006087</td>\n      <td>0.315756</td>\n      <td>0.363825</td>\n      <td>0.087622</td>\n      <td>10.008057</td>\n      <td>1.978539</td>\n    </tr>\n    <tr>\n      <th>min</th>\n      <td>0.160341</td>\n      <td>0.030767</td>\n      <td>0.020894</td>\n      <td>0.211590</td>\n      <td>254064.570828</td>\n      <td>0.067091</td>\n      <td>16.155064</td>\n      <td>0.038593</td>\n      <td>9.246443</td>\n      <td>0.027942</td>\n      <td>7.744998</td>\n      <td>-1.458222</td>\n      <td>-1.525245</td>\n      <td>-0.218854</td>\n      <td>30.000000</td>\n      <td>0.000000</td>\n    </tr>\n    <tr>\n      <th>25%</th>\n      <td>0.227488</td>\n      <td>0.044032</td>\n      <td>0.027731</td>\n      <td>0.301606</td>\n      <td>260302.458763</td>\n      <td>0.199464</td>\n      <td>101.484382</td>\n      <td>0.059879</td>\n      <td>18.192438</td>\n      <td>0.036956</td>\n      <td>14.360976</td>\n      <td>-1.103226</td>\n      <td>-1.226955</td>\n      <td>-0.026409</td>\n      <td>35.000000</td>\n      <td>1.000000</td>\n    </tr>\n    <tr>\n      <th>50%</th>\n      <td>0.383412</td>\n      <td>0.069741</td>\n      <td>0.031330</td>\n      <td>0.529513</td>\n      <td>262097.833295</td>\n      <td>0.302422</td>\n      <td>201.375363</td>\n      <td>0.093198</td>\n      <td>42.412413</td>\n      <td>0.041104</td>\n      <td>18.361013</td>\n      <td>-0.938204</td>\n      <td>-0.967632</td>\n      <td>0.020849</td>\n      <td>45.000000</td>\n      <td>3.000000</td>\n    </tr>\n    <tr>\n      <th>75%</th>\n      <td>0.492917</td>\n      <td>0.088386</td>\n      <td>0.040853</td>\n      <td>0.653687</td>\n      <td>264116.147677</td>\n      <td>0.449921</td>\n      <td>402.249491</td>\n      <td>0.112156</td>\n      <td>71.277793</td>\n      <td>0.052984</td>\n      <td>31.537654</td>\n      <td>-0.687654</td>\n      <td>-0.638916</td>\n      <td>0.091792</td>\n      <td>55.000000</td>\n      <td>5.000000</td>\n    </tr>\n    <tr>\n      <th>max</th>\n      <td>1.926847</td>\n      <td>0.194740</td>\n      <td>0.059884</td>\n      <td>2.922854</td>\n      <td>276162.845571</td>\n      <td>0.830811</td>\n      <td>1407.096739</td>\n      <td>0.274176</td>\n      <td>330.260622</td>\n      <td>0.078213</td>\n      <td>67.052858</td>\n      <td>0.134414</td>\n      <td>0.142201</td>\n      <td>0.311011</td>\n      <td>60.000000</td>\n      <td>6.000000</td>\n    </tr>\n  </tbody>\n</table>\n</div>"
     },
     "metadata": {},
     "execution_count": 4
    }
   ],
   "source": [
    "data_df.describe()"
   ]
  }
 ]
}