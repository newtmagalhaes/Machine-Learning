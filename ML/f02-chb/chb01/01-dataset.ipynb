{
 "metadata": {
  "language_info": {
   "codemirror_mode": {
    "name": "ipython",
    "version": 3
   },
   "file_extension": ".py",
   "mimetype": "text/x-python",
   "name": "python",
   "nbconvert_exporter": "python",
   "pygments_lexer": "ipython3",
   "version": "3.7.7-final"
  },
  "orig_nbformat": 2,
  "kernelspec": {
   "name": "ml_venv",
   "display_name": "ML_venv"
  }
 },
 "nbformat": 4,
 "nbformat_minor": 2,
 "cells": [
  {
   "cell_type": "markdown",
   "metadata": {},
   "source": [
    "# CHB dataset\n",
    "\n",
    "Gerando dataset `chb01.csv`\n",
    "\n",
    "> `neg` e `pos` em variáveis se referem às classes (`target`):\n",
    "    \n",
    "- 0: negativo\n",
    "- 1: positivo\n",
    "\n",
    "## Importando bibliotecas"
   ]
  },
  {
   "cell_type": "code",
   "execution_count": 1,
   "metadata": {},
   "outputs": [],
   "source": [
    "import numpy as np\n",
    "import pandas as pd\n",
    "\n",
    "from zipfile import ZipFile\n",
    "from statsmodels.robust.scale import mad as medianAD"
   ]
  },
  {
   "cell_type": "markdown",
   "metadata": {},
   "source": [
    "## Definindo função para extração de _features_"
   ]
  },
  {
   "cell_type": "code",
   "execution_count": 2,
   "metadata": {},
   "outputs": [],
   "source": [
    "# Colunas do Dataset\n",
    "labels = [f'{feature}-{column}' for column in range(18) for feature in ['std', 'mean', 'skew', 'kurt', 'meanAD', 'medianAD', 'energy']] + ['target']\n",
    "\n",
    "def extract_statistical_features(matrix: np.ndarray, target: np.float64) -> pd.DataFrame:\n",
    "    '''\n",
    "    É esperado como entrada uma matrix de dimensões 18 x 512.\n",
    "\n",
    "    Durante a execução, um dataframe statsDF de dimensões 7 x 18\n",
    "\n",
    "    Ao fim um DataFrame com 127 colunas e 1 linha\n",
    "    126 (7 * 18 do statsDF) + 1 (do target)\n",
    "    '''\n",
    "\n",
    "    energy = lambda mat: (mat ** 2).sum(axis=1)\n",
    "\n",
    "    matrixDF, statsDF = pd.DataFrame(data=matrix).transpose(), pd.DataFrame()\n",
    "\n",
    "    statsDF['std'] = matrixDF.std()\n",
    "    statsDF['mean'] = matrixDF.mean()\n",
    "    statsDF['skew'] = matrixDF.skew()\n",
    "    statsDF['kurt'] = matrixDF.kurt()\n",
    "    statsDF['meanAD'] = matrixDF.mad()\n",
    "    statsDF['medianAD'] = medianAD(matrixDF)\n",
    "    statsDF['energy'] = energy(matrix)\n",
    "    \n",
    "    column = list(statsDF.values.reshape(126)) + [target]\n",
    "\n",
    "    rowDF = pd.DataFrame(data=column, index=labels).transpose()\n",
    "\n",
    "    return rowDF"
   ]
  },
  {
   "cell_type": "markdown",
   "metadata": {},
   "source": [
    "## Carregando Matrizes de arquivo zip"
   ]
  },
  {
   "cell_type": "code",
   "execution_count": 3,
   "metadata": {
    "tags": []
   },
   "outputs": [
    {
     "output_type": "stream",
     "name": "stdout",
     "text": "pos_list: 216\tneg_list: 216\npos_space.shape: (216, 18, 512)\tneg_space.shape: (216, 18, 512)\npos_space.dtype: float64\tneg_space.dtype: float64\n"
    }
   ],
   "source": [
    "with ZipFile('chb01.zip', 'r') as data:\n",
    "    # Cria uma lista com os nomes dos arquivos dentro do zip e os ordena\n",
    "    file_list = data.namelist()\n",
    "    file_list.sort()\n",
    "\n",
    "    pos_list = [pos for pos in file_list if ('chb01/positive/' in pos)]\n",
    "    neg_list = [file_list[i] for i in range(len(pos_list))]\n",
    "\n",
    "    print(f'pos_list: {len(pos_list)}\\tneg_list: {len(neg_list)}')\n",
    "\n",
    "    pos_space, neg_space = [], []\n",
    "    \n",
    "    # Cada arquivo é uma matriz que será salva nas listas {pos, neg}_space\n",
    "    for pos_file, neg_file in zip(pos_list, neg_list):\n",
    "        with data.open(name=pos_file, mode='r') as pos, data.open(name=neg_file, mode='r') as neg:\n",
    "            pos_space.append(np.load(pos))\n",
    "            neg_space.append(np.load(neg))\n",
    "\n",
    "    # Convertendo listas para arrays\n",
    "    pos_space = np.array(pos_space, dtype=np.float64)\n",
    "    neg_space = np.array(neg_space, dtype=np.float64)\n",
    "    \n",
    "    print(f'pos_space.shape: {pos_space.shape}\\tneg_space.shape: {neg_space.shape}')\n",
    "    print(f'pos_space.dtype: {pos_space.dtype}\\tneg_space.dtype: {neg_space.dtype}')"
   ]
  },
  {
   "cell_type": "markdown",
   "metadata": {},
   "source": [
    "## Extraindo atributos"
   ]
  },
  {
   "cell_type": "code",
   "execution_count": 4,
   "metadata": {
    "tags": []
   },
   "outputs": [
    {
     "output_type": "execute_result",
     "data": {
      "text/plain": "        std-0    mean-0    skew-0    kurt-0  meanAD-0  medianAD-0  \\\n0    0.627303  0.172795  0.769000  1.204490  0.495133    0.565023   \n1    0.620640 -0.002412  0.586425  1.930250  0.468183    0.552915   \n2    0.373727 -0.000243  0.162980  0.222483  0.292714    0.355157   \n3    1.180971  0.026585  2.207182  7.923325  0.636369    0.411660   \n4    1.367195  0.083176  1.601121  7.791932  0.813831    0.669956   \n..        ...       ...       ...       ...       ...         ...   \n427  1.734864  0.189973 -0.434409 -0.196803  1.413317    1.785240   \n428  1.389863  0.119624  0.235493 -0.321001  1.131378    1.542033   \n429  1.494870 -0.068467  0.029137  0.312264  1.157461    1.366097   \n430  1.363770 -0.082891  0.571057  1.272426  1.059180    1.262605   \n431  1.188591 -0.075297 -0.082868  0.386189  0.904104    1.019398   \n\n        energy-0     std-1    mean-1    skew-1  ...  medianAD-16    energy-16  \\\n0     216.370324  0.693649  0.203381 -0.461872  ...     0.940461   569.233117   \n1     196.837180  0.685201 -0.063472  0.348192  ...     0.914337   463.816666   \n2      71.372244  0.512936  0.089147  0.361823  ...     1.188638   787.382472   \n3     713.049792  0.495783  0.011315 -0.638179  ...     1.175576   539.007678   \n4     958.715201  2.371494 -0.086806 -0.012601  ...     0.914337   625.666169   \n..           ...       ...       ...       ...  ...          ...          ...   \n427  1556.462688  1.348079  0.162067 -0.468730  ...     1.933745  2382.989550   \n428   994.435246  2.138321 -0.062255  0.139719  ...     1.395307  1450.315373   \n429  1144.299163  1.730368 -0.099793  0.248734  ...     2.257966  2693.343104   \n430   953.910072  1.603137 -0.282140 -0.225029  ...     1.557418  1267.710183   \n431   724.817464  1.760035  0.644648 -0.253313  ...     1.777425  1208.360450   \n\n       std-17   mean-17   skew-17   kurt-17  meanAD-17  medianAD-17  \\\n0    1.270521 -0.259197 -0.541244  0.361269   0.965853     0.970435   \n1    1.044232 -0.077918  0.025368 -0.525171   0.850698     1.122932   \n2    0.943828  0.073044  0.194259 -0.468731   0.751064     0.914981   \n3    1.047116 -0.131575  0.152097 -0.600635   0.846984     1.122932   \n4    0.977431  0.120894 -0.348281  0.281433   0.766334     0.914981   \n..        ...       ...       ...       ...        ...          ...   \n427  1.613827  0.083167  0.047172 -0.046523   1.271779     1.606071   \n428  1.115923 -0.266775 -0.394510  0.305225   0.855908     0.918414   \n429  1.252646 -0.415135 -0.405169 -0.385152   1.011867     1.329162   \n430  1.562439 -0.118513  0.256041 -0.342590   1.281636     1.679914   \n431  1.659911  0.313434 -0.170017 -0.059091   1.332571     1.578380   \n\n       energy-17  target  \n0     859.265535     0.0  \n1     560.313689     0.0  \n2     457.936278     0.0  \n3     569.150561     0.0  \n4     495.677609     0.0  \n..           ...     ...  \n427  1334.409583     1.0  \n428   672.778310     1.0  \n429   890.058502     1.0  \n430  1254.652481     1.0  \n431  1458.259954     1.0  \n\n[432 rows x 127 columns]",
      "text/html": "<div>\n<style scoped>\n    .dataframe tbody tr th:only-of-type {\n        vertical-align: middle;\n    }\n\n    .dataframe tbody tr th {\n        vertical-align: top;\n    }\n\n    .dataframe thead th {\n        text-align: right;\n    }\n</style>\n<table border=\"1\" class=\"dataframe\">\n  <thead>\n    <tr style=\"text-align: right;\">\n      <th></th>\n      <th>std-0</th>\n      <th>mean-0</th>\n      <th>skew-0</th>\n      <th>kurt-0</th>\n      <th>meanAD-0</th>\n      <th>medianAD-0</th>\n      <th>energy-0</th>\n      <th>std-1</th>\n      <th>mean-1</th>\n      <th>skew-1</th>\n      <th>...</th>\n      <th>medianAD-16</th>\n      <th>energy-16</th>\n      <th>std-17</th>\n      <th>mean-17</th>\n      <th>skew-17</th>\n      <th>kurt-17</th>\n      <th>meanAD-17</th>\n      <th>medianAD-17</th>\n      <th>energy-17</th>\n      <th>target</th>\n    </tr>\n  </thead>\n  <tbody>\n    <tr>\n      <th>0</th>\n      <td>0.627303</td>\n      <td>0.172795</td>\n      <td>0.769000</td>\n      <td>1.204490</td>\n      <td>0.495133</td>\n      <td>0.565023</td>\n      <td>216.370324</td>\n      <td>0.693649</td>\n      <td>0.203381</td>\n      <td>-0.461872</td>\n      <td>...</td>\n      <td>0.940461</td>\n      <td>569.233117</td>\n      <td>1.270521</td>\n      <td>-0.259197</td>\n      <td>-0.541244</td>\n      <td>0.361269</td>\n      <td>0.965853</td>\n      <td>0.970435</td>\n      <td>859.265535</td>\n      <td>0.0</td>\n    </tr>\n    <tr>\n      <th>1</th>\n      <td>0.620640</td>\n      <td>-0.002412</td>\n      <td>0.586425</td>\n      <td>1.930250</td>\n      <td>0.468183</td>\n      <td>0.552915</td>\n      <td>196.837180</td>\n      <td>0.685201</td>\n      <td>-0.063472</td>\n      <td>0.348192</td>\n      <td>...</td>\n      <td>0.914337</td>\n      <td>463.816666</td>\n      <td>1.044232</td>\n      <td>-0.077918</td>\n      <td>0.025368</td>\n      <td>-0.525171</td>\n      <td>0.850698</td>\n      <td>1.122932</td>\n      <td>560.313689</td>\n      <td>0.0</td>\n    </tr>\n    <tr>\n      <th>2</th>\n      <td>0.373727</td>\n      <td>-0.000243</td>\n      <td>0.162980</td>\n      <td>0.222483</td>\n      <td>0.292714</td>\n      <td>0.355157</td>\n      <td>71.372244</td>\n      <td>0.512936</td>\n      <td>0.089147</td>\n      <td>0.361823</td>\n      <td>...</td>\n      <td>1.188638</td>\n      <td>787.382472</td>\n      <td>0.943828</td>\n      <td>0.073044</td>\n      <td>0.194259</td>\n      <td>-0.468731</td>\n      <td>0.751064</td>\n      <td>0.914981</td>\n      <td>457.936278</td>\n      <td>0.0</td>\n    </tr>\n    <tr>\n      <th>3</th>\n      <td>1.180971</td>\n      <td>0.026585</td>\n      <td>2.207182</td>\n      <td>7.923325</td>\n      <td>0.636369</td>\n      <td>0.411660</td>\n      <td>713.049792</td>\n      <td>0.495783</td>\n      <td>0.011315</td>\n      <td>-0.638179</td>\n      <td>...</td>\n      <td>1.175576</td>\n      <td>539.007678</td>\n      <td>1.047116</td>\n      <td>-0.131575</td>\n      <td>0.152097</td>\n      <td>-0.600635</td>\n      <td>0.846984</td>\n      <td>1.122932</td>\n      <td>569.150561</td>\n      <td>0.0</td>\n    </tr>\n    <tr>\n      <th>4</th>\n      <td>1.367195</td>\n      <td>0.083176</td>\n      <td>1.601121</td>\n      <td>7.791932</td>\n      <td>0.813831</td>\n      <td>0.669956</td>\n      <td>958.715201</td>\n      <td>2.371494</td>\n      <td>-0.086806</td>\n      <td>-0.012601</td>\n      <td>...</td>\n      <td>0.914337</td>\n      <td>625.666169</td>\n      <td>0.977431</td>\n      <td>0.120894</td>\n      <td>-0.348281</td>\n      <td>0.281433</td>\n      <td>0.766334</td>\n      <td>0.914981</td>\n      <td>495.677609</td>\n      <td>0.0</td>\n    </tr>\n    <tr>\n      <th>...</th>\n      <td>...</td>\n      <td>...</td>\n      <td>...</td>\n      <td>...</td>\n      <td>...</td>\n      <td>...</td>\n      <td>...</td>\n      <td>...</td>\n      <td>...</td>\n      <td>...</td>\n      <td>...</td>\n      <td>...</td>\n      <td>...</td>\n      <td>...</td>\n      <td>...</td>\n      <td>...</td>\n      <td>...</td>\n      <td>...</td>\n      <td>...</td>\n      <td>...</td>\n      <td>...</td>\n    </tr>\n    <tr>\n      <th>427</th>\n      <td>1.734864</td>\n      <td>0.189973</td>\n      <td>-0.434409</td>\n      <td>-0.196803</td>\n      <td>1.413317</td>\n      <td>1.785240</td>\n      <td>1556.462688</td>\n      <td>1.348079</td>\n      <td>0.162067</td>\n      <td>-0.468730</td>\n      <td>...</td>\n      <td>1.933745</td>\n      <td>2382.989550</td>\n      <td>1.613827</td>\n      <td>0.083167</td>\n      <td>0.047172</td>\n      <td>-0.046523</td>\n      <td>1.271779</td>\n      <td>1.606071</td>\n      <td>1334.409583</td>\n      <td>1.0</td>\n    </tr>\n    <tr>\n      <th>428</th>\n      <td>1.389863</td>\n      <td>0.119624</td>\n      <td>0.235493</td>\n      <td>-0.321001</td>\n      <td>1.131378</td>\n      <td>1.542033</td>\n      <td>994.435246</td>\n      <td>2.138321</td>\n      <td>-0.062255</td>\n      <td>0.139719</td>\n      <td>...</td>\n      <td>1.395307</td>\n      <td>1450.315373</td>\n      <td>1.115923</td>\n      <td>-0.266775</td>\n      <td>-0.394510</td>\n      <td>0.305225</td>\n      <td>0.855908</td>\n      <td>0.918414</td>\n      <td>672.778310</td>\n      <td>1.0</td>\n    </tr>\n    <tr>\n      <th>429</th>\n      <td>1.494870</td>\n      <td>-0.068467</td>\n      <td>0.029137</td>\n      <td>0.312264</td>\n      <td>1.157461</td>\n      <td>1.366097</td>\n      <td>1144.299163</td>\n      <td>1.730368</td>\n      <td>-0.099793</td>\n      <td>0.248734</td>\n      <td>...</td>\n      <td>2.257966</td>\n      <td>2693.343104</td>\n      <td>1.252646</td>\n      <td>-0.415135</td>\n      <td>-0.405169</td>\n      <td>-0.385152</td>\n      <td>1.011867</td>\n      <td>1.329162</td>\n      <td>890.058502</td>\n      <td>1.0</td>\n    </tr>\n    <tr>\n      <th>430</th>\n      <td>1.363770</td>\n      <td>-0.082891</td>\n      <td>0.571057</td>\n      <td>1.272426</td>\n      <td>1.059180</td>\n      <td>1.262605</td>\n      <td>953.910072</td>\n      <td>1.603137</td>\n      <td>-0.282140</td>\n      <td>-0.225029</td>\n      <td>...</td>\n      <td>1.557418</td>\n      <td>1267.710183</td>\n      <td>1.562439</td>\n      <td>-0.118513</td>\n      <td>0.256041</td>\n      <td>-0.342590</td>\n      <td>1.281636</td>\n      <td>1.679914</td>\n      <td>1254.652481</td>\n      <td>1.0</td>\n    </tr>\n    <tr>\n      <th>431</th>\n      <td>1.188591</td>\n      <td>-0.075297</td>\n      <td>-0.082868</td>\n      <td>0.386189</td>\n      <td>0.904104</td>\n      <td>1.019398</td>\n      <td>724.817464</td>\n      <td>1.760035</td>\n      <td>0.644648</td>\n      <td>-0.253313</td>\n      <td>...</td>\n      <td>1.777425</td>\n      <td>1208.360450</td>\n      <td>1.659911</td>\n      <td>0.313434</td>\n      <td>-0.170017</td>\n      <td>-0.059091</td>\n      <td>1.332571</td>\n      <td>1.578380</td>\n      <td>1458.259954</td>\n      <td>1.0</td>\n    </tr>\n  </tbody>\n</table>\n<p>432 rows × 127 columns</p>\n</div>"
     },
     "metadata": {},
     "execution_count": 4
    }
   ],
   "source": [
    "dataset = pd.DataFrame(columns=labels)\n",
    "\n",
    "for neg_matrix in neg_space: dataset = dataset.append(extract_statistical_features(matrix=neg_matrix, target=0), ignore_index=True)\n",
    "\n",
    "for pos_matrix in pos_space: dataset = dataset.append(extract_statistical_features(matrix=pos_matrix, target=1), ignore_index=True)\n",
    "\n",
    "dataset"
   ]
  },
  {
   "cell_type": "markdown",
   "metadata": {},
   "source": [
    "## Salvando dataset em arquivo csv"
   ]
  },
  {
   "cell_type": "code",
   "execution_count": 5,
   "metadata": {},
   "outputs": [],
   "source": [
    "dataset.to_csv(path_or_buf='chb01.csv', index=False)"
   ]
  }
 ]
}