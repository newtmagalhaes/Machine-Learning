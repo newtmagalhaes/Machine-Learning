{
 "metadata": {
  "language_info": {
   "codemirror_mode": {
    "name": "ipython",
    "version": 3
   },
   "file_extension": ".py",
   "mimetype": "text/x-python",
   "name": "python",
   "nbconvert_exporter": "python",
   "pygments_lexer": "ipython3",
   "version": "3.7.7-final"
  },
  "orig_nbformat": 2,
  "kernelspec": {
   "name": "ml_venv",
   "display_name": "ML_venv"
  }
 },
 "nbformat": 4,
 "nbformat_minor": 2,
 "cells": [
  {
   "cell_type": "markdown",
   "metadata": {},
   "source": [
    "# CHB dataset 2\n",
    "\n",
    "Gerando dataset `chb01dwt.csv`\n",
    "\n",
    "> `neg` e `pos` em variáveis se referem às classes (`target`):\n",
    "    \n",
    "- 0: negativo\n",
    "- 1: positivo\n",
    "\n",
    "## Importando bibliotecas"
   ]
  },
  {
   "cell_type": "code",
   "execution_count": 1,
   "metadata": {},
   "outputs": [],
   "source": [
    "import numpy as np\n",
    "import pandas as pd\n",
    "\n",
    "from pywt import wavedec\n",
    "from zipfile import ZipFile\n",
    "from statsmodels.robust.scale import mad as medianAD"
   ]
  },
  {
   "cell_type": "markdown",
   "metadata": {},
   "source": [
    "## Definindo função para extração de _features_"
   ]
  },
  {
   "cell_type": "code",
   "execution_count": 2,
   "metadata": {},
   "outputs": [],
   "source": [
    "# Colunas do Dataset\n",
    "decomposition_level = 5\n",
    "\n",
    "channels = [column for column in range(18)]\n",
    "\n",
    "dwt_coefs = [f'A{decomposition_level}'] + [f'D{level}' for level in range(1, decomposition_level + 1)]\n",
    "\n",
    "stats = ['std', 'mean', 'skew', 'kurt', 'meanAD', 'medianAD', 'energy']\n",
    "\n",
    "dataset_labels = [f'{feat}-{coef}-{column}' for column in channels for coef in dwt_coefs for feat in stats] + ['target']\n",
    "\n",
    "def energy(arr:np.ndarray):\n",
    "    return (arr ** 2).sum()\n",
    "\n",
    "def extract_statistical_features(matrix: np.ndarray, target: np.float64):\n",
    "    '''\n",
    "    É esperado como entrada uma matrix de dimensões 18 x 512.\n",
    "\n",
    "    Durante a execução, para cada uma das 18 colunas,\n",
    "    é gerado uma lista de 6 arrays de tamanhos variados\n",
    "    em função da wavedec.\n",
    "    De cada um dos 6 arrays é extraido 7 features.\n",
    "\n",
    "    um dataframe statsDF de dimensões 1 x 757 é retornado\n",
    "    com as features calculadas.\n",
    "    '''\n",
    "    statsDF = pd.DataFrame(columns=dataset_labels)\n",
    "    \n",
    "    for i, column in enumerate(matrix):\n",
    "        wavelet_coefs = wavedec(data=column, wavelet='db2', level=decomposition_level)\n",
    "\n",
    "        for coef, coef_label in zip(wavelet_coefs, dwt_coefs):\n",
    "            coefDF = pd.DataFrame(data=coef, dtype=np.float64)\n",
    "\n",
    "            statsDF[f'std-{coef_label}-{i}'] = coefDF.std()\n",
    "            statsDF[f'mean-{coef_label}-{i}'] = coefDF.mean()\n",
    "            statsDF[f'skew-{coef_label}-{i}'] = coefDF.skew()\n",
    "            statsDF[f'kurt-{coef_label}-{i}'] = coefDF.kurt()\n",
    "            statsDF[f'meanAD-{coef_label}-{i}'] = coefDF.mad()\n",
    "            statsDF[f'medianAD-{coef_label}-{i}'] = medianAD(coefDF)\n",
    "            statsDF[f'energy-{coef_label}-{i}'] = energy(coef)\n",
    "\n",
    "    statsDF['target'] = target\n",
    "    return statsDF"
   ]
  },
  {
   "cell_type": "markdown",
   "metadata": {},
   "source": [
    "## Carregando matrizes de arquivo zip"
   ]
  },
  {
   "cell_type": "code",
   "execution_count": 3,
   "metadata": {
    "tags": []
   },
   "outputs": [
    {
     "output_type": "stream",
     "name": "stdout",
     "text": "pos_list: 216\tneg_list: 216\npos_space.shape: (216, 18, 512)\tneg_space.shape: (216, 18, 512)\npos_space.dtype: float64\tneg_space.dtype: float64\n"
    }
   ],
   "source": [
    "with ZipFile('chb01.zip', 'r') as data:\n",
    "    # Cria uma lista com os nomes dos arquivos dentro do zip e os ordena\n",
    "    file_list = data.namelist()\n",
    "    file_list.sort()\n",
    "\n",
    "    pos_list = [pos for pos in file_list if ('chb01/positive/' in pos)]\n",
    "    neg_list = [file_list[i] for i in range(len(pos_list))]\n",
    "\n",
    "    print(f'pos_list: {len(pos_list)}\\tneg_list: {len(neg_list)}')\n",
    "\n",
    "    pos_space, neg_space = [], []\n",
    "    \n",
    "    # Cada arquivo é uma matriz que será salva nas listas {pos, neg}_space\n",
    "    for pos_file, neg_file in zip(pos_list, neg_list):\n",
    "        with data.open(name=pos_file, mode='r') as pos, data.open(name=neg_file, mode='r') as neg:\n",
    "            pos_space.append(np.load(pos))\n",
    "            neg_space.append(np.load(neg))\n",
    "\n",
    "    # Convertendo listas para arrays\n",
    "    pos_space = np.array(pos_space, dtype=np.float64)\n",
    "    neg_space = np.array(neg_space, dtype=np.float64)\n",
    "    \n",
    "    print(f'pos_space.shape: {pos_space.shape}\\tneg_space.shape: {neg_space.shape}')\n",
    "    print(f'pos_space.dtype: {pos_space.dtype}\\tneg_space.dtype: {neg_space.dtype}')"
   ]
  },
  {
   "cell_type": "markdown",
   "metadata": {},
   "source": [
    "## Extraindo atributos e gerando dataset"
   ]
  },
  {
   "cell_type": "code",
   "execution_count": 4,
   "metadata": {},
   "outputs": [
    {
     "output_type": "execute_result",
     "data": {
      "text/plain": "      std-A5-0  mean-A5-0  skew-A5-0  kurt-A5-0  meanAD-A5-0  medianAD-A5-0  \\\n0     3.593364   0.216540  -0.094793  -0.433591     2.926054       3.511545   \n1     1.816498  -0.295746  -0.291568  -0.089431     1.388092       1.470678   \n2     1.033265  -0.222589  -0.128894  -0.019169     0.798095       1.126226   \n3     6.742059  -0.973794   1.032822   3.348853     4.153082       2.823792   \n4     2.674359   0.606153   1.014332   0.611186     2.028158       1.912554   \n..         ...        ...        ...        ...          ...            ...   \n427  11.641523  -1.442873  -0.672817  -0.150385     9.404927      11.411076   \n428   5.727706   0.690229  -0.314147  -0.232164     4.526871       5.207138   \n429   6.815891  -0.970531   0.039953   0.297670     5.250815       5.782513   \n430   4.284559   0.094329  -0.121168  -1.153871     3.681980       5.208136   \n431   4.348616  -0.135307  -0.302771   0.934576     3.222486       2.470023   \n\n     energy-A5-0  std-D1-0  mean-D1-0  skew-D1-0  ...  medianAD-D4-17  \\\n0     220.352545  1.649358  -0.241962   1.336603  ...        0.246915   \n1      57.668709  1.314164  -0.060795  -0.387001  ...        0.292721   \n2      19.041665  0.550211  -0.093055   0.467804  ...        0.235618   \n3     789.810078  2.680230  -0.281228  -0.385256  ...        0.238205   \n4     128.200885  2.433295   0.470605   0.662752  ...        0.333727   \n..           ...       ...        ...        ...  ...             ...   \n427  2341.399848  3.168720  -0.095671   0.046638  ...        0.169242   \n428   566.287925  4.525284  -0.027240   0.359718  ...        0.211461   \n429   806.713046  3.926995  -0.258531   0.015235  ...        0.209638   \n430   312.236815  5.096354   0.381901   0.742932  ...        0.189870   \n431   321.807370  3.708935   0.532929   0.018235  ...        0.249352   \n\n     energy-D4-17  std-D5-17  mean-D5-17  skew-D5-17  kurt-D5-17  \\\n0       12.573883   0.181974    0.003167    9.724373  133.300933   \n1       12.146831   0.092132   -0.003614   -0.218151    0.624082   \n2        7.855882   0.076636   -0.002947   -0.147173    0.124414   \n3        6.185847   0.068992    0.001586   -0.118231    0.113237   \n4       32.457713   0.226774   -0.003516    1.130033   13.504922   \n..            ...        ...         ...         ...         ...   \n427      3.472446   0.082743    0.000016   -0.765109    5.477428   \n428      5.144885   0.074138    0.001392   -0.153234    0.346508   \n429      5.621385   0.109079    0.003742    2.761773   23.929858   \n430      4.830896   0.086006    0.001491   -0.061883    0.680067   \n431     21.590366   0.138564    0.002174    1.784908   13.339948   \n\n     meanAD-D5-17  medianAD-D5-17  energy-D5-17  target  \n0        0.082040        0.083934      8.479898       0  \n1        0.071081        0.080088      2.176368       0  \n2        0.061075        0.076758      1.505739       0  \n3        0.054806        0.066955      1.219180       0  \n4        0.138429        0.124622     13.168395       0  \n..            ...             ...           ...     ...  \n427      0.059849        0.063605      1.752697       1  \n428      0.056782        0.063714      1.407589       1  \n429      0.071894        0.077642      3.049523       1  \n430      0.065126        0.069663      1.894228       1  \n431      0.097159        0.111150      4.916422       1  \n\n[432 rows x 757 columns]",
      "text/html": "<div>\n<style scoped>\n    .dataframe tbody tr th:only-of-type {\n        vertical-align: middle;\n    }\n\n    .dataframe tbody tr th {\n        vertical-align: top;\n    }\n\n    .dataframe thead th {\n        text-align: right;\n    }\n</style>\n<table border=\"1\" class=\"dataframe\">\n  <thead>\n    <tr style=\"text-align: right;\">\n      <th></th>\n      <th>std-A5-0</th>\n      <th>mean-A5-0</th>\n      <th>skew-A5-0</th>\n      <th>kurt-A5-0</th>\n      <th>meanAD-A5-0</th>\n      <th>medianAD-A5-0</th>\n      <th>energy-A5-0</th>\n      <th>std-D1-0</th>\n      <th>mean-D1-0</th>\n      <th>skew-D1-0</th>\n      <th>...</th>\n      <th>medianAD-D4-17</th>\n      <th>energy-D4-17</th>\n      <th>std-D5-17</th>\n      <th>mean-D5-17</th>\n      <th>skew-D5-17</th>\n      <th>kurt-D5-17</th>\n      <th>meanAD-D5-17</th>\n      <th>medianAD-D5-17</th>\n      <th>energy-D5-17</th>\n      <th>target</th>\n    </tr>\n  </thead>\n  <tbody>\n    <tr>\n      <th>0</th>\n      <td>3.593364</td>\n      <td>0.216540</td>\n      <td>-0.094793</td>\n      <td>-0.433591</td>\n      <td>2.926054</td>\n      <td>3.511545</td>\n      <td>220.352545</td>\n      <td>1.649358</td>\n      <td>-0.241962</td>\n      <td>1.336603</td>\n      <td>...</td>\n      <td>0.246915</td>\n      <td>12.573883</td>\n      <td>0.181974</td>\n      <td>0.003167</td>\n      <td>9.724373</td>\n      <td>133.300933</td>\n      <td>0.082040</td>\n      <td>0.083934</td>\n      <td>8.479898</td>\n      <td>0</td>\n    </tr>\n    <tr>\n      <th>1</th>\n      <td>1.816498</td>\n      <td>-0.295746</td>\n      <td>-0.291568</td>\n      <td>-0.089431</td>\n      <td>1.388092</td>\n      <td>1.470678</td>\n      <td>57.668709</td>\n      <td>1.314164</td>\n      <td>-0.060795</td>\n      <td>-0.387001</td>\n      <td>...</td>\n      <td>0.292721</td>\n      <td>12.146831</td>\n      <td>0.092132</td>\n      <td>-0.003614</td>\n      <td>-0.218151</td>\n      <td>0.624082</td>\n      <td>0.071081</td>\n      <td>0.080088</td>\n      <td>2.176368</td>\n      <td>0</td>\n    </tr>\n    <tr>\n      <th>2</th>\n      <td>1.033265</td>\n      <td>-0.222589</td>\n      <td>-0.128894</td>\n      <td>-0.019169</td>\n      <td>0.798095</td>\n      <td>1.126226</td>\n      <td>19.041665</td>\n      <td>0.550211</td>\n      <td>-0.093055</td>\n      <td>0.467804</td>\n      <td>...</td>\n      <td>0.235618</td>\n      <td>7.855882</td>\n      <td>0.076636</td>\n      <td>-0.002947</td>\n      <td>-0.147173</td>\n      <td>0.124414</td>\n      <td>0.061075</td>\n      <td>0.076758</td>\n      <td>1.505739</td>\n      <td>0</td>\n    </tr>\n    <tr>\n      <th>3</th>\n      <td>6.742059</td>\n      <td>-0.973794</td>\n      <td>1.032822</td>\n      <td>3.348853</td>\n      <td>4.153082</td>\n      <td>2.823792</td>\n      <td>789.810078</td>\n      <td>2.680230</td>\n      <td>-0.281228</td>\n      <td>-0.385256</td>\n      <td>...</td>\n      <td>0.238205</td>\n      <td>6.185847</td>\n      <td>0.068992</td>\n      <td>0.001586</td>\n      <td>-0.118231</td>\n      <td>0.113237</td>\n      <td>0.054806</td>\n      <td>0.066955</td>\n      <td>1.219180</td>\n      <td>0</td>\n    </tr>\n    <tr>\n      <th>4</th>\n      <td>2.674359</td>\n      <td>0.606153</td>\n      <td>1.014332</td>\n      <td>0.611186</td>\n      <td>2.028158</td>\n      <td>1.912554</td>\n      <td>128.200885</td>\n      <td>2.433295</td>\n      <td>0.470605</td>\n      <td>0.662752</td>\n      <td>...</td>\n      <td>0.333727</td>\n      <td>32.457713</td>\n      <td>0.226774</td>\n      <td>-0.003516</td>\n      <td>1.130033</td>\n      <td>13.504922</td>\n      <td>0.138429</td>\n      <td>0.124622</td>\n      <td>13.168395</td>\n      <td>0</td>\n    </tr>\n    <tr>\n      <th>...</th>\n      <td>...</td>\n      <td>...</td>\n      <td>...</td>\n      <td>...</td>\n      <td>...</td>\n      <td>...</td>\n      <td>...</td>\n      <td>...</td>\n      <td>...</td>\n      <td>...</td>\n      <td>...</td>\n      <td>...</td>\n      <td>...</td>\n      <td>...</td>\n      <td>...</td>\n      <td>...</td>\n      <td>...</td>\n      <td>...</td>\n      <td>...</td>\n      <td>...</td>\n      <td>...</td>\n    </tr>\n    <tr>\n      <th>427</th>\n      <td>11.641523</td>\n      <td>-1.442873</td>\n      <td>-0.672817</td>\n      <td>-0.150385</td>\n      <td>9.404927</td>\n      <td>11.411076</td>\n      <td>2341.399848</td>\n      <td>3.168720</td>\n      <td>-0.095671</td>\n      <td>0.046638</td>\n      <td>...</td>\n      <td>0.169242</td>\n      <td>3.472446</td>\n      <td>0.082743</td>\n      <td>0.000016</td>\n      <td>-0.765109</td>\n      <td>5.477428</td>\n      <td>0.059849</td>\n      <td>0.063605</td>\n      <td>1.752697</td>\n      <td>1</td>\n    </tr>\n    <tr>\n      <th>428</th>\n      <td>5.727706</td>\n      <td>0.690229</td>\n      <td>-0.314147</td>\n      <td>-0.232164</td>\n      <td>4.526871</td>\n      <td>5.207138</td>\n      <td>566.287925</td>\n      <td>4.525284</td>\n      <td>-0.027240</td>\n      <td>0.359718</td>\n      <td>...</td>\n      <td>0.211461</td>\n      <td>5.144885</td>\n      <td>0.074138</td>\n      <td>0.001392</td>\n      <td>-0.153234</td>\n      <td>0.346508</td>\n      <td>0.056782</td>\n      <td>0.063714</td>\n      <td>1.407589</td>\n      <td>1</td>\n    </tr>\n    <tr>\n      <th>429</th>\n      <td>6.815891</td>\n      <td>-0.970531</td>\n      <td>0.039953</td>\n      <td>0.297670</td>\n      <td>5.250815</td>\n      <td>5.782513</td>\n      <td>806.713046</td>\n      <td>3.926995</td>\n      <td>-0.258531</td>\n      <td>0.015235</td>\n      <td>...</td>\n      <td>0.209638</td>\n      <td>5.621385</td>\n      <td>0.109079</td>\n      <td>0.003742</td>\n      <td>2.761773</td>\n      <td>23.929858</td>\n      <td>0.071894</td>\n      <td>0.077642</td>\n      <td>3.049523</td>\n      <td>1</td>\n    </tr>\n    <tr>\n      <th>430</th>\n      <td>4.284559</td>\n      <td>0.094329</td>\n      <td>-0.121168</td>\n      <td>-1.153871</td>\n      <td>3.681980</td>\n      <td>5.208136</td>\n      <td>312.236815</td>\n      <td>5.096354</td>\n      <td>0.381901</td>\n      <td>0.742932</td>\n      <td>...</td>\n      <td>0.189870</td>\n      <td>4.830896</td>\n      <td>0.086006</td>\n      <td>0.001491</td>\n      <td>-0.061883</td>\n      <td>0.680067</td>\n      <td>0.065126</td>\n      <td>0.069663</td>\n      <td>1.894228</td>\n      <td>1</td>\n    </tr>\n    <tr>\n      <th>431</th>\n      <td>4.348616</td>\n      <td>-0.135307</td>\n      <td>-0.302771</td>\n      <td>0.934576</td>\n      <td>3.222486</td>\n      <td>2.470023</td>\n      <td>321.807370</td>\n      <td>3.708935</td>\n      <td>0.532929</td>\n      <td>0.018235</td>\n      <td>...</td>\n      <td>0.249352</td>\n      <td>21.590366</td>\n      <td>0.138564</td>\n      <td>0.002174</td>\n      <td>1.784908</td>\n      <td>13.339948</td>\n      <td>0.097159</td>\n      <td>0.111150</td>\n      <td>4.916422</td>\n      <td>1</td>\n    </tr>\n  </tbody>\n</table>\n<p>432 rows × 757 columns</p>\n</div>"
     },
     "metadata": {},
     "execution_count": 4
    }
   ],
   "source": [
    "dataset = pd.DataFrame(columns=dataset_labels)\n",
    "\n",
    "for neg_matrix in neg_space:\n",
    "    dataset = dataset.append(\n",
    "        extract_statistical_features(matrix=neg_matrix, target=0),\n",
    "        ignore_index=True\n",
    "    )\n",
    "\n",
    "for pos_matrix in pos_space:\n",
    "    dataset = dataset.append(\n",
    "        extract_statistical_features(matrix=pos_matrix, target=1),\n",
    "        ignore_index=True\n",
    "    )\n",
    "\n",
    "dataset"
   ]
  },
  {
   "cell_type": "markdown",
   "metadata": {},
   "source": [
    "## Salvando dataset em arquivo csv"
   ]
  },
  {
   "cell_type": "code",
   "execution_count": 5,
   "metadata": {},
   "outputs": [],
   "source": [
    "dataset.to_csv(path_or_buf='chb01dwt.csv', index=False)"
   ]
  }
 ]
}