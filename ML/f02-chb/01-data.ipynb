{
 "cells": [
  {
   "cell_type": "markdown",
   "metadata": {},
   "source": [
    "# CHB data matrix size\n",
    "\n",
    "Explorando tamanhos das matrizes dos arquivos zip chb01 ao chb12\n",
    "\n",
    "## Importando bibliotecas"
   ]
  },
  {
   "cell_type": "code",
   "execution_count": 1,
   "metadata": {
    "tags": []
   },
   "outputs": [],
   "source": [
    "import numpy as np\n",
    "import pandas as pd\n",
    "from zipfile import ZipFile"
   ]
  },
  {
   "cell_type": "markdown",
   "metadata": {},
   "source": [
    "## Inspecionando arquivos zip"
   ]
  },
  {
   "cell_type": "code",
   "execution_count": 2,
   "metadata": {
    "tags": []
   },
   "outputs": [
    {
     "output_type": "stream",
     "name": "stdout",
     "text": "CHB01:\tUnique sizes: [ 18 512];\tPositive files: 216;\tTotal files: 61215;\nCHB02:\tUnique sizes: [ 18 512];\tPositive files: 84;\tTotal files: 59437;\nCHB03:\tUnique sizes: [ 18 512];\tPositive files: 196;\tTotal files: 49252;\nCHB04:\tUnique sizes: [ 18 512];\tPositive files: 186;\tTotal files: 53678;\nCHB05:\tUnique sizes: [ 18 512];\tPositive files: 275;\tTotal files: 61448;\nCHB07:\tUnique sizes: [ 18 512];\tPositive files: 160;\tTotal files: 49405;\nCHB08:\tUnique sizes: [ 18 512];\tPositive files: 455;\tTotal files: 27453;\nCHB10:\tUnique sizes: [ 18 512];\tPositive files: 218;\tTotal files: 45598;\nCHB11:\tUnique sizes: [ 18 512];\tPositive files: 400;\tTotal files: 57972;\nCHB12:\tUnique sizes: [ 18 512];\tPositive files: 476;\tTotal files: 20273;\n"
    }
   ],
   "source": [
    "file_range = ['01','02', '03', '04', '05', '07', '08', '10', '11', '12']\n",
    "\n",
    "for i in file_range:\n",
    "    matrix_sizes = []\n",
    "\n",
    "    with ZipFile(f'chb{i}/chb{i}.zip', 'r') as data:\n",
    "        # Cria uma lista com os nomes dos arquivos dentro do zip e os ordena\n",
    "        file_list = data.namelist()\n",
    "        file_list.sort()\n",
    "\n",
    "\n",
    "        pos_list = [pos for pos in file_list if (f'chb{i}/positive/' in pos)]\n",
    "        pos_len = len(pos_list)\n",
    "        tot_len = len(file_list)\n",
    "        neg_list = [file_list[i] for i in range(pos_len)]\n",
    "\n",
    "        for pos, neg in zip(pos_list, neg_list):\n",
    "            with data.open(pos) as pos_npy, data.open(neg) as neg_npy:\n",
    "                matrix_sizes.append(np.load(pos_npy).shape)\n",
    "                matrix_sizes.append(np.load(neg_npy).shape)\n",
    "\n",
    "        unique_sizes = np.unique(np.array(matrix_sizes))\n",
    "\n",
    "        print(f'CHB{i}:\\tUnique sizes: {unique_sizes};\\tPositive files: {pos_len};\\tTotal files: {tot_len};')"
   ]
  },
  {
   "cell_type": "markdown",
   "metadata": {},
   "source": [
    "## Salvando 20 números aleatórios"
   ]
  },
  {
   "cell_type": "code",
   "execution_count": 3,
   "metadata": {},
   "outputs": [
    {
     "output_type": "execute_result",
     "data": {
      "text/plain": "array([4382, 8968, 8442, 1729,  290,  490, 2128, 1167, 8900, 5078, 1359,\n        894, 7809, 6990, 3623, 5906, 1687, 7080, 5473, 7854])"
     },
     "metadata": {},
     "execution_count": 3
    }
   ],
   "source": [
    "random_arr = np.random.randint(0, 9000, 20)\n",
    "np.save('./20_seeds.npy', random_arr)\n",
    "random_arr"
   ]
  }
 ],
 "metadata": {
  "language_info": {
   "codemirror_mode": {
    "name": "ipython",
    "version": 3
   },
   "file_extension": ".py",
   "mimetype": "text/x-python",
   "name": "python",
   "nbconvert_exporter": "python",
   "pygments_lexer": "ipython3",
   "version": "3.7.7-final"
  },
  "orig_nbformat": 2,
  "kernelspec": {
   "name": "ml_venv",
   "display_name": "ML_venv"
  }
 },
 "nbformat": 4,
 "nbformat_minor": 2
}