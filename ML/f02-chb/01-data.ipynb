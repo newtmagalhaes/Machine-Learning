{
 "cells": [
  {
   "cell_type": "markdown",
   "metadata": {},
   "source": [
    "# CHB data matrix size\n",
    "\n",
    "Explorando tamanhos das matrizes dos arquivos zip chb01 ao chb12\n",
    "\n",
    "## Importando bibliotecas"
   ]
  },
  {
   "cell_type": "code",
   "execution_count": 1,
   "metadata": {
    "tags": []
   },
   "outputs": [],
   "source": [
    "import numpy as np\n",
    "import pandas as pd\n",
    "from zipfile import ZipFile"
   ]
  },
  {
   "cell_type": "markdown",
   "metadata": {},
   "source": [
    "## Inspecionando arquivos zip"
   ]
  },
  {
   "cell_type": "code",
   "execution_count": 2,
   "metadata": {
    "tags": []
   },
   "outputs": [
    {
     "output_type": "stream",
     "name": "stdout",
     "text": [
      "CHB01:\tUnique sizes: [ 18 512];\tPositive files: 216;\tTotal files: 61215;\n",
      "CHB02:\tUnique sizes: [ 18 512];\tPositive files: 84;\tTotal files: 59437;\n",
      "CHB03:\tUnique sizes: [ 18 512];\tPositive files: 196;\tTotal files: 49252;\n",
      "CHB04:\tUnique sizes: [ 18 512];\tPositive files: 186;\tTotal files: 53678;\n",
      "CHB05:\tUnique sizes: [ 18 512];\tPositive files: 275;\tTotal files: 61448;\n",
      "CHB06:\tUnique sizes: [ 18 512];\tPositive files: 68;\tTotal files: 65535;\n",
      "CHB07:\tUnique sizes: [ 18 512];\tPositive files: 160;\tTotal files: 49405;\n",
      "CHB08:\tUnique sizes: [ 18 512];\tPositive files: 455;\tTotal files: 27453;\n",
      "CHB09:\tUnique sizes: [ 18 512];\tPositive files: 135;\tTotal files: 65535;\n",
      "CHB10:\tUnique sizes: [ 18 512];\tPositive files: 218;\tTotal files: 45598;\n",
      "CHB11:\tUnique sizes: [ 18 512];\tPositive files: 400;\tTotal files: 57972;\n",
      "CHB12:\tUnique sizes: [ 18 512];\tPositive files: 476;\tTotal files: 20273;\n",
      "CHB13:\tUnique sizes: [ 18 512];\tPositive files: 258;\tTotal files: 31888;\n",
      "CHB14:\tUnique sizes: [ 18 512];\tPositive files: 78;\tTotal files: 34261;\n",
      "CHB15:\tUnique sizes: [ 18 512];\tPositive files: 112;\tTotal files: 33941;\n",
      "CHB16:\tUnique sizes: [ 18 512];\tPositive files: 34;\tTotal files: 23421;\n",
      "CHB17:\tUnique sizes: [ 18 512];\tPositive files: 144;\tTotal files: 6961;\n",
      "CHB18:\tUnique sizes: [ 18 512];\tPositive files: 153;\tTotal files: 54134;\n",
      "CHB19:\tUnique sizes: [ 18 512];\tPositive files: 116;\tTotal files: 10236;\n",
      "CHB20:\tUnique sizes: [ 18 512];\tPositive files: 142;\tTotal files: 5099;\n",
      "CHB21:\tUnique sizes: [ 18 512];\tPositive files: 96;\tTotal files: 10890;\n",
      "CHB22:\tUnique sizes: [ 18 512];\tPositive files: 99;\tTotal files: 50479;\n",
      "CHB23:\tUnique sizes: [ 18 512];\tPositive files: 207;\tTotal files: 7028;\n",
      "CHB24:\tUnique sizes: [ 18 512];\tPositive files: 244;\tTotal files: 7077;\n"
     ]
    }
   ],
   "source": [
    "# lista de str ['01', '02', ..., '24']\n",
    "file_range = ['{:0>2}'.format(chb) for chb in range(1, 25)]\n",
    "\n",
    "for i in file_range:\n",
    "    matrix_sizes = []\n",
    "\n",
    "    with ZipFile(f'chb{i}/chb{i}.zip', 'r') as data:\n",
    "        # Cria uma lista com os nomes dos arquivos dentro do zip e os ordena\n",
    "        file_list = data.namelist()\n",
    "        file_list.sort()\n",
    "\n",
    "        pos_list = [pos for pos in file_list if (f'chb{i}/positive/' in pos)]\n",
    "        pos_len = len(pos_list)\n",
    "        tot_len = len(file_list)\n",
    "\n",
    "        for pos in pos_list:\n",
    "            with data.open(pos) as pos_npy:\n",
    "                matrix_sizes.append(np.load(pos_npy, allow_pickle=True).shape)\n",
    "\n",
    "        unique_sizes = np.unique(np.array(matrix_sizes))\n",
    "\n",
    "        print(f'CHB{i}:\\tUnique sizes: {unique_sizes};\\tPositive files: {pos_len};\\tTotal files: {tot_len};')"
   ]
  },
  {
   "cell_type": "markdown",
   "metadata": {},
   "source": [
    "## Salvando 20 números aleatórios"
   ]
  },
  {
   "cell_type": "code",
   "execution_count": 3,
   "metadata": {},
   "outputs": [
    {
     "output_type": "execute_result",
     "data": {
      "text/plain": "array([4382, 8968, 8442, 1729,  290,  490, 2128, 1167, 8900, 5078, 1359,\n        894, 7809, 6990, 3623, 5906, 1687, 7080, 5473, 7854])"
     },
     "metadata": {},
     "execution_count": 3
    }
   ],
   "source": [
    "random_arr = np.random.randint(0, 9000, 20)\n",
    "np.save('./20_seeds.npy', random_arr)\n",
    "random_arr"
   ]
  }
 ],
 "metadata": {
  "language_info": {
   "codemirror_mode": {
    "name": "ipython",
    "version": 3
   },
   "file_extension": ".py",
   "mimetype": "text/x-python",
   "name": "python",
   "nbconvert_exporter": "python",
   "pygments_lexer": "ipython3",
   "version": "3.7.7-final"
  },
  "orig_nbformat": 2,
  "kernelspec": {
   "name": "ml_venv",
   "display_name": "ML_venv",
   "language": "python"
  }
 },
 "nbformat": 4,
 "nbformat_minor": 2
}