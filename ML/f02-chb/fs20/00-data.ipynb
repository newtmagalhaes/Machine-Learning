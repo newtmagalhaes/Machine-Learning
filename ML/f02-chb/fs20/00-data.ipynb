{
 "metadata": {
  "language_info": {
   "codemirror_mode": {
    "name": "ipython",
    "version": 3
   },
   "file_extension": ".py",
   "mimetype": "text/x-python",
   "name": "python",
   "nbconvert_exporter": "python",
   "pygments_lexer": "ipython3",
   "version": "3.7.7"
  },
  "orig_nbformat": 2,
  "kernelspec": {
   "name": "ml_venv",
   "display_name": "Python 3.7.7 64-bit ('ml_venv': conda)"
  }
 },
 "nbformat": 4,
 "nbformat_minor": 2,
 "cells": [
  {
   "source": [
    "# Gerando `chb.csv`"
   ],
   "cell_type": "markdown",
   "metadata": {}
  },
  {
   "cell_type": "code",
   "execution_count": 1,
   "metadata": {},
   "outputs": [],
   "source": [
    "import numpy as np\n",
    "import pandas as pd\n",
    "\n",
    "# lista de str ['01', '02', ..., '24']\n",
    "FILE_RANGE = ['{:0>2}'.format(chb) for chb in range(1, 25)]\n",
    "\n",
    "def dataframe_from_chb(chb_number:str) -> pd.DataFrame:\n",
    "    df = pd.read_csv(f'../chb{chb_number}/chb{chb_number}_com_dwt.csv')\n",
    "    df['chb'] = chb_number\n",
    "    return df\n",
    "\n",
    "chb_df = pd.concat([dataframe_from_chb(i) for i in FILE_RANGE], ignore_index=True)\n",
    "chb_df.to_csv('./chb.csv')"
   ]
  }
 ]
}