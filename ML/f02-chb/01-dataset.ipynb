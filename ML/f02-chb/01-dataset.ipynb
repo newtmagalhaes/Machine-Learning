{
 "metadata": {
  "language_info": {
   "codemirror_mode": {
    "name": "ipython",
    "version": 3
   },
   "file_extension": ".py",
   "mimetype": "text/x-python",
   "name": "python",
   "nbconvert_exporter": "python",
   "pygments_lexer": "ipython3",
   "version": "3.7.7-final"
  },
  "orig_nbformat": 2,
  "kernelspec": {
   "name": "ml_venv",
   "display_name": "ML_venv"
  }
 },
 "nbformat": 4,
 "nbformat_minor": 2,
 "cells": [
  {
   "cell_type": "markdown",
   "metadata": {},
   "source": [
    "# CHB dataset 1\n",
    "\n",
    "Gerando dataset `chb01.csv`\n",
    "\n",
    "## Importando bibliotecas"
   ]
  },
  {
   "cell_type": "code",
   "execution_count": 4,
   "metadata": {},
   "outputs": [],
   "source": [
    "import numpy as np\n",
    "import pandas as pd\n",
    "import seaborn as sns\n",
    "\n",
    "from zipfile import ZipFile\n",
    "from matplotlib import pyplot as plt\n",
    "from statsmodels.robust.scale import mad as medianAD"
   ]
  },
  {
   "cell_type": "markdown",
   "metadata": {},
   "source": [
    "## Carregando Matrizes de arquivo zip"
   ]
  },
  {
   "cell_type": "code",
   "execution_count": 5,
   "metadata": {
    "tags": []
   },
   "outputs": [
    {
     "output_type": "stream",
     "name": "stdout",
     "text": "pos_list: 216\tneg_list: 216\npos_space.shape: (216, 18, 512)\tneg_space.shape: (216, 18, 512)\npos_space.dtype: float64\tneg_space.dtype: float64\n"
    }
   ],
   "source": [
    "with ZipFile('chb01.zip', 'r') as data:\n",
    "    file_list = data.namelist()\n",
    "    file_list.sort()\n",
    "\n",
    "    pos_list = [pos for pos in file_list if ('chb01/positive/' in pos)]\n",
    "    neg_list = [file_list[i] for i in range(len(pos_list))]\n",
    "\n",
    "    print(f'pos_list: {len(pos_list)}\\tneg_list: {len(neg_list)}')\n",
    "\n",
    "    pos_space, neg_space = [], []\n",
    "    \n",
    "    for pos_file, neg_file in zip(pos_list, neg_list):\n",
    "        with data.open(name=pos_file, mode='r') as pos, data.open(name=neg_file, mode='r') as neg:\n",
    "            pos_space.append(np.load(pos))\n",
    "            neg_space.append(np.load(neg))\n",
    "\n",
    "    pos_space = np.array(pos_space, dtype=np.float64)\n",
    "    neg_space = np.array(neg_space, dtype=np.float64)\n",
    "    \n",
    "    print(f'pos_space.shape: {pos_space.shape}\\tneg_space.shape: {neg_space.shape}')\n",
    "    print(f'pos_space.dtype: {pos_space.dtype}\\tneg_space.dtype: {neg_space.dtype}')"
   ]
  },
  {
   "cell_type": "markdown",
   "metadata": {},
   "source": [
    "## Extraindo atributos"
   ]
  },
  {
   "cell_type": "code",
   "execution_count": null,
   "metadata": {},
   "outputs": [],
   "source": [
    "colunas = [f'{feature}-{i}' for i in range(18) for feature in ['std', 'mean', 'skew', 'kurt', 'meanAD', 'medianAD']] + ['target']\n",
    "\n",
    "posDF, negDF, dataset = pd.DataFrame(), pd.DataFrame(), pd.DataFrame(columns=colunas)\n",
    "\n",
    "for pos_mat, neg_mat in zip(pos_space, neg_space):\n",
    "\n",
    "    pos_matDF = pd.DataFrame(data=pos_mat).transpose()\n",
    "    posDF['std'] = pos_matDF.std()\n",
    "    posDF['mean'] = pos_matDF.mean()\n",
    "    posDF['skew'] = pos_matDF.skew()\n",
    "    posDF['kurt'] = pos_matDF.kurt()\n",
    "    posDF['meanAD'] = pos_matDF.mad()\n",
    "    posDF['medianAD'] = medianAD(pos_matDF)\n",
    "    \n",
    "    neg_matDF = pd.DataFrame(data=neg_mat).transpose()\n",
    "    negDF['std'] = neg_matDF.std()\n",
    "    negDF['mean'] = neg_matDF.mean()\n",
    "    negDF['skew'] = neg_matDF.skew()\n",
    "    negDF['kurt'] = neg_matDF.kurt()\n",
    "    negDF['meanAD'] = neg_matDF.mad()\n",
    "    negDF['medianAD'] = medianAD(neg_matDF)"
   ]
  }
 ]
}