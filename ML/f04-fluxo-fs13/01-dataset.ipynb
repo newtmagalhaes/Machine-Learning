{
 "metadata": {
  "language_info": {
   "codemirror_mode": {
    "name": "ipython",
    "version": 3
   },
   "file_extension": ".py",
   "mimetype": "text/x-python",
   "name": "python",
   "nbconvert_exporter": "python",
   "pygments_lexer": "ipython3",
   "version": "3.7.7"
  },
  "orig_nbformat": 2,
  "kernelspec": {
   "name": "ml_venv",
   "display_name": "Python 3.7.7 64-bit ('ml_venv': conda)"
  }
 },
 "nbformat": 4,
 "nbformat_minor": 2,
 "cells": [
  {
   "cell_type": "markdown",
   "metadata": {},
   "source": [
    "# Gerando dataset em arquivo csv\n",
    "\n",
    "## Importando bibliotecas"
   ]
  },
  {
   "cell_type": "code",
   "execution_count": 1,
   "metadata": {},
   "outputs": [],
   "source": [
    "import numpy as np\n",
    "import pandas as pd\n",
    "import seaborn as sns\n",
    "from zipfile import ZipFile\n",
    "\n",
    "from feat_set_13_ext import create_fs13"
   ]
  },
  {
   "cell_type": "markdown",
   "metadata": {},
   "source": [
    "## Criando lista de DataFrames por amostra"
   ]
  },
  {
   "cell_type": "code",
   "execution_count": 2,
   "metadata": {},
   "outputs": [],
   "source": [
    "HEADER_LINE_OF_CSV = 19\n",
    "list_of_df = []\n",
    "\n",
    "with ZipFile('./fluxo.zip') as fluxo:\n",
    "    path_list = fluxo.namelist()\n",
    "    path_list.sort()\n",
    "    for file_path in filter(lambda string: '.csv' in string, path_list):\n",
    "        with fluxo.open(file_path) as csv_file:\n",
    "            signal = pd.read_csv(csv_file, header=HEADER_LINE_OF_CSV)[['CH1']].values.flatten()\n",
    "            list_of_df.append(create_fs13(signal, file_path))"
   ]
  },
  {
   "cell_type": "markdown",
   "metadata": {},
   "source": [
    "## Gerando arquivos csv"
   ]
  },
  {
   "cell_type": "code",
   "execution_count": 3,
   "metadata": {},
   "outputs": [
    {
     "output_type": "execute_result",
     "data": {
      "text/plain": [
       "    Kurt-A3  MeanAD-A3  MedianAD-A3      Energy-A3  MedianAD-D3  Energy-D3  \\\n",
       "0 -0.678328   0.259148     0.351929  265273.168984     0.051194  26.593132   \n",
       "1 -0.677234   0.257345     0.349852  265219.173491     0.051161  26.296542   \n",
       "2 -0.744301   0.260107     0.356801  265232.294793     0.051516  26.373236   \n",
       "3 -0.531096   0.254610     0.336848  263866.327201     0.049583  25.154780   \n",
       "4 -0.474700   0.253951     0.328032  263990.967618     0.049381  25.058178   \n",
       "\n",
       "   frequence  target  \n",
       "0         30       0  \n",
       "1         30       0  \n",
       "2         30       0  \n",
       "3         30       0  \n",
       "4         30       0  "
      ],
      "text/html": "<div>\n<style scoped>\n    .dataframe tbody tr th:only-of-type {\n        vertical-align: middle;\n    }\n\n    .dataframe tbody tr th {\n        vertical-align: top;\n    }\n\n    .dataframe thead th {\n        text-align: right;\n    }\n</style>\n<table border=\"1\" class=\"dataframe\">\n  <thead>\n    <tr style=\"text-align: right;\">\n      <th></th>\n      <th>Kurt-A3</th>\n      <th>MeanAD-A3</th>\n      <th>MedianAD-A3</th>\n      <th>Energy-A3</th>\n      <th>MedianAD-D3</th>\n      <th>Energy-D3</th>\n      <th>frequence</th>\n      <th>target</th>\n    </tr>\n  </thead>\n  <tbody>\n    <tr>\n      <th>0</th>\n      <td>-0.678328</td>\n      <td>0.259148</td>\n      <td>0.351929</td>\n      <td>265273.168984</td>\n      <td>0.051194</td>\n      <td>26.593132</td>\n      <td>30</td>\n      <td>0</td>\n    </tr>\n    <tr>\n      <th>1</th>\n      <td>-0.677234</td>\n      <td>0.257345</td>\n      <td>0.349852</td>\n      <td>265219.173491</td>\n      <td>0.051161</td>\n      <td>26.296542</td>\n      <td>30</td>\n      <td>0</td>\n    </tr>\n    <tr>\n      <th>2</th>\n      <td>-0.744301</td>\n      <td>0.260107</td>\n      <td>0.356801</td>\n      <td>265232.294793</td>\n      <td>0.051516</td>\n      <td>26.373236</td>\n      <td>30</td>\n      <td>0</td>\n    </tr>\n    <tr>\n      <th>3</th>\n      <td>-0.531096</td>\n      <td>0.254610</td>\n      <td>0.336848</td>\n      <td>263866.327201</td>\n      <td>0.049583</td>\n      <td>25.154780</td>\n      <td>30</td>\n      <td>0</td>\n    </tr>\n    <tr>\n      <th>4</th>\n      <td>-0.474700</td>\n      <td>0.253951</td>\n      <td>0.328032</td>\n      <td>263990.967618</td>\n      <td>0.049381</td>\n      <td>25.058178</td>\n      <td>30</td>\n      <td>0</td>\n    </tr>\n  </tbody>\n</table>\n</div>"
     },
     "metadata": {},
     "execution_count": 3
    }
   ],
   "source": [
    "data_df = pd.concat(list_of_df, ignore_index=True)\n",
    "\n",
    "data_df.replace(np.inf, np.NaN)\n",
    "data_df.dropna(inplace=True)\n",
    "\n",
    "data_df.to_csv('./csvs/fs13.csv', index=False)\n",
    "\n",
    "data_df.head()"
   ]
  },
  {
   "cell_type": "code",
   "execution_count": 4,
   "metadata": {},
   "outputs": [
    {
     "output_type": "execute_result",
     "data": {
      "text/plain": [
       "           Kurt-A3    MeanAD-A3  MedianAD-A3      Energy-A3  MedianAD-D3  \\\n",
       "count  2591.000000  2591.000000  2591.000000    2591.000000  2591.000000   \n",
       "mean     -0.765281     0.280202     0.362514  262872.089199     0.044151   \n",
       "std       0.365528     0.181790     0.234304    3484.650856     0.009982   \n",
       "min      -1.446281     0.093503     0.118927  254418.436130     0.027942   \n",
       "25%      -0.973575     0.158730     0.210067  260558.667089     0.036956   \n",
       "50%      -0.802529     0.234449     0.310954  262222.651170     0.041104   \n",
       "75%      -0.551651     0.321548     0.398570  264222.034457     0.052984   \n",
       "max       0.252830     0.940724     1.483460  277004.561760     0.078213   \n",
       "\n",
       "         Energy-D3    frequence       target  \n",
       "count  2591.000000  2591.000000  2591.000000  \n",
       "mean     22.411848    45.111926     2.992667  \n",
       "std      11.006087    10.008057     1.978539  \n",
       "min       7.744998    30.000000     0.000000  \n",
       "25%      14.360976    35.000000     1.000000  \n",
       "50%      18.361013    45.000000     3.000000  \n",
       "75%      31.537654    55.000000     5.000000  \n",
       "max      67.052858    60.000000     6.000000  "
      ],
      "text/html": "<div>\n<style scoped>\n    .dataframe tbody tr th:only-of-type {\n        vertical-align: middle;\n    }\n\n    .dataframe tbody tr th {\n        vertical-align: top;\n    }\n\n    .dataframe thead th {\n        text-align: right;\n    }\n</style>\n<table border=\"1\" class=\"dataframe\">\n  <thead>\n    <tr style=\"text-align: right;\">\n      <th></th>\n      <th>Kurt-A3</th>\n      <th>MeanAD-A3</th>\n      <th>MedianAD-A3</th>\n      <th>Energy-A3</th>\n      <th>MedianAD-D3</th>\n      <th>Energy-D3</th>\n      <th>frequence</th>\n      <th>target</th>\n    </tr>\n  </thead>\n  <tbody>\n    <tr>\n      <th>count</th>\n      <td>2591.000000</td>\n      <td>2591.000000</td>\n      <td>2591.000000</td>\n      <td>2591.000000</td>\n      <td>2591.000000</td>\n      <td>2591.000000</td>\n      <td>2591.000000</td>\n      <td>2591.000000</td>\n    </tr>\n    <tr>\n      <th>mean</th>\n      <td>-0.765281</td>\n      <td>0.280202</td>\n      <td>0.362514</td>\n      <td>262872.089199</td>\n      <td>0.044151</td>\n      <td>22.411848</td>\n      <td>45.111926</td>\n      <td>2.992667</td>\n    </tr>\n    <tr>\n      <th>std</th>\n      <td>0.365528</td>\n      <td>0.181790</td>\n      <td>0.234304</td>\n      <td>3484.650856</td>\n      <td>0.009982</td>\n      <td>11.006087</td>\n      <td>10.008057</td>\n      <td>1.978539</td>\n    </tr>\n    <tr>\n      <th>min</th>\n      <td>-1.446281</td>\n      <td>0.093503</td>\n      <td>0.118927</td>\n      <td>254418.436130</td>\n      <td>0.027942</td>\n      <td>7.744998</td>\n      <td>30.000000</td>\n      <td>0.000000</td>\n    </tr>\n    <tr>\n      <th>25%</th>\n      <td>-0.973575</td>\n      <td>0.158730</td>\n      <td>0.210067</td>\n      <td>260558.667089</td>\n      <td>0.036956</td>\n      <td>14.360976</td>\n      <td>35.000000</td>\n      <td>1.000000</td>\n    </tr>\n    <tr>\n      <th>50%</th>\n      <td>-0.802529</td>\n      <td>0.234449</td>\n      <td>0.310954</td>\n      <td>262222.651170</td>\n      <td>0.041104</td>\n      <td>18.361013</td>\n      <td>45.000000</td>\n      <td>3.000000</td>\n    </tr>\n    <tr>\n      <th>75%</th>\n      <td>-0.551651</td>\n      <td>0.321548</td>\n      <td>0.398570</td>\n      <td>264222.034457</td>\n      <td>0.052984</td>\n      <td>31.537654</td>\n      <td>55.000000</td>\n      <td>5.000000</td>\n    </tr>\n    <tr>\n      <th>max</th>\n      <td>0.252830</td>\n      <td>0.940724</td>\n      <td>1.483460</td>\n      <td>277004.561760</td>\n      <td>0.078213</td>\n      <td>67.052858</td>\n      <td>60.000000</td>\n      <td>6.000000</td>\n    </tr>\n  </tbody>\n</table>\n</div>"
     },
     "metadata": {},
     "execution_count": 4
    }
   ],
   "source": [
    "data_df.describe()"
   ]
  }
 ]
}