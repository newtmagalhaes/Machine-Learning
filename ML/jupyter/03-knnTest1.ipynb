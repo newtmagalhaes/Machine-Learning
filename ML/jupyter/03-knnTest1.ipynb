{
 "cells": [
  {
   "cell_type": "markdown",
   "metadata": {},
   "source": [
    "# KNN Test\n",
    "\n",
    "Testando o algoritmo KNN no [IRIS dataset](https://en.wikipedia.org/wiki/Iris_flower_data_set \"wiki of iris flower data set\") utilizando as bibliotecas `scikit-learn`, `pandas` e `matplotlib`.\n",
    "\n",
    "Seguindo o tutorial do [video](https://www.youtube.com/watch?v=DeAuVrhKw58)."
   ]
  },
  {
   "cell_type": "markdown",
   "metadata": {},
   "source": [
    "## Importando Bibliotecas"
   ]
  },
  {
   "cell_type": "code",
   "execution_count": 33,
   "metadata": {},
   "outputs": [],
   "source": [
    "import pandas as pd\n",
    "\n",
    "from sklearn.datasets import load_iris\n",
    "from sklearn.neighbors import KNeighborsClassifier\n",
    "from sklearn.model_selection import train_test_split\n",
    "from sklearn.metrics import classification_report, confusion_matrix"
   ]
  },
  {
   "cell_type": "markdown",
   "metadata": {},
   "source": [
    "## Carregando IRIS _DataSet_\n",
    "\n",
    "Usando `scikit-learn`"
   ]
  },
  {
   "cell_type": "code",
   "execution_count": 34,
   "metadata": {},
   "outputs": [
    {
     "output_type": "stream",
     "name": "stdout",
     "text": "Target names:\n ['setosa', 'versicolor', 'virginica']\n\nFeature names:\n ['sepal length (cm)', 'sepal width (cm)', 'petal length (cm)', 'petal width (cm)']\n"
    }
   ],
   "source": [
    "iris_data, iris_targets = load_iris(return_X_y=True)\n",
    "iris_dset = load_iris(return_X_y=False)\n",
    "\n",
    "print(\"Target names:\\n\", list(iris_dset.target_names))\n",
    "\n",
    "print(\"\\nFeature names:\\n\", list(iris_dset.feature_names))"
   ]
  },
  {
   "cell_type": "markdown",
   "metadata": {},
   "source": [
    "## Separando dados para treino e teste"
   ]
  },
  {
   "cell_type": "code",
   "execution_count": 46,
   "metadata": {},
   "outputs": [],
   "source": [
    "data_train, data_test, target_train, target_test = train_test_split(iris_data, iris_targets, test_size=0.30, random_state=13)"
   ]
  },
  {
   "cell_type": "markdown",
   "metadata": {},
   "source": [
    "## Instanciando classificador"
   ]
  },
  {
   "cell_type": "code",
   "execution_count": 47,
   "metadata": {},
   "outputs": [],
   "source": [
    "k_neighbors = 13\n",
    "\n",
    "classifyer = KNeighborsClassifier(n_neighbors=k_neighbors)"
   ]
  },
  {
   "cell_type": "markdown",
   "metadata": {},
   "source": [
    "## Treinando modelo classificador"
   ]
  },
  {
   "cell_type": "code",
   "execution_count": 48,
   "metadata": {},
   "outputs": [
    {
     "output_type": "execute_result",
     "data": {
      "text/plain": "KNeighborsClassifier(algorithm='auto', leaf_size=30, metric='minkowski',\n                     metric_params=None, n_jobs=None, n_neighbors=13, p=2,\n                     weights='uniform')"
     },
     "metadata": {},
     "execution_count": 48
    }
   ],
   "source": [
    "classifyer.fit(data_train, target_train)"
   ]
  },
  {
   "cell_type": "markdown",
   "metadata": {},
   "source": [
    "## Realizando teste de classificação"
   ]
  },
  {
   "cell_type": "code",
   "execution_count": 49,
   "metadata": {},
   "outputs": [],
   "source": [
    "prediction = classifyer.predict(data_test)"
   ]
  },
  {
   "cell_type": "markdown",
   "metadata": {},
   "source": [
    "## Resultados"
   ]
  },
  {
   "cell_type": "code",
   "execution_count": 50,
   "metadata": {},
   "outputs": [
    {
     "output_type": "stream",
     "name": "stdout",
     "text": "precision    recall  f1-score   support\n\n      setosa       1.00      1.00      1.00        14\n  versicolor       0.75      1.00      0.86        12\n   virginica       1.00      0.79      0.88        19\n\n    accuracy                           0.91        45\n   macro avg       0.92      0.93      0.91        45\nweighted avg       0.93      0.91      0.91        45\n\n"
    }
   ],
   "source": [
    "print(classification_report(target_test, prediction, target_names=iris_dset.target_names))"
   ]
  },
  {
   "cell_type": "code",
   "execution_count": 51,
   "metadata": {},
   "outputs": [
    {
     "output_type": "execute_result",
     "data": {
      "text/plain": "array([[14,  0,  0],\n       [ 0, 12,  0],\n       [ 0,  4, 15]])"
     },
     "metadata": {},
     "execution_count": 51
    }
   ],
   "source": [
    "confusion_matrix(target_test, prediction)"
   ]
  }
 ],
 "metadata": {
  "kernelspec": {
   "display_name": "ML_venv",
   "language": "python",
   "name": "ml_venv"
  },
  "language_info": {
   "codemirror_mode": {
    "name": "ipython",
    "version": 3
   },
   "file_extension": ".py",
   "mimetype": "text/x-python",
   "name": "python",
   "nbconvert_exporter": "python",
   "pygments_lexer": "ipython3",
   "version": "3.7.7-final"
  }
 },
 "nbformat": 4,
 "nbformat_minor": 4
}