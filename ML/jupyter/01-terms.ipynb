{
 "nbformat": 4,
 "nbformat_minor": 2,
 "metadata": {
  "language_info": {
   "name": "python",
   "codemirror_mode": {
    "name": "ipython",
    "version": 3
   }
  },
  "orig_nbformat": 2,
  "file_extension": ".py",
  "mimetype": "text/x-python",
  "name": "python",
  "npconvert_exporter": "python",
  "pygments_lexer": "ipython3",
  "version": 3
 },
 "cells": [
  {
   "cell_type": "markdown",
   "metadata": {},
   "source": [
    "# Dicionário de Termos utilizados em _Machine Learning_ e _Data Science_"
   ]
  },
  {
   "cell_type": "markdown",
   "metadata": {},
   "source": [
    "## _scikit-learn_\n",
    "\n",
    "- **_dataset_**: conjunto de dados, onde se econtram as amostras;\n",
    "\n",
    "- **_feature_**: característica da amostra que será análizada;\n",
    "\n",
    "- **_target_**: classificação da amostra;\n",
    "\n",
    "0. Métricas:\n",
    "\n",
    "    - **_Confusion Matrix_**: ;\n",
    "\n",
    "    - **_Accuracy_** (Acurácia): ;\n",
    "\n",
    "    - **_Recall_** (Sensibilidade ou revocação): ;\n",
    "\n",
    "1. ML Supervisionado:\n",
    "\n",
    "    - **_Classificação_**: o objetivo deste modelo é (após o treino) classificar uma amostra de teste;\n",
    "\n",
    "        - **_KNN_**: _K-Nearest Neighbohrs_ (K-Vizinhos mais Próximos), este modelo classifica uma amostra de acordo com a maioria dos K-vizinhos mais próximos.\n",
    "\n",
    "    - **_Regressão_**: o objetivo deste modelo é (após o treino) gerar uma estimatíva de um próximo valor;\n",
    "\n",
    "2. ML Não Supervisionado:"
   ]
  },
  {
   "cell_type": "markdown",
   "metadata": {},
   "source": [
    "## _pandas_"
   ]
  }
 ]
}