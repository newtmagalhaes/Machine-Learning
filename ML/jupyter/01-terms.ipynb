{
 "nbformat": 4,
 "nbformat_minor": 2,
 "metadata": {
  "language_info": {
   "name": "python",
   "codemirror_mode": {
    "name": "ipython",
    "version": 3
   }
  },
  "orig_nbformat": 2,
  "file_extension": ".py",
  "mimetype": "text/x-python",
  "name": "python",
  "npconvert_exporter": "python",
  "pygments_lexer": "ipython3",
  "version": 3
 },
 "cells": [
  {
   "cell_type": "markdown",
   "metadata": {},
   "source": [
    "# Dicionário de Termos utilizados em _Machine Learning_ e _Data Science_"
   ]
  },
  {
   "cell_type": "markdown",
   "metadata": {},
   "source": [
    "## _scikit-learn_\n",
    "\n",
    "1. Supervisionado:\n",
    "\n",
    "    - **_dataset_**: ;\n",
    "\n",
    "    - **_feature_**:;\n",
    "\n",
    "    - **_target_**:;\n",
    "\n",
    "2. Não Supervisionado:"
   ]
  },
  {
   "cell_type": "markdown",
   "metadata": {},
   "source": [
    "## _pandas_"
   ]
  }
 ]
}