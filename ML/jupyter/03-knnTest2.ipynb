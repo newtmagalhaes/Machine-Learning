{
 "cells": [
  {
   "cell_type": "markdown",
   "metadata": {},
   "source": [
    "# KNN Test\n",
    "\n",
    "Testando 30 rodadas com algoritmo KNN no **Iris dataset** utilizando a biblioteca `scikit-learn`."
   ]
  },
  {
   "cell_type": "markdown",
   "metadata": {},
   "source": [
    "## Importando Bibliotecas"
   ]
  },
  {
   "cell_type": "code",
   "execution_count": 1,
   "metadata": {},
   "outputs": [],
   "source": [
    "import pandas as pd\n",
    "\n",
    "from random import randint\n",
    "from sklearn.datasets import load_iris\n",
    "from sklearn.neighbors import KNeighborsClassifier\n",
    "from sklearn.model_selection import train_test_split\n",
    "from sklearn.metrics import classification_report, confusion_matrix, accuracy_score, recall_score"
   ]
  },
  {
   "cell_type": "markdown",
   "metadata": {},
   "source": [
    "## Carregando _Digits DataSet_"
   ]
  },
  {
   "cell_type": "code",
   "execution_count": 2,
   "metadata": {},
   "outputs": [],
   "source": [
    "iris_ds = load_iris()\n",
    "iris_data, iris_target = load_iris(return_X_y=True)"
   ]
  },
  {
   "cell_type": "markdown",
   "metadata": {},
   "source": [
    "## Rodadas de Teste"
   ]
  },
  {
   "cell_type": "code",
   "execution_count": 3,
   "metadata": {},
   "outputs": [
    {
     "output_type": "stream",
     "name": "stdout",
     "text": "\n- RODADA 0 - Semente 761 -\n\n              precision    recall  f1-score   support\n\n      setosa       1.00      1.00      1.00        16\n  versicolor       1.00      0.94      0.97        16\n   virginica       0.93      1.00      0.96        13\n\n    accuracy                           0.98        45\n   macro avg       0.98      0.98      0.98        45\nweighted avg       0.98      0.98      0.98        45\n\n[[16  0  0]\n [ 0 15  1]\n [ 0  0 13]]\n\n- RODADA 1 - Semente 6437 -\n\n              precision    recall  f1-score   support\n\n      setosa       1.00      1.00      1.00        14\n  versicolor       0.94      0.94      0.94        17\n   virginica       0.93      0.93      0.93        14\n\n    accuracy                           0.96        45\n   macro avg       0.96      0.96      0.96        45\nweighted avg       0.96      0.96      0.96        45\n\n[[14  0  0]\n [ 0 16  1]\n [ 0  1 13]]\n\n- RODADA 2 - Semente 1735 -\n\n              precision    recall  f1-score   support\n\n      setosa       1.00      1.00      1.00        12\n  versicolor       0.89      0.94      0.92        18\n   virginica       0.93      0.87      0.90        15\n\n    accuracy                           0.93        45\n   macro avg       0.94      0.94      0.94        45\nweighted avg       0.93      0.93      0.93        45\n\n[[12  0  0]\n [ 0 17  1]\n [ 0  2 13]]\n\n- RODADA 3 - Semente 7711 -\n\n              precision    recall  f1-score   support\n\n      setosa       1.00      1.00      1.00        15\n  versicolor       1.00      1.00      1.00         9\n   virginica       1.00      1.00      1.00        21\n\n    accuracy                           1.00        45\n   macro avg       1.00      1.00      1.00        45\nweighted avg       1.00      1.00      1.00        45\n\n[[15  0  0]\n [ 0  9  0]\n [ 0  0 21]]\n\n- RODADA 4 - Semente 66 -\n\n              precision    recall  f1-score   support\n\n      setosa       1.00      1.00      1.00        15\n  versicolor       0.94      0.88      0.91        17\n   virginica       0.86      0.92      0.89        13\n\n    accuracy                           0.93        45\n   macro avg       0.93      0.94      0.93        45\nweighted avg       0.94      0.93      0.93        45\n\n[[15  0  0]\n [ 0 15  2]\n [ 0  1 12]]\n\n- RODADA 5 - Semente 7247 -\n\n              precision    recall  f1-score   support\n\n      setosa       1.00      1.00      1.00        13\n  versicolor       0.80      1.00      0.89        16\n   virginica       1.00      0.75      0.86        16\n\n    accuracy                           0.91        45\n   macro avg       0.93      0.92      0.92        45\nweighted avg       0.93      0.91      0.91        45\n\n[[13  0  0]\n [ 0 16  0]\n [ 0  4 12]]\n\n- RODADA 6 - Semente 2721 -\n\n              precision    recall  f1-score   support\n\n      setosa       1.00      1.00      1.00        16\n  versicolor       1.00      0.94      0.97        17\n   virginica       0.92      1.00      0.96        12\n\n    accuracy                           0.98        45\n   macro avg       0.97      0.98      0.98        45\nweighted avg       0.98      0.98      0.98        45\n\n[[16  0  0]\n [ 0 16  1]\n [ 0  0 12]]\n\n- RODADA 7 - Semente 6253 -\n\n              precision    recall  f1-score   support\n\n      setosa       1.00      1.00      1.00        15\n  versicolor       0.80      0.92      0.86        13\n   virginica       0.93      0.82      0.87        17\n\n    accuracy                           0.91        45\n   macro avg       0.91      0.92      0.91        45\nweighted avg       0.92      0.91      0.91        45\n\n[[15  0  0]\n [ 0 12  1]\n [ 0  3 14]]\n\n- RODADA 8 - Semente 4002 -\n\n              precision    recall  f1-score   support\n\n      setosa       1.00      1.00      1.00        15\n  versicolor       0.87      1.00      0.93        13\n   virginica       1.00      0.88      0.94        17\n\n    accuracy                           0.96        45\n   macro avg       0.96      0.96      0.96        45\nweighted avg       0.96      0.96      0.96        45\n\n[[15  0  0]\n [ 0 13  0]\n [ 0  2 15]]\n\n- RODADA 9 - Semente 1085 -\n\n              precision    recall  f1-score   support\n\n      setosa       1.00      1.00      1.00        17\n  versicolor       1.00      0.93      0.97        15\n   virginica       0.93      1.00      0.96        13\n\n    accuracy                           0.98        45\n   macro avg       0.98      0.98      0.98        45\nweighted avg       0.98      0.98      0.98        45\n\n[[17  0  0]\n [ 0 14  1]\n [ 0  0 13]]\n\n- RODADA 10 - Semente 2714 -\n\n              precision    recall  f1-score   support\n\n      setosa       1.00      1.00      1.00        15\n  versicolor       1.00      0.93      0.96        14\n   virginica       0.94      1.00      0.97        16\n\n    accuracy                           0.98        45\n   macro avg       0.98      0.98      0.98        45\nweighted avg       0.98      0.98      0.98        45\n\n[[15  0  0]\n [ 0 13  1]\n [ 0  0 16]]\n\n- RODADA 11 - Semente 3017 -\n\n              precision    recall  f1-score   support\n\n      setosa       1.00      1.00      1.00        10\n  versicolor       0.94      0.83      0.88        18\n   virginica       0.84      0.94      0.89        17\n\n    accuracy                           0.91        45\n   macro avg       0.93      0.92      0.92        45\nweighted avg       0.92      0.91      0.91        45\n\n[[10  0  0]\n [ 0 15  3]\n [ 0  1 16]]\n\n- RODADA 12 - Semente 3267 -\n\n              precision    recall  f1-score   support\n\n      setosa       1.00      1.00      1.00        18\n  versicolor       1.00      1.00      1.00        15\n   virginica       1.00      1.00      1.00        12\n\n    accuracy                           1.00        45\n   macro avg       1.00      1.00      1.00        45\nweighted avg       1.00      1.00      1.00        45\n\n[[18  0  0]\n [ 0 15  0]\n [ 0  0 12]]\n\n- RODADA 13 - Semente 1108 -\n\n              precision    recall  f1-score   support\n\n      setosa       1.00      1.00      1.00        14\n  versicolor       1.00      0.94      0.97        16\n   virginica       0.94      1.00      0.97        15\n\n    accuracy                           0.98        45\n   macro avg       0.98      0.98      0.98        45\nweighted avg       0.98      0.98      0.98        45\n\n[[14  0  0]\n [ 0 15  1]\n [ 0  0 15]]\n\n- RODADA 14 - Semente 1969 -\n\n              precision    recall  f1-score   support\n\n      setosa       1.00      1.00      1.00        14\n  versicolor       1.00      1.00      1.00        12\n   virginica       1.00      1.00      1.00        19\n\n    accuracy                           1.00        45\n   macro avg       1.00      1.00      1.00        45\nweighted avg       1.00      1.00      1.00        45\n\n[[14  0  0]\n [ 0 12  0]\n [ 0  0 19]]\n\n- RODADA 15 - Semente 537 -\n\n              precision    recall  f1-score   support\n\n      setosa       1.00      1.00      1.00         9\n  versicolor       0.86      1.00      0.92        18\n   virginica       1.00      0.83      0.91        18\n\n    accuracy                           0.93        45\n   macro avg       0.95      0.94      0.94        45\nweighted avg       0.94      0.93      0.93        45\n\n[[ 9  0  0]\n [ 0 18  0]\n [ 0  3 15]]\n\n- RODADA 16 - Semente 3055 -\n\n              precision    recall  f1-score   support\n\n      setosa       1.00      1.00      1.00        19\n  versicolor       1.00      0.92      0.96        12\n   virginica       0.93      1.00      0.97        14\n\n    accuracy                           0.98        45\n   macro avg       0.98      0.97      0.97        45\nweighted avg       0.98      0.98      0.98        45\n\n[[19  0  0]\n [ 0 11  1]\n [ 0  0 14]]\n\n- RODADA 17 - Semente 3300 -\n\n              precision    recall  f1-score   support\n\n      setosa       1.00      1.00      1.00         8\n  versicolor       1.00      1.00      1.00        18\n   virginica       1.00      1.00      1.00        19\n\n    accuracy                           1.00        45\n   macro avg       1.00      1.00      1.00        45\nweighted avg       1.00      1.00      1.00        45\n\n[[ 8  0  0]\n [ 0 18  0]\n [ 0  0 19]]\n\n- RODADA 18 - Semente 3371 -\n\n              precision    recall  f1-score   support\n\n      setosa       1.00      1.00      1.00        14\n  versicolor       0.95      1.00      0.97        18\n   virginica       1.00      0.92      0.96        13\n\n    accuracy                           0.98        45\n   macro avg       0.98      0.97      0.98        45\nweighted avg       0.98      0.98      0.98        45\n\n[[14  0  0]\n [ 0 18  0]\n [ 0  1 12]]\n\n- RODADA 19 - Semente 7092 -\n\n              precision    recall  f1-score   support\n\n      setosa       1.00      1.00      1.00        18\n  versicolor       1.00      1.00      1.00        15\n   virginica       1.00      1.00      1.00        12\n\n    accuracy                           1.00        45\n   macro avg       1.00      1.00      1.00        45\nweighted avg       1.00      1.00      1.00        45\n\n[[18  0  0]\n [ 0 15  0]\n [ 0  0 12]]\n\n- RODADA 20 - Semente 7267 -\n\n              precision    recall  f1-score   support\n\n      setosa       1.00      1.00      1.00        15\n  versicolor       1.00      0.88      0.94        17\n   virginica       0.87      1.00      0.93        13\n\n    accuracy                           0.96        45\n   macro avg       0.96      0.96      0.96        45\nweighted avg       0.96      0.96      0.96        45\n\n[[15  0  0]\n [ 0 15  2]\n [ 0  0 13]]\n\n- RODADA 21 - Semente 2140 -\n\n              precision    recall  f1-score   support\n\n      setosa       1.00      1.00      1.00        12\n  versicolor       0.83      1.00      0.91        20\n   virginica       1.00      0.69      0.82        13\n\n    accuracy                           0.91        45\n   macro avg       0.94      0.90      0.91        45\nweighted avg       0.93      0.91      0.91        45\n\n[[12  0  0]\n [ 0 20  0]\n [ 0  4  9]]\n\n- RODADA 22 - Semente 3646 -\n\n              precision    recall  f1-score   support\n\n      setosa       1.00      1.00      1.00        15\n  versicolor       0.87      1.00      0.93        13\n   virginica       1.00      0.88      0.94        17\n\n    accuracy                           0.96        45\n   macro avg       0.96      0.96      0.96        45\nweighted avg       0.96      0.96      0.96        45\n\n[[15  0  0]\n [ 0 13  0]\n [ 0  2 15]]\n\n- RODADA 23 - Semente 5669 -\n\n              precision    recall  f1-score   support\n\n      setosa       1.00      1.00      1.00        13\n  versicolor       0.81      1.00      0.90        13\n   virginica       1.00      0.84      0.91        19\n\n    accuracy                           0.93        45\n   macro avg       0.94      0.95      0.94        45\nweighted avg       0.95      0.93      0.93        45\n\n[[13  0  0]\n [ 0 13  0]\n [ 0  3 16]]\n\n- RODADA 24 - Semente 6280 -\n\n              precision    recall  f1-score   support\n\n      setosa       1.00      1.00      1.00        18\n  versicolor       1.00      1.00      1.00        14\n   virginica       1.00      1.00      1.00        13\n\n    accuracy                           1.00        45\n   macro avg       1.00      1.00      1.00        45\nweighted avg       1.00      1.00      1.00        45\n\n[[18  0  0]\n [ 0 14  0]\n [ 0  0 13]]\n\n- RODADA 25 - Semente 3183 -\n\n              precision    recall  f1-score   support\n\n      setosa       1.00      1.00      1.00        11\n  versicolor       0.88      0.94      0.91        16\n   virginica       0.94      0.89      0.91        18\n\n    accuracy                           0.93        45\n   macro avg       0.94      0.94      0.94        45\nweighted avg       0.93      0.93      0.93        45\n\n[[11  0  0]\n [ 0 15  1]\n [ 0  2 16]]\n\n- RODADA 26 - Semente 2479 -\n\n              precision    recall  f1-score   support\n\n      setosa       1.00      1.00      1.00        21\n  versicolor       1.00      0.92      0.96        12\n   virginica       0.92      1.00      0.96        12\n\n    accuracy                           0.98        45\n   macro avg       0.97      0.97      0.97        45\nweighted avg       0.98      0.98      0.98        45\n\n[[21  0  0]\n [ 0 11  1]\n [ 0  0 12]]\n\n- RODADA 27 - Semente 6120 -\n\n              precision    recall  f1-score   support\n\n      setosa       1.00      1.00      1.00        13\n  versicolor       0.93      1.00      0.97        14\n   virginica       1.00      0.94      0.97        18\n\n    accuracy                           0.98        45\n   macro avg       0.98      0.98      0.98        45\nweighted avg       0.98      0.98      0.98        45\n\n[[13  0  0]\n [ 0 14  0]\n [ 0  1 17]]\n\n- RODADA 28 - Semente 2261 -\n\n              precision    recall  f1-score   support\n\n      setosa       1.00      1.00      1.00        14\n  versicolor       1.00      0.93      0.96        14\n   virginica       0.94      1.00      0.97        17\n\n    accuracy                           0.98        45\n   macro avg       0.98      0.98      0.98        45\nweighted avg       0.98      0.98      0.98        45\n\n[[14  0  0]\n [ 0 13  1]\n [ 0  0 17]]\n\n- RODADA 29 - Semente 2345 -\n\n              precision    recall  f1-score   support\n\n      setosa       1.00      1.00      1.00        15\n  versicolor       0.62      0.91      0.74        11\n   virginica       0.93      0.68      0.79        19\n\n    accuracy                           0.84        45\n   macro avg       0.85      0.86      0.84        45\nweighted avg       0.88      0.84      0.85        45\n\n[[15  0  0]\n [ 0 10  1]\n [ 0  6 13]]\n"
    }
   ],
   "source": [
    "k_vizinhos = int(len(iris_data) ** 0.5)\n",
    "\n",
    "iris_accuracy = []\n",
    "iris_recall = []\n",
    "\n",
    "for rodada in range(30):\n",
    "    # Separando dados\n",
    "    semente = randint(0, 8001)\n",
    "    data_train, data_test, target_train, target_test = train_test_split(iris_data, iris_target, test_size=0.3, random_state=semente)\n",
    "\n",
    "    # Instanciando classificador\n",
    "    classifier = KNeighborsClassifier(n_neighbors=k_vizinhos)\n",
    "\n",
    "    # Treinando modelo\n",
    "    classifier.fit(data_train, target_train)\n",
    "\n",
    "    # Realizando teste de classificação\n",
    "    prediction = classifier.predict(data_test)\n",
    "\n",
    "    # Resultados\n",
    "    iris_accuracy.append(accuracy_score(target_test, prediction))\n",
    "\n",
    "    iris_recall.append(recall_score(target_test, prediction, average=None))\n",
    "\n",
    "    print(\"\\n- RODADA {turn} - Semente {seed} -\\n\".format(turn=rodada, seed=semente))\n",
    "    print(classification_report(target_test, prediction, target_names=iris_ds.target_names))\n",
    "    print(confusion_matrix(target_test, prediction))\n",
    ""
   ]
  },
  {
   "cell_type": "markdown",
   "metadata": {},
   "source": [
    "## Lista de Acurácia (_accuracy_) por rodada"
   ]
  },
  {
   "cell_type": "code",
   "execution_count": 4,
   "metadata": {},
   "outputs": [
    {
     "output_type": "execute_result",
     "data": {
      "text/plain": "    Acurácia  Acurácia formatada\n0   0.977778               0.978\n1   0.955556               0.956\n2   0.933333               0.933\n3   1.000000               1.000\n4   0.933333               0.933\n5   0.911111               0.911\n6   0.977778               0.978\n7   0.911111               0.911\n8   0.955556               0.956\n9   0.977778               0.978\n10  0.977778               0.978\n11  0.911111               0.911\n12  1.000000               1.000\n13  0.977778               0.978\n14  1.000000               1.000\n15  0.933333               0.933\n16  0.977778               0.978\n17  1.000000               1.000\n18  0.977778               0.978\n19  1.000000               1.000\n20  0.955556               0.956\n21  0.911111               0.911\n22  0.955556               0.956\n23  0.933333               0.933\n24  1.000000               1.000\n25  0.933333               0.933\n26  0.977778               0.978\n27  0.977778               0.978\n28  0.977778               0.978\n29  0.844444               0.844",
      "text/html": "<div>\n<style scoped>\n    .dataframe tbody tr th:only-of-type {\n        vertical-align: middle;\n    }\n\n    .dataframe tbody tr th {\n        vertical-align: top;\n    }\n\n    .dataframe thead th {\n        text-align: right;\n    }\n</style>\n<table border=\"1\" class=\"dataframe\">\n  <thead>\n    <tr style=\"text-align: right;\">\n      <th></th>\n      <th>Acurácia</th>\n      <th>Acurácia formatada</th>\n    </tr>\n  </thead>\n  <tbody>\n    <tr>\n      <th>0</th>\n      <td>0.977778</td>\n      <td>0.978</td>\n    </tr>\n    <tr>\n      <th>1</th>\n      <td>0.955556</td>\n      <td>0.956</td>\n    </tr>\n    <tr>\n      <th>2</th>\n      <td>0.933333</td>\n      <td>0.933</td>\n    </tr>\n    <tr>\n      <th>3</th>\n      <td>1.000000</td>\n      <td>1.000</td>\n    </tr>\n    <tr>\n      <th>4</th>\n      <td>0.933333</td>\n      <td>0.933</td>\n    </tr>\n    <tr>\n      <th>5</th>\n      <td>0.911111</td>\n      <td>0.911</td>\n    </tr>\n    <tr>\n      <th>6</th>\n      <td>0.977778</td>\n      <td>0.978</td>\n    </tr>\n    <tr>\n      <th>7</th>\n      <td>0.911111</td>\n      <td>0.911</td>\n    </tr>\n    <tr>\n      <th>8</th>\n      <td>0.955556</td>\n      <td>0.956</td>\n    </tr>\n    <tr>\n      <th>9</th>\n      <td>0.977778</td>\n      <td>0.978</td>\n    </tr>\n    <tr>\n      <th>10</th>\n      <td>0.977778</td>\n      <td>0.978</td>\n    </tr>\n    <tr>\n      <th>11</th>\n      <td>0.911111</td>\n      <td>0.911</td>\n    </tr>\n    <tr>\n      <th>12</th>\n      <td>1.000000</td>\n      <td>1.000</td>\n    </tr>\n    <tr>\n      <th>13</th>\n      <td>0.977778</td>\n      <td>0.978</td>\n    </tr>\n    <tr>\n      <th>14</th>\n      <td>1.000000</td>\n      <td>1.000</td>\n    </tr>\n    <tr>\n      <th>15</th>\n      <td>0.933333</td>\n      <td>0.933</td>\n    </tr>\n    <tr>\n      <th>16</th>\n      <td>0.977778</td>\n      <td>0.978</td>\n    </tr>\n    <tr>\n      <th>17</th>\n      <td>1.000000</td>\n      <td>1.000</td>\n    </tr>\n    <tr>\n      <th>18</th>\n      <td>0.977778</td>\n      <td>0.978</td>\n    </tr>\n    <tr>\n      <th>19</th>\n      <td>1.000000</td>\n      <td>1.000</td>\n    </tr>\n    <tr>\n      <th>20</th>\n      <td>0.955556</td>\n      <td>0.956</td>\n    </tr>\n    <tr>\n      <th>21</th>\n      <td>0.911111</td>\n      <td>0.911</td>\n    </tr>\n    <tr>\n      <th>22</th>\n      <td>0.955556</td>\n      <td>0.956</td>\n    </tr>\n    <tr>\n      <th>23</th>\n      <td>0.933333</td>\n      <td>0.933</td>\n    </tr>\n    <tr>\n      <th>24</th>\n      <td>1.000000</td>\n      <td>1.000</td>\n    </tr>\n    <tr>\n      <th>25</th>\n      <td>0.933333</td>\n      <td>0.933</td>\n    </tr>\n    <tr>\n      <th>26</th>\n      <td>0.977778</td>\n      <td>0.978</td>\n    </tr>\n    <tr>\n      <th>27</th>\n      <td>0.977778</td>\n      <td>0.978</td>\n    </tr>\n    <tr>\n      <th>28</th>\n      <td>0.977778</td>\n      <td>0.978</td>\n    </tr>\n    <tr>\n      <th>29</th>\n      <td>0.844444</td>\n      <td>0.844</td>\n    </tr>\n  </tbody>\n</table>\n</div>"
     },
     "metadata": {},
     "execution_count": 4
    }
   ],
   "source": [
    "# Acurácia formatada para exibir 3 casas decimais\n",
    "accuracy_formatada = [round(acc, 3) for acc in iris_accuracy]\n",
    "\n",
    "accuracy_df = pd.DataFrame(data=iris_accuracy, columns=['Acurácia'])\n",
    "accuracy_df['Acurácia formatada'] = accuracy_formatada\n",
    "accuracy_df"
   ]
  },
  {
   "cell_type": "markdown",
   "metadata": {},
   "source": [
    "## Lista de Sensibilidade (_recall_) por rodada"
   ]
  },
  {
   "cell_type": "code",
   "execution_count": 5,
   "metadata": {},
   "outputs": [
    {
     "output_type": "execute_result",
     "data": {
      "text/plain": "    setosa  versicolor  virginica\n0      1.0    0.937500   1.000000\n1      1.0    0.941176   0.928571\n2      1.0    0.944444   0.866667\n3      1.0    1.000000   1.000000\n4      1.0    0.882353   0.923077\n5      1.0    1.000000   0.750000\n6      1.0    0.941176   1.000000\n7      1.0    0.923077   0.823529\n8      1.0    1.000000   0.882353\n9      1.0    0.933333   1.000000\n10     1.0    0.928571   1.000000\n11     1.0    0.833333   0.941176\n12     1.0    1.000000   1.000000\n13     1.0    0.937500   1.000000\n14     1.0    1.000000   1.000000\n15     1.0    1.000000   0.833333\n16     1.0    0.916667   1.000000\n17     1.0    1.000000   1.000000\n18     1.0    1.000000   0.923077\n19     1.0    1.000000   1.000000\n20     1.0    0.882353   1.000000\n21     1.0    1.000000   0.692308\n22     1.0    1.000000   0.882353\n23     1.0    1.000000   0.842105\n24     1.0    1.000000   1.000000\n25     1.0    0.937500   0.888889\n26     1.0    0.916667   1.000000\n27     1.0    1.000000   0.944444\n28     1.0    0.928571   1.000000\n29     1.0    0.909091   0.684211",
      "text/html": "<div>\n<style scoped>\n    .dataframe tbody tr th:only-of-type {\n        vertical-align: middle;\n    }\n\n    .dataframe tbody tr th {\n        vertical-align: top;\n    }\n\n    .dataframe thead th {\n        text-align: right;\n    }\n</style>\n<table border=\"1\" class=\"dataframe\">\n  <thead>\n    <tr style=\"text-align: right;\">\n      <th></th>\n      <th>setosa</th>\n      <th>versicolor</th>\n      <th>virginica</th>\n    </tr>\n  </thead>\n  <tbody>\n    <tr>\n      <th>0</th>\n      <td>1.0</td>\n      <td>0.937500</td>\n      <td>1.000000</td>\n    </tr>\n    <tr>\n      <th>1</th>\n      <td>1.0</td>\n      <td>0.941176</td>\n      <td>0.928571</td>\n    </tr>\n    <tr>\n      <th>2</th>\n      <td>1.0</td>\n      <td>0.944444</td>\n      <td>0.866667</td>\n    </tr>\n    <tr>\n      <th>3</th>\n      <td>1.0</td>\n      <td>1.000000</td>\n      <td>1.000000</td>\n    </tr>\n    <tr>\n      <th>4</th>\n      <td>1.0</td>\n      <td>0.882353</td>\n      <td>0.923077</td>\n    </tr>\n    <tr>\n      <th>5</th>\n      <td>1.0</td>\n      <td>1.000000</td>\n      <td>0.750000</td>\n    </tr>\n    <tr>\n      <th>6</th>\n      <td>1.0</td>\n      <td>0.941176</td>\n      <td>1.000000</td>\n    </tr>\n    <tr>\n      <th>7</th>\n      <td>1.0</td>\n      <td>0.923077</td>\n      <td>0.823529</td>\n    </tr>\n    <tr>\n      <th>8</th>\n      <td>1.0</td>\n      <td>1.000000</td>\n      <td>0.882353</td>\n    </tr>\n    <tr>\n      <th>9</th>\n      <td>1.0</td>\n      <td>0.933333</td>\n      <td>1.000000</td>\n    </tr>\n    <tr>\n      <th>10</th>\n      <td>1.0</td>\n      <td>0.928571</td>\n      <td>1.000000</td>\n    </tr>\n    <tr>\n      <th>11</th>\n      <td>1.0</td>\n      <td>0.833333</td>\n      <td>0.941176</td>\n    </tr>\n    <tr>\n      <th>12</th>\n      <td>1.0</td>\n      <td>1.000000</td>\n      <td>1.000000</td>\n    </tr>\n    <tr>\n      <th>13</th>\n      <td>1.0</td>\n      <td>0.937500</td>\n      <td>1.000000</td>\n    </tr>\n    <tr>\n      <th>14</th>\n      <td>1.0</td>\n      <td>1.000000</td>\n      <td>1.000000</td>\n    </tr>\n    <tr>\n      <th>15</th>\n      <td>1.0</td>\n      <td>1.000000</td>\n      <td>0.833333</td>\n    </tr>\n    <tr>\n      <th>16</th>\n      <td>1.0</td>\n      <td>0.916667</td>\n      <td>1.000000</td>\n    </tr>\n    <tr>\n      <th>17</th>\n      <td>1.0</td>\n      <td>1.000000</td>\n      <td>1.000000</td>\n    </tr>\n    <tr>\n      <th>18</th>\n      <td>1.0</td>\n      <td>1.000000</td>\n      <td>0.923077</td>\n    </tr>\n    <tr>\n      <th>19</th>\n      <td>1.0</td>\n      <td>1.000000</td>\n      <td>1.000000</td>\n    </tr>\n    <tr>\n      <th>20</th>\n      <td>1.0</td>\n      <td>0.882353</td>\n      <td>1.000000</td>\n    </tr>\n    <tr>\n      <th>21</th>\n      <td>1.0</td>\n      <td>1.000000</td>\n      <td>0.692308</td>\n    </tr>\n    <tr>\n      <th>22</th>\n      <td>1.0</td>\n      <td>1.000000</td>\n      <td>0.882353</td>\n    </tr>\n    <tr>\n      <th>23</th>\n      <td>1.0</td>\n      <td>1.000000</td>\n      <td>0.842105</td>\n    </tr>\n    <tr>\n      <th>24</th>\n      <td>1.0</td>\n      <td>1.000000</td>\n      <td>1.000000</td>\n    </tr>\n    <tr>\n      <th>25</th>\n      <td>1.0</td>\n      <td>0.937500</td>\n      <td>0.888889</td>\n    </tr>\n    <tr>\n      <th>26</th>\n      <td>1.0</td>\n      <td>0.916667</td>\n      <td>1.000000</td>\n    </tr>\n    <tr>\n      <th>27</th>\n      <td>1.0</td>\n      <td>1.000000</td>\n      <td>0.944444</td>\n    </tr>\n    <tr>\n      <th>28</th>\n      <td>1.0</td>\n      <td>0.928571</td>\n      <td>1.000000</td>\n    </tr>\n    <tr>\n      <th>29</th>\n      <td>1.0</td>\n      <td>0.909091</td>\n      <td>0.684211</td>\n    </tr>\n  </tbody>\n</table>\n</div>"
     },
     "metadata": {},
     "execution_count": 5
    }
   ],
   "source": [
    "pd.DataFrame(data=iris_recall, columns=iris_ds.target_names)"
   ]
  },
  {
   "cell_type": "code",
   "execution_count": 6,
   "metadata": {},
   "outputs": [
    {
     "output_type": "execute_result",
     "data": {
      "text/plain": "    setosa  versicolor  virginica\n0      1.0       0.938      1.000\n1      1.0       0.941      0.929\n2      1.0       0.944      0.867\n3      1.0       1.000      1.000\n4      1.0       0.882      0.923\n5      1.0       1.000      0.750\n6      1.0       0.941      1.000\n7      1.0       0.923      0.824\n8      1.0       1.000      0.882\n9      1.0       0.933      1.000\n10     1.0       0.929      1.000\n11     1.0       0.833      0.941\n12     1.0       1.000      1.000\n13     1.0       0.938      1.000\n14     1.0       1.000      1.000\n15     1.0       1.000      0.833\n16     1.0       0.917      1.000\n17     1.0       1.000      1.000\n18     1.0       1.000      0.923\n19     1.0       1.000      1.000\n20     1.0       0.882      1.000\n21     1.0       1.000      0.692\n22     1.0       1.000      0.882\n23     1.0       1.000      0.842\n24     1.0       1.000      1.000\n25     1.0       0.938      0.889\n26     1.0       0.917      1.000\n27     1.0       1.000      0.944\n28     1.0       0.929      1.000\n29     1.0       0.909      0.684",
      "text/html": "<div>\n<style scoped>\n    .dataframe tbody tr th:only-of-type {\n        vertical-align: middle;\n    }\n\n    .dataframe tbody tr th {\n        vertical-align: top;\n    }\n\n    .dataframe thead th {\n        text-align: right;\n    }\n</style>\n<table border=\"1\" class=\"dataframe\">\n  <thead>\n    <tr style=\"text-align: right;\">\n      <th></th>\n      <th>setosa</th>\n      <th>versicolor</th>\n      <th>virginica</th>\n    </tr>\n  </thead>\n  <tbody>\n    <tr>\n      <th>0</th>\n      <td>1.0</td>\n      <td>0.938</td>\n      <td>1.000</td>\n    </tr>\n    <tr>\n      <th>1</th>\n      <td>1.0</td>\n      <td>0.941</td>\n      <td>0.929</td>\n    </tr>\n    <tr>\n      <th>2</th>\n      <td>1.0</td>\n      <td>0.944</td>\n      <td>0.867</td>\n    </tr>\n    <tr>\n      <th>3</th>\n      <td>1.0</td>\n      <td>1.000</td>\n      <td>1.000</td>\n    </tr>\n    <tr>\n      <th>4</th>\n      <td>1.0</td>\n      <td>0.882</td>\n      <td>0.923</td>\n    </tr>\n    <tr>\n      <th>5</th>\n      <td>1.0</td>\n      <td>1.000</td>\n      <td>0.750</td>\n    </tr>\n    <tr>\n      <th>6</th>\n      <td>1.0</td>\n      <td>0.941</td>\n      <td>1.000</td>\n    </tr>\n    <tr>\n      <th>7</th>\n      <td>1.0</td>\n      <td>0.923</td>\n      <td>0.824</td>\n    </tr>\n    <tr>\n      <th>8</th>\n      <td>1.0</td>\n      <td>1.000</td>\n      <td>0.882</td>\n    </tr>\n    <tr>\n      <th>9</th>\n      <td>1.0</td>\n      <td>0.933</td>\n      <td>1.000</td>\n    </tr>\n    <tr>\n      <th>10</th>\n      <td>1.0</td>\n      <td>0.929</td>\n      <td>1.000</td>\n    </tr>\n    <tr>\n      <th>11</th>\n      <td>1.0</td>\n      <td>0.833</td>\n      <td>0.941</td>\n    </tr>\n    <tr>\n      <th>12</th>\n      <td>1.0</td>\n      <td>1.000</td>\n      <td>1.000</td>\n    </tr>\n    <tr>\n      <th>13</th>\n      <td>1.0</td>\n      <td>0.938</td>\n      <td>1.000</td>\n    </tr>\n    <tr>\n      <th>14</th>\n      <td>1.0</td>\n      <td>1.000</td>\n      <td>1.000</td>\n    </tr>\n    <tr>\n      <th>15</th>\n      <td>1.0</td>\n      <td>1.000</td>\n      <td>0.833</td>\n    </tr>\n    <tr>\n      <th>16</th>\n      <td>1.0</td>\n      <td>0.917</td>\n      <td>1.000</td>\n    </tr>\n    <tr>\n      <th>17</th>\n      <td>1.0</td>\n      <td>1.000</td>\n      <td>1.000</td>\n    </tr>\n    <tr>\n      <th>18</th>\n      <td>1.0</td>\n      <td>1.000</td>\n      <td>0.923</td>\n    </tr>\n    <tr>\n      <th>19</th>\n      <td>1.0</td>\n      <td>1.000</td>\n      <td>1.000</td>\n    </tr>\n    <tr>\n      <th>20</th>\n      <td>1.0</td>\n      <td>0.882</td>\n      <td>1.000</td>\n    </tr>\n    <tr>\n      <th>21</th>\n      <td>1.0</td>\n      <td>1.000</td>\n      <td>0.692</td>\n    </tr>\n    <tr>\n      <th>22</th>\n      <td>1.0</td>\n      <td>1.000</td>\n      <td>0.882</td>\n    </tr>\n    <tr>\n      <th>23</th>\n      <td>1.0</td>\n      <td>1.000</td>\n      <td>0.842</td>\n    </tr>\n    <tr>\n      <th>24</th>\n      <td>1.0</td>\n      <td>1.000</td>\n      <td>1.000</td>\n    </tr>\n    <tr>\n      <th>25</th>\n      <td>1.0</td>\n      <td>0.938</td>\n      <td>0.889</td>\n    </tr>\n    <tr>\n      <th>26</th>\n      <td>1.0</td>\n      <td>0.917</td>\n      <td>1.000</td>\n    </tr>\n    <tr>\n      <th>27</th>\n      <td>1.0</td>\n      <td>1.000</td>\n      <td>0.944</td>\n    </tr>\n    <tr>\n      <th>28</th>\n      <td>1.0</td>\n      <td>0.929</td>\n      <td>1.000</td>\n    </tr>\n    <tr>\n      <th>29</th>\n      <td>1.0</td>\n      <td>0.909</td>\n      <td>0.684</td>\n    </tr>\n  </tbody>\n</table>\n</div>"
     },
     "metadata": {},
     "execution_count": 6
    }
   ],
   "source": [
    "# Sensibilidade formatada para exibir 3 casas decimais\n",
    "recall_formatado = [[round(setosa, 3), round(versicolor, 3), round(virginica, 3)] for setosa, versicolor, virginica in iris_recall]\n",
    "pd.DataFrame(data=recall_formatado, columns=iris_ds.target_names)"
   ]
  },
  {
   "cell_type": "markdown",
   "metadata": {},
   "source": [
    "## Calculando Média (Acurácia)"
   ]
  },
  {
   "cell_type": "code",
   "execution_count": 7,
   "metadata": {},
   "outputs": [
    {
     "output_type": "stream",
     "name": "stdout",
     "text": "Acurácia média: 0.95857\n"
    }
   ],
   "source": [
    "accuracy_media = 0\n",
    "for acc in accuracy_formatada:\n",
    "    accuracy_media += acc\n",
    "accuracy_media /= 30\n",
    "\n",
    "# Arredondando para 5 casas decimais\n",
    "accuracy_media = round(accuracy_media, 5)\n",
    "print(\"Acurácia média: {}\".format(accuracy_media))"
   ]
  },
  {
   "cell_type": "markdown",
   "metadata": {},
   "source": [
    "## Calculando Média (Sensibilidade)"
   ]
  },
  {
   "cell_type": "code",
   "execution_count": 8,
   "metadata": {},
   "outputs": [
    {
     "output_type": "stream",
     "name": "stdout",
     "text": "Sensibilidade média\nsetosa: 1.0\nversicolor: 0.95647\nvirginica: 0.92683\n"
    }
   ],
   "source": [
    "recall_media = [0, 0, 0]\n",
    "for setosa, versicolor, virginica in recall_formatado:\n",
    "    recall_media[0] += setosa\n",
    "    recall_media[1] += versicolor\n",
    "    recall_media[2] += virginica\n",
    "recall_media = [media/30 for media in recall_media]\n",
    "\n",
    "# Arredondando para 5 casas decimais\n",
    "recall_media = [round(media, 5) for media in recall_media]\n",
    "print(\"Sensibilidade média\")\n",
    "print(\"setosa: {setosa}\".format(setosa=recall_media[0]))\n",
    "print(\"versicolor: {versicolor}\".format(versicolor=recall_media[1]))\n",
    "print(\"virginica: {virginica}\".format(virginica=recall_media[2]))"
   ]
  }
 ],
 "metadata": {
  "kernelspec": {
   "display_name": "ML_venv",
   "language": "python",
   "name": "ml_venv"
  },
  "language_info": {
   "codemirror_mode": {
    "name": "ipython",
    "version": 3
   },
   "file_extension": ".py",
   "mimetype": "text/x-python",
   "name": "python",
   "nbconvert_exporter": "python",
   "pygments_lexer": "ipython3",
   "version": "3.7.7-final"
  }
 },
 "nbformat": 4,
 "nbformat_minor": 4
}