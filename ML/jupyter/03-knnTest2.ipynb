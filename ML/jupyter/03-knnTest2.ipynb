{
 "cells": [
  {
   "cell_type": "markdown",
   "metadata": {},
   "source": [
    "# KNN Test\n",
    "\n",
    "Testando 30 rodadas com algoritmo KNN no **Iris dataset** utilizando a biblioteca `scikit-learn`."
   ]
  },
  {
   "cell_type": "markdown",
   "metadata": {},
   "source": [
    "## Importando Bibliotecas"
   ]
  },
  {
   "cell_type": "code",
   "execution_count": 1,
   "metadata": {},
   "outputs": [],
   "source": [
    "import pandas as pd\n",
    "\n",
    "from random import randint\n",
    "from sklearn.datasets import load_iris\n",
    "from sklearn.neighbors import KNeighborsClassifier\n",
    "from sklearn.model_selection import train_test_split\n",
    "from sklearn.metrics import classification_report, confusion_matrix, accuracy_score, recall_score"
   ]
  },
  {
   "cell_type": "markdown",
   "metadata": {},
   "source": [
    "## Carregando _Digits DataSet_"
   ]
  },
  {
   "cell_type": "code",
   "execution_count": 2,
   "metadata": {},
   "outputs": [],
   "source": [
    "iris_ds = load_iris()\n",
    "iris_data, iris_target = load_iris(return_X_y=True)"
   ]
  },
  {
   "cell_type": "markdown",
   "metadata": {},
   "source": [
    "## Rodadas de Teste"
   ]
  },
  {
   "cell_type": "code",
   "execution_count": 3,
   "metadata": {},
   "outputs": [
    {
     "output_type": "stream",
     "name": "stdout",
     "text": "\n- RODADA 0 - Semente 4186 -\n\n              precision    recall  f1-score   support\n\n      setosa       1.00      1.00      1.00        15\n  versicolor       1.00      0.87      0.93        15\n   virginica       0.88      1.00      0.94        15\n\n    accuracy                           0.96        45\n   macro avg       0.96      0.96      0.96        45\nweighted avg       0.96      0.96      0.96        45\n\n[[15  0  0]\n [ 0 13  2]\n [ 0  0 15]]\n\n- RODADA 1 - Semente 1205 -\n\n              precision    recall  f1-score   support\n\n      setosa       1.00      1.00      1.00        13\n  versicolor       0.94      0.94      0.94        18\n   virginica       0.93      0.93      0.93        14\n\n    accuracy                           0.96        45\n   macro avg       0.96      0.96      0.96        45\nweighted avg       0.96      0.96      0.96        45\n\n[[13  0  0]\n [ 0 17  1]\n [ 0  1 13]]\n\n- RODADA 2 - Semente 7594 -\n\n              precision    recall  f1-score   support\n\n      setosa       1.00      1.00      1.00        20\n  versicolor       1.00      0.87      0.93        15\n   virginica       0.83      1.00      0.91        10\n\n    accuracy                           0.96        45\n   macro avg       0.94      0.96      0.95        45\nweighted avg       0.96      0.96      0.96        45\n\n[[20  0  0]\n [ 0 13  2]\n [ 0  0 10]]\n\n- RODADA 3 - Semente 689 -\n\n              precision    recall  f1-score   support\n\n      setosa       1.00      1.00      1.00        14\n  versicolor       1.00      0.88      0.93        16\n   virginica       0.88      1.00      0.94        15\n\n    accuracy                           0.96        45\n   macro avg       0.96      0.96      0.96        45\nweighted avg       0.96      0.96      0.96        45\n\n[[14  0  0]\n [ 0 14  2]\n [ 0  0 15]]\n\n- RODADA 4 - Semente 6575 -\n\n              precision    recall  f1-score   support\n\n      setosa       1.00      1.00      1.00        13\n  versicolor       0.94      0.94      0.94        16\n   virginica       0.94      0.94      0.94        16\n\n    accuracy                           0.96        45\n   macro avg       0.96      0.96      0.96        45\nweighted avg       0.96      0.96      0.96        45\n\n[[13  0  0]\n [ 0 15  1]\n [ 0  1 15]]\n\n- RODADA 5 - Semente 3044 -\n\n              precision    recall  f1-score   support\n\n      setosa       1.00      1.00      1.00        13\n  versicolor       1.00      0.89      0.94        18\n   virginica       0.88      1.00      0.93        14\n\n    accuracy                           0.96        45\n   macro avg       0.96      0.96      0.96        45\nweighted avg       0.96      0.96      0.96        45\n\n[[13  0  0]\n [ 0 16  2]\n [ 0  0 14]]\n\n- RODADA 6 - Semente 7900 -\n\n              precision    recall  f1-score   support\n\n      setosa       1.00      1.00      1.00        17\n  versicolor       0.86      1.00      0.92        12\n   virginica       1.00      0.88      0.93        16\n\n    accuracy                           0.96        45\n   macro avg       0.95      0.96      0.95        45\nweighted avg       0.96      0.96      0.96        45\n\n[[17  0  0]\n [ 0 12  0]\n [ 0  2 14]]\n\n- RODADA 7 - Semente 2322 -\n\n              precision    recall  f1-score   support\n\n      setosa       1.00      1.00      1.00        17\n  versicolor       1.00      1.00      1.00        15\n   virginica       1.00      1.00      1.00        13\n\n    accuracy                           1.00        45\n   macro avg       1.00      1.00      1.00        45\nweighted avg       1.00      1.00      1.00        45\n\n[[17  0  0]\n [ 0 15  0]\n [ 0  0 13]]\n\n- RODADA 8 - Semente 4839 -\n\n              precision    recall  f1-score   support\n\n      setosa       1.00      1.00      1.00        13\n  versicolor       0.87      1.00      0.93        13\n   virginica       1.00      0.89      0.94        19\n\n    accuracy                           0.96        45\n   macro avg       0.96      0.96      0.96        45\nweighted avg       0.96      0.96      0.96        45\n\n[[13  0  0]\n [ 0 13  0]\n [ 0  2 17]]\n\n- RODADA 9 - Semente 6842 -\n\n              precision    recall  f1-score   support\n\n      setosa       1.00      1.00      1.00        16\n  versicolor       0.94      1.00      0.97        15\n   virginica       1.00      0.93      0.96        14\n\n    accuracy                           0.98        45\n   macro avg       0.98      0.98      0.98        45\nweighted avg       0.98      0.98      0.98        45\n\n[[16  0  0]\n [ 0 15  0]\n [ 0  1 13]]\n\n- RODADA 10 - Semente 6583 -\n\n              precision    recall  f1-score   support\n\n      setosa       1.00      1.00      1.00        15\n  versicolor       0.94      0.89      0.91        18\n   virginica       0.85      0.92      0.88        12\n\n    accuracy                           0.93        45\n   macro avg       0.93      0.94      0.93        45\nweighted avg       0.94      0.93      0.93        45\n\n[[15  0  0]\n [ 0 16  2]\n [ 0  1 11]]\n\n- RODADA 11 - Semente 5362 -\n\n              precision    recall  f1-score   support\n\n      setosa       1.00      1.00      1.00        12\n  versicolor       0.92      1.00      0.96        12\n   virginica       1.00      0.95      0.98        21\n\n    accuracy                           0.98        45\n   macro avg       0.97      0.98      0.98        45\nweighted avg       0.98      0.98      0.98        45\n\n[[12  0  0]\n [ 0 12  0]\n [ 0  1 20]]\n\n- RODADA 12 - Semente 2090 -\n\n              precision    recall  f1-score   support\n\n      setosa       1.00      1.00      1.00        16\n  versicolor       0.95      1.00      0.97        18\n   virginica       1.00      0.91      0.95        11\n\n    accuracy                           0.98        45\n   macro avg       0.98      0.97      0.98        45\nweighted avg       0.98      0.98      0.98        45\n\n[[16  0  0]\n [ 0 18  0]\n [ 0  1 10]]\n\n- RODADA 13 - Semente 1805 -\n\n              precision    recall  f1-score   support\n\n      setosa       1.00      1.00      1.00        19\n  versicolor       0.90      0.90      0.90        10\n   virginica       0.94      0.94      0.94        16\n\n    accuracy                           0.96        45\n   macro avg       0.95      0.95      0.95        45\nweighted avg       0.96      0.96      0.96        45\n\n[[19  0  0]\n [ 0  9  1]\n [ 0  1 15]]\n\n- RODADA 14 - Semente 1636 -\n\n              precision    recall  f1-score   support\n\n      setosa       1.00      1.00      1.00        13\n  versicolor       1.00      1.00      1.00        20\n   virginica       1.00      1.00      1.00        12\n\n    accuracy                           1.00        45\n   macro avg       1.00      1.00      1.00        45\nweighted avg       1.00      1.00      1.00        45\n\n[[13  0  0]\n [ 0 20  0]\n [ 0  0 12]]\n\n- RODADA 15 - Semente 3442 -\n\n              precision    recall  f1-score   support\n\n      setosa       1.00      1.00      1.00        19\n  versicolor       0.91      1.00      0.95        10\n   virginica       1.00      0.94      0.97        16\n\n    accuracy                           0.98        45\n   macro avg       0.97      0.98      0.97        45\nweighted avg       0.98      0.98      0.98        45\n\n[[19  0  0]\n [ 0 10  0]\n [ 0  1 15]]\n\n- RODADA 16 - Semente 2445 -\n\n              precision    recall  f1-score   support\n\n      setosa       1.00      1.00      1.00        16\n  versicolor       0.94      1.00      0.97        17\n   virginica       1.00      0.92      0.96        12\n\n    accuracy                           0.98        45\n   macro avg       0.98      0.97      0.98        45\nweighted avg       0.98      0.98      0.98        45\n\n[[16  0  0]\n [ 0 17  0]\n [ 0  1 11]]\n\n- RODADA 17 - Semente 2893 -\n\n              precision    recall  f1-score   support\n\n      setosa       1.00      1.00      1.00        15\n  versicolor       1.00      1.00      1.00        18\n   virginica       1.00      1.00      1.00        12\n\n    accuracy                           1.00        45\n   macro avg       1.00      1.00      1.00        45\nweighted avg       1.00      1.00      1.00        45\n\n[[15  0  0]\n [ 0 18  0]\n [ 0  0 12]]\n\n- RODADA 18 - Semente 4195 -\n\n              precision    recall  f1-score   support\n\n      setosa       1.00      1.00      1.00        16\n  versicolor       1.00      1.00      1.00        10\n   virginica       1.00      1.00      1.00        19\n\n    accuracy                           1.00        45\n   macro avg       1.00      1.00      1.00        45\nweighted avg       1.00      1.00      1.00        45\n\n[[16  0  0]\n [ 0 10  0]\n [ 0  0 19]]\n\n- RODADA 19 - Semente 7254 -\n\n              precision    recall  f1-score   support\n\n      setosa       1.00      1.00      1.00        22\n  versicolor       0.80      1.00      0.89        12\n   virginica       1.00      0.73      0.84        11\n\n    accuracy                           0.93        45\n   macro avg       0.93      0.91      0.91        45\nweighted avg       0.95      0.93      0.93        45\n\n[[22  0  0]\n [ 0 12  0]\n [ 0  3  8]]\n\n- RODADA 20 - Semente 7097 -\n\n              precision    recall  f1-score   support\n\n      setosa       1.00      1.00      1.00        11\n  versicolor       1.00      0.94      0.97        17\n   virginica       0.94      1.00      0.97        17\n\n    accuracy                           0.98        45\n   macro avg       0.98      0.98      0.98        45\nweighted avg       0.98      0.98      0.98        45\n\n[[11  0  0]\n [ 0 16  1]\n [ 0  0 17]]\n\n- RODADA 21 - Semente 2195 -\n\n              precision    recall  f1-score   support\n\n      setosa       1.00      1.00      1.00        11\n  versicolor       0.95      0.95      0.95        20\n   virginica       0.93      0.93      0.93        14\n\n    accuracy                           0.96        45\n   macro avg       0.96      0.96      0.96        45\nweighted avg       0.96      0.96      0.96        45\n\n[[11  0  0]\n [ 0 19  1]\n [ 0  1 13]]\n\n- RODADA 22 - Semente 7203 -\n\n              precision    recall  f1-score   support\n\n      setosa       1.00      1.00      1.00        12\n  versicolor       0.87      0.93      0.90        14\n   virginica       0.94      0.89      0.92        19\n\n    accuracy                           0.93        45\n   macro avg       0.94      0.94      0.94        45\nweighted avg       0.94      0.93      0.93        45\n\n[[12  0  0]\n [ 0 13  1]\n [ 0  2 17]]\n\n- RODADA 23 - Semente 2709 -\n\n              precision    recall  f1-score   support\n\n      setosa       1.00      1.00      1.00        14\n  versicolor       1.00      1.00      1.00        18\n   virginica       1.00      1.00      1.00        13\n\n    accuracy                           1.00        45\n   macro avg       1.00      1.00      1.00        45\nweighted avg       1.00      1.00      1.00        45\n\n[[14  0  0]\n [ 0 18  0]\n [ 0  0 13]]\n\n- RODADA 24 - Semente 3142 -\n\n              precision    recall  f1-score   support\n\n      setosa       1.00      1.00      1.00        16\n  versicolor       0.93      1.00      0.96        13\n   virginica       1.00      0.94      0.97        16\n\n    accuracy                           0.98        45\n   macro avg       0.98      0.98      0.98        45\nweighted avg       0.98      0.98      0.98        45\n\n[[16  0  0]\n [ 0 13  0]\n [ 0  1 15]]\n\n- RODADA 25 - Semente 7990 -\n\n              precision    recall  f1-score   support\n\n      setosa       1.00      1.00      1.00        15\n  versicolor       0.83      1.00      0.91        10\n   virginica       1.00      0.90      0.95        20\n\n    accuracy                           0.96        45\n   macro avg       0.94      0.97      0.95        45\nweighted avg       0.96      0.96      0.96        45\n\n[[15  0  0]\n [ 0 10  0]\n [ 0  2 18]]\n\n- RODADA 26 - Semente 561 -\n\n              precision    recall  f1-score   support\n\n      setosa       1.00      1.00      1.00        15\n  versicolor       1.00      0.80      0.89        20\n   virginica       0.71      1.00      0.83        10\n\n    accuracy                           0.91        45\n   macro avg       0.90      0.93      0.91        45\nweighted avg       0.94      0.91      0.91        45\n\n[[15  0  0]\n [ 0 16  4]\n [ 0  0 10]]\n\n- RODADA 27 - Semente 887 -\n\n              precision    recall  f1-score   support\n\n      setosa       1.00      1.00      1.00        16\n  versicolor       0.88      0.88      0.88        16\n   virginica       0.85      0.85      0.85        13\n\n    accuracy                           0.91        45\n   macro avg       0.91      0.91      0.91        45\nweighted avg       0.91      0.91      0.91        45\n\n[[16  0  0]\n [ 0 14  2]\n [ 0  2 11]]\n\n- RODADA 28 - Semente 4756 -\n\n              precision    recall  f1-score   support\n\n      setosa       1.00      1.00      1.00        18\n  versicolor       0.95      0.95      0.95        19\n   virginica       0.88      0.88      0.88         8\n\n    accuracy                           0.96        45\n   macro avg       0.94      0.94      0.94        45\nweighted avg       0.96      0.96      0.96        45\n\n[[18  0  0]\n [ 0 18  1]\n [ 0  1  7]]\n\n- RODADA 29 - Semente 6938 -\n\n              precision    recall  f1-score   support\n\n      setosa       1.00      1.00      1.00        19\n  versicolor       0.85      0.92      0.88        12\n   virginica       0.92      0.86      0.89        14\n\n    accuracy                           0.93        45\n   macro avg       0.92      0.92      0.92        45\nweighted avg       0.94      0.93      0.93        45\n\n[[19  0  0]\n [ 0 11  1]\n [ 0  2 12]]\n"
    }
   ],
   "source": [
    "k_vizinhos = int(len(iris_data) ** 0.5)\n",
    "\n",
    "iris_accuracy = []\n",
    "iris_recall = []\n",
    "\n",
    "for rodada in range(30):\n",
    "    # Separando dados\n",
    "    semente = randint(0, 8001)\n",
    "    data_train, data_test, target_train, target_test = train_test_split(iris_data, iris_target, test_size=0.3, random_state=semente)\n",
    "\n",
    "    # Instanciando classificador\n",
    "    classifier = KNeighborsClassifier(n_neighbors=k_vizinhos)\n",
    "\n",
    "    # Treinando modelo\n",
    "    classifier.fit(data_train, target_train)\n",
    "\n",
    "    # Realizando teste de classificação\n",
    "    prediction = classifier.predict(data_test)\n",
    "\n",
    "    # Resultados\n",
    "    iris_accuracy.append(accuracy_score(target_test, prediction))\n",
    "\n",
    "    iris_recall.append(recall_score(target_test, prediction, average=None))\n",
    "\n",
    "    print(\"\\n- RODADA {turn} - Semente {seed} -\\n\".format(turn=rodada, seed=semente))\n",
    "    print(classification_report(target_test, prediction, target_names=iris_ds.target_names))\n",
    "    print(confusion_matrix(target_test, prediction))\n",
    ""
   ]
  },
  {
   "cell_type": "markdown",
   "metadata": {},
   "source": [
    "## Lista de Acurácia (_accuracy_) por rodada"
   ]
  },
  {
   "cell_type": "code",
   "execution_count": 4,
   "metadata": {},
   "outputs": [
    {
     "output_type": "execute_result",
     "data": {
      "text/plain": "    Acurácia  Acurácia formatada\n0   0.955556               0.956\n1   0.955556               0.956\n2   0.955556               0.956\n3   0.955556               0.956\n4   0.955556               0.956\n5   0.955556               0.956\n6   0.955556               0.956\n7   1.000000               1.000\n8   0.955556               0.956\n9   0.977778               0.978\n10  0.933333               0.933\n11  0.977778               0.978\n12  0.977778               0.978\n13  0.955556               0.956\n14  1.000000               1.000\n15  0.977778               0.978\n16  0.977778               0.978\n17  1.000000               1.000\n18  1.000000               1.000\n19  0.933333               0.933\n20  0.977778               0.978\n21  0.955556               0.956\n22  0.933333               0.933\n23  1.000000               1.000\n24  0.977778               0.978\n25  0.955556               0.956\n26  0.911111               0.911\n27  0.911111               0.911\n28  0.955556               0.956\n29  0.933333               0.933",
      "text/html": "<div>\n<style scoped>\n    .dataframe tbody tr th:only-of-type {\n        vertical-align: middle;\n    }\n\n    .dataframe tbody tr th {\n        vertical-align: top;\n    }\n\n    .dataframe thead th {\n        text-align: right;\n    }\n</style>\n<table border=\"1\" class=\"dataframe\">\n  <thead>\n    <tr style=\"text-align: right;\">\n      <th></th>\n      <th>Acurácia</th>\n      <th>Acurácia formatada</th>\n    </tr>\n  </thead>\n  <tbody>\n    <tr>\n      <th>0</th>\n      <td>0.955556</td>\n      <td>0.956</td>\n    </tr>\n    <tr>\n      <th>1</th>\n      <td>0.955556</td>\n      <td>0.956</td>\n    </tr>\n    <tr>\n      <th>2</th>\n      <td>0.955556</td>\n      <td>0.956</td>\n    </tr>\n    <tr>\n      <th>3</th>\n      <td>0.955556</td>\n      <td>0.956</td>\n    </tr>\n    <tr>\n      <th>4</th>\n      <td>0.955556</td>\n      <td>0.956</td>\n    </tr>\n    <tr>\n      <th>5</th>\n      <td>0.955556</td>\n      <td>0.956</td>\n    </tr>\n    <tr>\n      <th>6</th>\n      <td>0.955556</td>\n      <td>0.956</td>\n    </tr>\n    <tr>\n      <th>7</th>\n      <td>1.000000</td>\n      <td>1.000</td>\n    </tr>\n    <tr>\n      <th>8</th>\n      <td>0.955556</td>\n      <td>0.956</td>\n    </tr>\n    <tr>\n      <th>9</th>\n      <td>0.977778</td>\n      <td>0.978</td>\n    </tr>\n    <tr>\n      <th>10</th>\n      <td>0.933333</td>\n      <td>0.933</td>\n    </tr>\n    <tr>\n      <th>11</th>\n      <td>0.977778</td>\n      <td>0.978</td>\n    </tr>\n    <tr>\n      <th>12</th>\n      <td>0.977778</td>\n      <td>0.978</td>\n    </tr>\n    <tr>\n      <th>13</th>\n      <td>0.955556</td>\n      <td>0.956</td>\n    </tr>\n    <tr>\n      <th>14</th>\n      <td>1.000000</td>\n      <td>1.000</td>\n    </tr>\n    <tr>\n      <th>15</th>\n      <td>0.977778</td>\n      <td>0.978</td>\n    </tr>\n    <tr>\n      <th>16</th>\n      <td>0.977778</td>\n      <td>0.978</td>\n    </tr>\n    <tr>\n      <th>17</th>\n      <td>1.000000</td>\n      <td>1.000</td>\n    </tr>\n    <tr>\n      <th>18</th>\n      <td>1.000000</td>\n      <td>1.000</td>\n    </tr>\n    <tr>\n      <th>19</th>\n      <td>0.933333</td>\n      <td>0.933</td>\n    </tr>\n    <tr>\n      <th>20</th>\n      <td>0.977778</td>\n      <td>0.978</td>\n    </tr>\n    <tr>\n      <th>21</th>\n      <td>0.955556</td>\n      <td>0.956</td>\n    </tr>\n    <tr>\n      <th>22</th>\n      <td>0.933333</td>\n      <td>0.933</td>\n    </tr>\n    <tr>\n      <th>23</th>\n      <td>1.000000</td>\n      <td>1.000</td>\n    </tr>\n    <tr>\n      <th>24</th>\n      <td>0.977778</td>\n      <td>0.978</td>\n    </tr>\n    <tr>\n      <th>25</th>\n      <td>0.955556</td>\n      <td>0.956</td>\n    </tr>\n    <tr>\n      <th>26</th>\n      <td>0.911111</td>\n      <td>0.911</td>\n    </tr>\n    <tr>\n      <th>27</th>\n      <td>0.911111</td>\n      <td>0.911</td>\n    </tr>\n    <tr>\n      <th>28</th>\n      <td>0.955556</td>\n      <td>0.956</td>\n    </tr>\n    <tr>\n      <th>29</th>\n      <td>0.933333</td>\n      <td>0.933</td>\n    </tr>\n  </tbody>\n</table>\n</div>"
     },
     "metadata": {},
     "execution_count": 4
    }
   ],
   "source": [
    "# Acurácia formatada para exibir 3 casas decimais\n",
    "accuracy_formatada = [round(acc, 3) for acc in iris_accuracy]\n",
    "\n",
    "accuracy_df = pd.DataFrame(data=iris_accuracy, columns=['Acurácia'])\n",
    "accuracy_df['Acurácia formatada'] = accuracy_formatada\n",
    "accuracy_df"
   ]
  },
  {
   "cell_type": "markdown",
   "metadata": {},
   "source": [
    "## Lista de Sensibilidade (_recall_) por rodada"
   ]
  },
  {
   "cell_type": "code",
   "execution_count": 5,
   "metadata": {},
   "outputs": [
    {
     "output_type": "execute_result",
     "data": {
      "text/plain": "    setosa  versicolor  virginica\n0      1.0    0.866667   1.000000\n1      1.0    0.944444   0.928571\n2      1.0    0.866667   1.000000\n3      1.0    0.875000   1.000000\n4      1.0    0.937500   0.937500\n5      1.0    0.888889   1.000000\n6      1.0    1.000000   0.875000\n7      1.0    1.000000   1.000000\n8      1.0    1.000000   0.894737\n9      1.0    1.000000   0.928571\n10     1.0    0.888889   0.916667\n11     1.0    1.000000   0.952381\n12     1.0    1.000000   0.909091\n13     1.0    0.900000   0.937500\n14     1.0    1.000000   1.000000\n15     1.0    1.000000   0.937500\n16     1.0    1.000000   0.916667\n17     1.0    1.000000   1.000000\n18     1.0    1.000000   1.000000\n19     1.0    1.000000   0.727273\n20     1.0    0.941176   1.000000\n21     1.0    0.950000   0.928571\n22     1.0    0.928571   0.894737\n23     1.0    1.000000   1.000000\n24     1.0    1.000000   0.937500\n25     1.0    1.000000   0.900000\n26     1.0    0.800000   1.000000\n27     1.0    0.875000   0.846154\n28     1.0    0.947368   0.875000\n29     1.0    0.916667   0.857143",
      "text/html": "<div>\n<style scoped>\n    .dataframe tbody tr th:only-of-type {\n        vertical-align: middle;\n    }\n\n    .dataframe tbody tr th {\n        vertical-align: top;\n    }\n\n    .dataframe thead th {\n        text-align: right;\n    }\n</style>\n<table border=\"1\" class=\"dataframe\">\n  <thead>\n    <tr style=\"text-align: right;\">\n      <th></th>\n      <th>setosa</th>\n      <th>versicolor</th>\n      <th>virginica</th>\n    </tr>\n  </thead>\n  <tbody>\n    <tr>\n      <th>0</th>\n      <td>1.0</td>\n      <td>0.866667</td>\n      <td>1.000000</td>\n    </tr>\n    <tr>\n      <th>1</th>\n      <td>1.0</td>\n      <td>0.944444</td>\n      <td>0.928571</td>\n    </tr>\n    <tr>\n      <th>2</th>\n      <td>1.0</td>\n      <td>0.866667</td>\n      <td>1.000000</td>\n    </tr>\n    <tr>\n      <th>3</th>\n      <td>1.0</td>\n      <td>0.875000</td>\n      <td>1.000000</td>\n    </tr>\n    <tr>\n      <th>4</th>\n      <td>1.0</td>\n      <td>0.937500</td>\n      <td>0.937500</td>\n    </tr>\n    <tr>\n      <th>5</th>\n      <td>1.0</td>\n      <td>0.888889</td>\n      <td>1.000000</td>\n    </tr>\n    <tr>\n      <th>6</th>\n      <td>1.0</td>\n      <td>1.000000</td>\n      <td>0.875000</td>\n    </tr>\n    <tr>\n      <th>7</th>\n      <td>1.0</td>\n      <td>1.000000</td>\n      <td>1.000000</td>\n    </tr>\n    <tr>\n      <th>8</th>\n      <td>1.0</td>\n      <td>1.000000</td>\n      <td>0.894737</td>\n    </tr>\n    <tr>\n      <th>9</th>\n      <td>1.0</td>\n      <td>1.000000</td>\n      <td>0.928571</td>\n    </tr>\n    <tr>\n      <th>10</th>\n      <td>1.0</td>\n      <td>0.888889</td>\n      <td>0.916667</td>\n    </tr>\n    <tr>\n      <th>11</th>\n      <td>1.0</td>\n      <td>1.000000</td>\n      <td>0.952381</td>\n    </tr>\n    <tr>\n      <th>12</th>\n      <td>1.0</td>\n      <td>1.000000</td>\n      <td>0.909091</td>\n    </tr>\n    <tr>\n      <th>13</th>\n      <td>1.0</td>\n      <td>0.900000</td>\n      <td>0.937500</td>\n    </tr>\n    <tr>\n      <th>14</th>\n      <td>1.0</td>\n      <td>1.000000</td>\n      <td>1.000000</td>\n    </tr>\n    <tr>\n      <th>15</th>\n      <td>1.0</td>\n      <td>1.000000</td>\n      <td>0.937500</td>\n    </tr>\n    <tr>\n      <th>16</th>\n      <td>1.0</td>\n      <td>1.000000</td>\n      <td>0.916667</td>\n    </tr>\n    <tr>\n      <th>17</th>\n      <td>1.0</td>\n      <td>1.000000</td>\n      <td>1.000000</td>\n    </tr>\n    <tr>\n      <th>18</th>\n      <td>1.0</td>\n      <td>1.000000</td>\n      <td>1.000000</td>\n    </tr>\n    <tr>\n      <th>19</th>\n      <td>1.0</td>\n      <td>1.000000</td>\n      <td>0.727273</td>\n    </tr>\n    <tr>\n      <th>20</th>\n      <td>1.0</td>\n      <td>0.941176</td>\n      <td>1.000000</td>\n    </tr>\n    <tr>\n      <th>21</th>\n      <td>1.0</td>\n      <td>0.950000</td>\n      <td>0.928571</td>\n    </tr>\n    <tr>\n      <th>22</th>\n      <td>1.0</td>\n      <td>0.928571</td>\n      <td>0.894737</td>\n    </tr>\n    <tr>\n      <th>23</th>\n      <td>1.0</td>\n      <td>1.000000</td>\n      <td>1.000000</td>\n    </tr>\n    <tr>\n      <th>24</th>\n      <td>1.0</td>\n      <td>1.000000</td>\n      <td>0.937500</td>\n    </tr>\n    <tr>\n      <th>25</th>\n      <td>1.0</td>\n      <td>1.000000</td>\n      <td>0.900000</td>\n    </tr>\n    <tr>\n      <th>26</th>\n      <td>1.0</td>\n      <td>0.800000</td>\n      <td>1.000000</td>\n    </tr>\n    <tr>\n      <th>27</th>\n      <td>1.0</td>\n      <td>0.875000</td>\n      <td>0.846154</td>\n    </tr>\n    <tr>\n      <th>28</th>\n      <td>1.0</td>\n      <td>0.947368</td>\n      <td>0.875000</td>\n    </tr>\n    <tr>\n      <th>29</th>\n      <td>1.0</td>\n      <td>0.916667</td>\n      <td>0.857143</td>\n    </tr>\n  </tbody>\n</table>\n</div>"
     },
     "metadata": {},
     "execution_count": 5
    }
   ],
   "source": [
    "pd.DataFrame(data=iris_recall, columns=iris_ds.target_names)"
   ]
  },
  {
   "cell_type": "code",
   "execution_count": 6,
   "metadata": {},
   "outputs": [
    {
     "output_type": "execute_result",
     "data": {
      "text/plain": "    setosa  versicolor  virginica\n0      1.0       0.867      1.000\n1      1.0       0.944      0.929\n2      1.0       0.867      1.000\n3      1.0       0.875      1.000\n4      1.0       0.938      0.938\n5      1.0       0.889      1.000\n6      1.0       1.000      0.875\n7      1.0       1.000      1.000\n8      1.0       1.000      0.895\n9      1.0       1.000      0.929\n10     1.0       0.889      0.917\n11     1.0       1.000      0.952\n12     1.0       1.000      0.909\n13     1.0       0.900      0.938\n14     1.0       1.000      1.000\n15     1.0       1.000      0.938\n16     1.0       1.000      0.917\n17     1.0       1.000      1.000\n18     1.0       1.000      1.000\n19     1.0       1.000      0.727\n20     1.0       0.941      1.000\n21     1.0       0.950      0.929\n22     1.0       0.929      0.895\n23     1.0       1.000      1.000\n24     1.0       1.000      0.938\n25     1.0       1.000      0.900\n26     1.0       0.800      1.000\n27     1.0       0.875      0.846\n28     1.0       0.947      0.875\n29     1.0       0.917      0.857",
      "text/html": "<div>\n<style scoped>\n    .dataframe tbody tr th:only-of-type {\n        vertical-align: middle;\n    }\n\n    .dataframe tbody tr th {\n        vertical-align: top;\n    }\n\n    .dataframe thead th {\n        text-align: right;\n    }\n</style>\n<table border=\"1\" class=\"dataframe\">\n  <thead>\n    <tr style=\"text-align: right;\">\n      <th></th>\n      <th>setosa</th>\n      <th>versicolor</th>\n      <th>virginica</th>\n    </tr>\n  </thead>\n  <tbody>\n    <tr>\n      <th>0</th>\n      <td>1.0</td>\n      <td>0.867</td>\n      <td>1.000</td>\n    </tr>\n    <tr>\n      <th>1</th>\n      <td>1.0</td>\n      <td>0.944</td>\n      <td>0.929</td>\n    </tr>\n    <tr>\n      <th>2</th>\n      <td>1.0</td>\n      <td>0.867</td>\n      <td>1.000</td>\n    </tr>\n    <tr>\n      <th>3</th>\n      <td>1.0</td>\n      <td>0.875</td>\n      <td>1.000</td>\n    </tr>\n    <tr>\n      <th>4</th>\n      <td>1.0</td>\n      <td>0.938</td>\n      <td>0.938</td>\n    </tr>\n    <tr>\n      <th>5</th>\n      <td>1.0</td>\n      <td>0.889</td>\n      <td>1.000</td>\n    </tr>\n    <tr>\n      <th>6</th>\n      <td>1.0</td>\n      <td>1.000</td>\n      <td>0.875</td>\n    </tr>\n    <tr>\n      <th>7</th>\n      <td>1.0</td>\n      <td>1.000</td>\n      <td>1.000</td>\n    </tr>\n    <tr>\n      <th>8</th>\n      <td>1.0</td>\n      <td>1.000</td>\n      <td>0.895</td>\n    </tr>\n    <tr>\n      <th>9</th>\n      <td>1.0</td>\n      <td>1.000</td>\n      <td>0.929</td>\n    </tr>\n    <tr>\n      <th>10</th>\n      <td>1.0</td>\n      <td>0.889</td>\n      <td>0.917</td>\n    </tr>\n    <tr>\n      <th>11</th>\n      <td>1.0</td>\n      <td>1.000</td>\n      <td>0.952</td>\n    </tr>\n    <tr>\n      <th>12</th>\n      <td>1.0</td>\n      <td>1.000</td>\n      <td>0.909</td>\n    </tr>\n    <tr>\n      <th>13</th>\n      <td>1.0</td>\n      <td>0.900</td>\n      <td>0.938</td>\n    </tr>\n    <tr>\n      <th>14</th>\n      <td>1.0</td>\n      <td>1.000</td>\n      <td>1.000</td>\n    </tr>\n    <tr>\n      <th>15</th>\n      <td>1.0</td>\n      <td>1.000</td>\n      <td>0.938</td>\n    </tr>\n    <tr>\n      <th>16</th>\n      <td>1.0</td>\n      <td>1.000</td>\n      <td>0.917</td>\n    </tr>\n    <tr>\n      <th>17</th>\n      <td>1.0</td>\n      <td>1.000</td>\n      <td>1.000</td>\n    </tr>\n    <tr>\n      <th>18</th>\n      <td>1.0</td>\n      <td>1.000</td>\n      <td>1.000</td>\n    </tr>\n    <tr>\n      <th>19</th>\n      <td>1.0</td>\n      <td>1.000</td>\n      <td>0.727</td>\n    </tr>\n    <tr>\n      <th>20</th>\n      <td>1.0</td>\n      <td>0.941</td>\n      <td>1.000</td>\n    </tr>\n    <tr>\n      <th>21</th>\n      <td>1.0</td>\n      <td>0.950</td>\n      <td>0.929</td>\n    </tr>\n    <tr>\n      <th>22</th>\n      <td>1.0</td>\n      <td>0.929</td>\n      <td>0.895</td>\n    </tr>\n    <tr>\n      <th>23</th>\n      <td>1.0</td>\n      <td>1.000</td>\n      <td>1.000</td>\n    </tr>\n    <tr>\n      <th>24</th>\n      <td>1.0</td>\n      <td>1.000</td>\n      <td>0.938</td>\n    </tr>\n    <tr>\n      <th>25</th>\n      <td>1.0</td>\n      <td>1.000</td>\n      <td>0.900</td>\n    </tr>\n    <tr>\n      <th>26</th>\n      <td>1.0</td>\n      <td>0.800</td>\n      <td>1.000</td>\n    </tr>\n    <tr>\n      <th>27</th>\n      <td>1.0</td>\n      <td>0.875</td>\n      <td>0.846</td>\n    </tr>\n    <tr>\n      <th>28</th>\n      <td>1.0</td>\n      <td>0.947</td>\n      <td>0.875</td>\n    </tr>\n    <tr>\n      <th>29</th>\n      <td>1.0</td>\n      <td>0.917</td>\n      <td>0.857</td>\n    </tr>\n  </tbody>\n</table>\n</div>"
     },
     "metadata": {},
     "execution_count": 6
    }
   ],
   "source": [
    "# Sensibilidade formatada para exibir 3 casas decimais\n",
    "recall_formatado = [[round(setosa, 3), round(versicolor, 3), round(virginica, 3)] for setosa, versicolor, virginica in iris_recall]\n",
    "pd.DataFrame(data=recall_formatado, columns=iris_ds.target_names)"
   ]
  },
  {
   "cell_type": "markdown",
   "metadata": {},
   "source": [
    "## Calculando Média (Acurácia)"
   ]
  },
  {
   "cell_type": "code",
   "execution_count": 7,
   "metadata": {},
   "outputs": [
    {
     "output_type": "stream",
     "name": "stdout",
     "text": "Acurácia média: 0.9624\n"
    }
   ],
   "source": [
    "accuracy_media = 0\n",
    "\n",
    "for acc in accuracy_formatada:\n",
    "    accuracy_media += acc\n",
    "    \n",
    "accuracy_media /= 30\n",
    "\n",
    "# Arredondando para 5 casas decimais\n",
    "print(\"Acurácia média: {media}\".format(media=round(accuracy_media, 5)))"
   ]
  },
  {
   "cell_type": "markdown",
   "metadata": {},
   "source": [
    "## Calculando Desvio Padrão (Acurácia)"
   ]
  },
  {
   "cell_type": "code",
   "execution_count": 8,
   "metadata": {},
   "outputs": [
    {
     "output_type": "stream",
     "name": "stdout",
     "text": "Desvio padrâo da Acurácia: 0.0245\n"
    }
   ],
   "source": [
    "accuracy_distancia = 0\n",
    "\n",
    "for amostra in accuracy_formatada:\n",
    "    accuracy_distancia += (amostra - accuracy_media) ** 2\n",
    "\n",
    "accuracy_DP = (accuracy_distancia / len(accuracy_formatada)) ** 0.5\n",
    "\n",
    "print(\"Desvio padrâo da Acurácia: {dp}\".format(dp=round(accuracy_DP, 5)))"
   ]
  },
  {
   "cell_type": "markdown",
   "metadata": {},
   "source": [
    "## Calculando Média (Sensibilidade)"
   ]
  },
  {
   "cell_type": "code",
   "execution_count": 9,
   "metadata": {},
   "outputs": [
    {
     "output_type": "stream",
     "name": "stdout",
     "text": "Sensibilidade média\nsetosa: 1.0\nversicolor: 0.95093\nvirginica: 0.9368\n"
    }
   ],
   "source": [
    "recall_media = [0, 0, 0]\n",
    "\n",
    "for setosa, versicolor, virginica in recall_formatado:\n",
    "    recall_media[0] += setosa\n",
    "    recall_media[1] += versicolor\n",
    "    recall_media[2] += virginica\n",
    "\n",
    "accuracy_media = round(accuracy_media, 5)\n",
    "recall_media = [media/30 for media in recall_media]\n",
    "\n",
    "# Arredondando para 5 casas decimais\n",
    "print(\"Sensibilidade média\")\n",
    "\n",
    "print(\"setosa: {setosa}\".format(setosa=round(recall_media[0], 5)))\n",
    "\n",
    "print(\"versicolor: {versicolor}\".format(versicolor=round(recall_media[1], 5)))\n",
    "\n",
    "print(\"virginica: {virginica}\".format(virginica=round(recall_media[2], 5)))"
   ]
  },
  {
   "cell_type": "markdown",
   "metadata": {},
   "source": [
    "## Calculando Desvio Padrão (Sensibilidade)"
   ]
  },
  {
   "cell_type": "code",
   "execution_count": 10,
   "metadata": {},
   "outputs": [
    {
     "output_type": "stream",
     "name": "stdout",
     "text": "Desvio padrâo da Sensibilidade\nSetosa: 0.0\nVersicolor: 0.05679\nVirginica: 0.06246\n"
    }
   ],
   "source": [
    "recall_distancia = [0, 0, 0]\n",
    "\n",
    "for Asetosa, Aversicolor, Avirginica in recall_formatado:\n",
    "    recall_distancia[0] += (Asetosa - recall_media[0]) ** 2\n",
    "    recall_distancia[1] += (Aversicolor - recall_media[1]) ** 2\n",
    "    recall_distancia[2] += (Avirginica - recall_media[2]) ** 2\n",
    "\n",
    "recall_DP = [(distancia / len(recall_formatado)) ** 0.5 for distancia in recall_distancia]\n",
    "\n",
    "# Arredondando para 5 casas decimais\n",
    "print(\"Desvio padrâo da Sensibilidade\")\n",
    "\n",
    "print(\"Setosa: {setosa}\".format(setosa=round(recall_DP[0], 5)))\n",
    "\n",
    "print(\"Versicolor: {versicolor}\".format(versicolor=round(recall_DP[1], 5)))\n",
    "\n",
    "print(\"Virginica: {virginica}\".format(virginica=round(recall_DP[2], 5)))"
   ]
  }
 ],
 "metadata": {
  "kernelspec": {
   "display_name": "ML_venv",
   "language": "python",
   "name": "ml_venv"
  },
  "language_info": {
   "codemirror_mode": {
    "name": "ipython",
    "version": 3
   },
   "file_extension": ".py",
   "mimetype": "text/x-python",
   "name": "python",
   "nbconvert_exporter": "python",
   "pygments_lexer": "ipython3",
   "version": "3.7.7-final"
  }
 },
 "nbformat": 4,
 "nbformat_minor": 4
}