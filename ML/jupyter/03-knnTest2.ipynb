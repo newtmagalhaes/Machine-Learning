{
 "cells": [
  {
   "cell_type": "markdown",
   "metadata": {},
   "source": [
    "# KNN Test\n",
    "\n",
    "Testando 30 rodadas com algoritmo KNN no **Iris dataset** utilizando a biblioteca `scikit-learn`."
   ]
  },
  {
   "cell_type": "markdown",
   "metadata": {},
   "source": [
    "## Importando Bibliotecas"
   ]
  },
  {
   "cell_type": "code",
   "execution_count": 12,
   "metadata": {},
   "outputs": [],
   "source": [
    "import pandas as pd\n",
    "\n",
    "from random import randint\n",
    "from sklearn.datasets import load_iris\n",
    "from sklearn.neighbors import KNeighborsClassifier\n",
    "from sklearn.model_selection import train_test_split\n",
    "from sklearn.metrics import classification_report, confusion_matrix"
   ]
  },
  {
   "cell_type": "markdown",
   "metadata": {},
   "source": [
    "## Carregando _Digits DataSet_"
   ]
  },
  {
   "cell_type": "code",
   "execution_count": 13,
   "metadata": {},
   "outputs": [],
   "source": [
    "iris_ds = load_iris()\n",
    "iris_data, iris_target = load_iris(return_X_y=True)"
   ]
  },
  {
   "cell_type": "markdown",
   "metadata": {},
   "source": [
    "## Rodadas de Teste"
   ]
  },
  {
   "cell_type": "code",
   "execution_count": 32,
   "metadata": {},
   "outputs": [
    {
     "output_type": "stream",
     "name": "stdout",
     "text": "\n- RODADA 0 - Semente 6821 -\n\n              precision    recall  f1-score   support\n\n      setosa       1.00      1.00      1.00        15\n  versicolor       0.87      0.93      0.90        14\n   virginica       0.93      0.88      0.90        16\n\n    accuracy                           0.93        45\n   macro avg       0.93      0.93      0.93        45\nweighted avg       0.93      0.93      0.93        45\n\n[[15  0  0]\n [ 0 13  1]\n [ 0  2 14]]\n\n- RODADA 1 - Semente 5053 -\n\n              precision    recall  f1-score   support\n\n      setosa       1.00      1.00      1.00        12\n  versicolor       1.00      1.00      1.00        14\n   virginica       1.00      1.00      1.00        19\n\n    accuracy                           1.00        45\n   macro avg       1.00      1.00      1.00        45\nweighted avg       1.00      1.00      1.00        45\n\n[[12  0  0]\n [ 0 14  0]\n [ 0  0 19]]\n\n- RODADA 2 - Semente 3376 -\n\n              precision    recall  f1-score   support\n\n      setosa       1.00      1.00      1.00        13\n  versicolor       1.00      0.87      0.93        15\n   virginica       0.89      1.00      0.94        17\n\n    accuracy                           0.96        45\n   macro avg       0.96      0.96      0.96        45\nweighted avg       0.96      0.96      0.96        45\n\n[[13  0  0]\n [ 0 13  2]\n [ 0  0 17]]\n\n- RODADA 3 - Semente 3853 -\n\n              precision    recall  f1-score   support\n\n      setosa       1.00      1.00      1.00        13\n  versicolor       1.00      0.93      0.96        14\n   virginica       0.95      1.00      0.97        18\n\n    accuracy                           0.98        45\n   macro avg       0.98      0.98      0.98        45\nweighted avg       0.98      0.98      0.98        45\n\n[[13  0  0]\n [ 0 13  1]\n [ 0  0 18]]\n\n- RODADA 4 - Semente 4342 -\n\n              precision    recall  f1-score   support\n\n      setosa       1.00      1.00      1.00        15\n  versicolor       0.95      1.00      0.97        18\n   virginica       1.00      0.92      0.96        12\n\n    accuracy                           0.98        45\n   macro avg       0.98      0.97      0.98        45\nweighted avg       0.98      0.98      0.98        45\n\n[[15  0  0]\n [ 0 18  0]\n [ 0  1 11]]\n\n- RODADA 5 - Semente 4499 -\n\n              precision    recall  f1-score   support\n\n      setosa       1.00      1.00      1.00        14\n  versicolor       0.79      0.94      0.86        16\n   virginica       0.92      0.73      0.81        15\n\n    accuracy                           0.89        45\n   macro avg       0.90      0.89      0.89        45\nweighted avg       0.90      0.89      0.89        45\n\n[[14  0  0]\n [ 0 15  1]\n [ 0  4 11]]\n\n- RODADA 6 - Semente 4491 -\n\n              precision    recall  f1-score   support\n\n      setosa       1.00      1.00      1.00        10\n  versicolor       0.82      1.00      0.90        14\n   virginica       1.00      0.86      0.92        21\n\n    accuracy                           0.93        45\n   macro avg       0.94      0.95      0.94        45\nweighted avg       0.95      0.93      0.93        45\n\n[[10  0  0]\n [ 0 14  0]\n [ 0  3 18]]\n\n- RODADA 7 - Semente 6154 -\n\n              precision    recall  f1-score   support\n\n      setosa       1.00      1.00      1.00        17\n  versicolor       1.00      1.00      1.00        15\n   virginica       1.00      1.00      1.00        13\n\n    accuracy                           1.00        45\n   macro avg       1.00      1.00      1.00        45\nweighted avg       1.00      1.00      1.00        45\n\n[[17  0  0]\n [ 0 15  0]\n [ 0  0 13]]\n\n- RODADA 8 - Semente 5040 -\n\n              precision    recall  f1-score   support\n\n      setosa       1.00      1.00      1.00        14\n  versicolor       0.94      0.89      0.92        19\n   virginica       0.85      0.92      0.88        12\n\n    accuracy                           0.93        45\n   macro avg       0.93      0.94      0.93        45\nweighted avg       0.94      0.93      0.93        45\n\n[[14  0  0]\n [ 0 17  2]\n [ 0  1 11]]\n\n- RODADA 9 - Semente 1140 -\n\n              precision    recall  f1-score   support\n\n      setosa       1.00      1.00      1.00        17\n  versicolor       1.00      0.93      0.97        15\n   virginica       0.93      1.00      0.96        13\n\n    accuracy                           0.98        45\n   macro avg       0.98      0.98      0.98        45\nweighted avg       0.98      0.98      0.98        45\n\n[[17  0  0]\n [ 0 14  1]\n [ 0  0 13]]\n\n- RODADA 10 - Semente 1525 -\n\n              precision    recall  f1-score   support\n\n      setosa       1.00      1.00      1.00        13\n  versicolor       0.88      0.94      0.91        16\n   virginica       0.93      0.88      0.90        16\n\n    accuracy                           0.93        45\n   macro avg       0.94      0.94      0.94        45\nweighted avg       0.93      0.93      0.93        45\n\n[[13  0  0]\n [ 0 15  1]\n [ 0  2 14]]\n\n- RODADA 11 - Semente 6549 -\n\n              precision    recall  f1-score   support\n\n      setosa       1.00      1.00      1.00        19\n  versicolor       1.00      0.92      0.96        13\n   virginica       0.93      1.00      0.96        13\n\n    accuracy                           0.98        45\n   macro avg       0.98      0.97      0.97        45\nweighted avg       0.98      0.98      0.98        45\n\n[[19  0  0]\n [ 0 12  1]\n [ 0  0 13]]\n\n- RODADA 12 - Semente 4792 -\n\n              precision    recall  f1-score   support\n\n      setosa       1.00      1.00      1.00         9\n  versicolor       0.94      0.94      0.94        16\n   virginica       0.95      0.95      0.95        20\n\n    accuracy                           0.96        45\n   macro avg       0.96      0.96      0.96        45\nweighted avg       0.96      0.96      0.96        45\n\n[[ 9  0  0]\n [ 0 15  1]\n [ 0  1 19]]\n\n- RODADA 13 - Semente 801 -\n\n              precision    recall  f1-score   support\n\n      setosa       1.00      1.00      1.00        11\n  versicolor       1.00      1.00      1.00        19\n   virginica       1.00      1.00      1.00        15\n\n    accuracy                           1.00        45\n   macro avg       1.00      1.00      1.00        45\nweighted avg       1.00      1.00      1.00        45\n\n[[11  0  0]\n [ 0 19  0]\n [ 0  0 15]]\n\n- RODADA 14 - Semente 3418 -\n\n              precision    recall  f1-score   support\n\n      setosa       1.00      1.00      1.00        13\n  versicolor       1.00      1.00      1.00        16\n   virginica       1.00      1.00      1.00        16\n\n    accuracy                           1.00        45\n   macro avg       1.00      1.00      1.00        45\nweighted avg       1.00      1.00      1.00        45\n\n[[13  0  0]\n [ 0 16  0]\n [ 0  0 16]]\n\n- RODADA 15 - Semente 5667 -\n\n              precision    recall  f1-score   support\n\n      setosa       1.00      1.00      1.00        14\n  versicolor       0.94      0.94      0.94        16\n   virginica       0.93      0.93      0.93        15\n\n    accuracy                           0.96        45\n   macro avg       0.96      0.96      0.96        45\nweighted avg       0.96      0.96      0.96        45\n\n[[14  0  0]\n [ 0 15  1]\n [ 0  1 14]]\n\n- RODADA 16 - Semente 4632 -\n\n              precision    recall  f1-score   support\n\n      setosa       1.00      1.00      1.00        12\n  versicolor       0.86      1.00      0.93        19\n   virginica       1.00      0.79      0.88        14\n\n    accuracy                           0.93        45\n   macro avg       0.95      0.93      0.94        45\nweighted avg       0.94      0.93      0.93        45\n\n[[12  0  0]\n [ 0 19  0]\n [ 0  3 11]]\n\n- RODADA 17 - Semente 5599 -\n\n              precision    recall  f1-score   support\n\n      setosa       1.00      1.00      1.00        18\n  versicolor       0.80      0.92      0.86        13\n   virginica       0.92      0.79      0.85        14\n\n    accuracy                           0.91        45\n   macro avg       0.91      0.90      0.90        45\nweighted avg       0.92      0.91      0.91        45\n\n[[18  0  0]\n [ 0 12  1]\n [ 0  3 11]]\n\n- RODADA 18 - Semente 4979 -\n\n              precision    recall  f1-score   support\n\n      setosa       1.00      1.00      1.00        15\n  versicolor       0.81      1.00      0.90        13\n   virginica       1.00      0.82      0.90        17\n\n    accuracy                           0.93        45\n   macro avg       0.94      0.94      0.93        45\nweighted avg       0.95      0.93      0.93        45\n\n[[15  0  0]\n [ 0 13  0]\n [ 0  3 14]]\n\n- RODADA 19 - Semente 1284 -\n\n              precision    recall  f1-score   support\n\n      setosa       1.00      1.00      1.00        17\n  versicolor       0.94      0.94      0.94        18\n   virginica       0.90      0.90      0.90        10\n\n    accuracy                           0.96        45\n   macro avg       0.95      0.95      0.95        45\nweighted avg       0.96      0.96      0.96        45\n\n[[17  0  0]\n [ 0 17  1]\n [ 0  1  9]]\n\n- RODADA 20 - Semente 1482 -\n\n              precision    recall  f1-score   support\n\n      setosa       1.00      1.00      1.00        20\n  versicolor       0.94      1.00      0.97        15\n   virginica       1.00      0.90      0.95        10\n\n    accuracy                           0.98        45\n   macro avg       0.98      0.97      0.97        45\nweighted avg       0.98      0.98      0.98        45\n\n[[20  0  0]\n [ 0 15  0]\n [ 0  1  9]]\n\n- RODADA 21 - Semente 4745 -\n\n              precision    recall  f1-score   support\n\n      setosa       1.00      1.00      1.00        14\n  versicolor       0.94      1.00      0.97        15\n   virginica       1.00      0.94      0.97        16\n\n    accuracy                           0.98        45\n   macro avg       0.98      0.98      0.98        45\nweighted avg       0.98      0.98      0.98        45\n\n[[14  0  0]\n [ 0 15  0]\n [ 0  1 15]]\n\n- RODADA 22 - Semente 4526 -\n\n              precision    recall  f1-score   support\n\n      setosa       1.00      1.00      1.00        14\n  versicolor       0.93      1.00      0.96        13\n   virginica       1.00      0.94      0.97        18\n\n    accuracy                           0.98        45\n   macro avg       0.98      0.98      0.98        45\nweighted avg       0.98      0.98      0.98        45\n\n[[14  0  0]\n [ 0 13  0]\n [ 0  1 17]]\n\n- RODADA 23 - Semente 3197 -\n\n              precision    recall  f1-score   support\n\n      setosa       1.00      1.00      1.00        17\n  versicolor       1.00      0.94      0.97        18\n   virginica       0.91      1.00      0.95        10\n\n    accuracy                           0.98        45\n   macro avg       0.97      0.98      0.97        45\nweighted avg       0.98      0.98      0.98        45\n\n[[17  0  0]\n [ 0 17  1]\n [ 0  0 10]]\n\n- RODADA 24 - Semente 3638 -\n\n              precision    recall  f1-score   support\n\n      setosa       1.00      1.00      1.00        12\n  versicolor       0.80      1.00      0.89        12\n   virginica       1.00      0.86      0.92        21\n\n    accuracy                           0.93        45\n   macro avg       0.93      0.95      0.94        45\nweighted avg       0.95      0.93      0.93        45\n\n[[12  0  0]\n [ 0 12  0]\n [ 0  3 18]]\n\n- RODADA 25 - Semente 3054 -\n\n              precision    recall  f1-score   support\n\n      setosa       1.00      1.00      1.00        16\n  versicolor       0.86      0.92      0.89        13\n   virginica       0.93      0.88      0.90        16\n\n    accuracy                           0.93        45\n   macro avg       0.93      0.93      0.93        45\nweighted avg       0.94      0.93      0.93        45\n\n[[16  0  0]\n [ 0 12  1]\n [ 0  2 14]]\n\n- RODADA 26 - Semente 3511 -\n\n              precision    recall  f1-score   support\n\n      setosa       1.00      1.00      1.00        15\n  versicolor       0.88      1.00      0.93        14\n   virginica       1.00      0.88      0.93        16\n\n    accuracy                           0.96        45\n   macro avg       0.96      0.96      0.96        45\nweighted avg       0.96      0.96      0.96        45\n\n[[15  0  0]\n [ 0 14  0]\n [ 0  2 14]]\n\n- RODADA 27 - Semente 3132 -\n\n              precision    recall  f1-score   support\n\n      setosa       1.00      1.00      1.00        19\n  versicolor       0.93      0.93      0.93        15\n   virginica       0.91      0.91      0.91        11\n\n    accuracy                           0.96        45\n   macro avg       0.95      0.95      0.95        45\nweighted avg       0.96      0.96      0.96        45\n\n[[19  0  0]\n [ 0 14  1]\n [ 0  1 10]]\n\n- RODADA 28 - Semente 6738 -\n\n              precision    recall  f1-score   support\n\n      setosa       1.00      1.00      1.00        18\n  versicolor       1.00      0.79      0.88        19\n   virginica       0.67      1.00      0.80         8\n\n    accuracy                           0.91        45\n   macro avg       0.89      0.93      0.89        45\nweighted avg       0.94      0.91      0.91        45\n\n[[18  0  0]\n [ 0 15  4]\n [ 0  0  8]]\n\n- RODADA 29 - Semente 5543 -\n\n              precision    recall  f1-score   support\n\n      setosa       1.00      1.00      1.00        14\n  versicolor       1.00      0.94      0.97        18\n   virginica       0.93      1.00      0.96        13\n\n    accuracy                           0.98        45\n   macro avg       0.98      0.98      0.98        45\nweighted avg       0.98      0.98      0.98        45\n\n[[14  0  0]\n [ 0 17  1]\n [ 0  0 13]]\n"
    }
   ],
   "source": [
    "k_vizinhos = int(len(iris_data) ** 0.5)\n",
    "\n",
    "for rodada in range(30):\n",
    "    # Separando dados\n",
    "    semente = randint(0, 8001)\n",
    "    data_train, data_test, target_train, target_test = train_test_split(iris_data, iris_target, test_size=0.3, random_state=semente)\n",
    "\n",
    "    # Instanciando classificador\n",
    "    classifier = KNeighborsClassifier(n_neighbors=k_vizinhos)\n",
    "\n",
    "    # Treinando modelo\n",
    "    classifier.fit(data_train, target_train)\n",
    "\n",
    "    # Realizando teste de classificação\n",
    "    prediction = classifier.predict(data_test)\n",
    "\n",
    "    # Resultados\n",
    "    print(\"\\n- RODADA {turn} - Semente {seed} -\\n\".format(turn=rodada, seed=semente))\n",
    "    print(classification_report(target_test, prediction, target_names=iris_ds.target_names))\n",
    "    print(confusion_matrix(target_test, prediction))\n",
    ""
   ]
  }
 ],
 "metadata": {
  "kernelspec": {
   "display_name": "ML_venv",
   "language": "python",
   "name": "ml_venv"
  },
  "language_info": {
   "codemirror_mode": {
    "name": "ipython",
    "version": 3
   },
   "file_extension": ".py",
   "mimetype": "text/x-python",
   "name": "python",
   "nbconvert_exporter": "python",
   "pygments_lexer": "ipython3",
   "version": "3.7.7-final"
  }
 },
 "nbformat": 4,
 "nbformat_minor": 4
}