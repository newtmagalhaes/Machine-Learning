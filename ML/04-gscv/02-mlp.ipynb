{
 "cells": [
  {
   "cell_type": "markdown",
   "metadata": {},
   "source": [
    "# GS CV MLP\n",
    "\n",
    "Explorando `GridSearchCV` a fim de reduzir a aleatoriedade dos pesos e viéses iniciais dos modelos de classificação.\n",
    "\n",
    "## Importando bibliotecas"
   ]
  },
  {
   "cell_type": "code",
   "execution_count": 1,
   "metadata": {},
   "outputs": [],
   "source": [
    "import numpy as np\n",
    "import pandas as pd\n",
    "\n",
    "from sklearn.datasets import load_iris\n",
    "from sklearn.preprocessing import StandardScaler\n",
    "from sklearn.neural_network import MLPClassifier\n",
    "from sklearn.model_selection import train_test_split, GridSearchCV"
   ]
  },
  {
   "cell_type": "markdown",
   "metadata": {},
   "source": [
    "## Preprarando dados"
   ]
  },
  {
   "cell_type": "code",
   "execution_count": 2,
   "metadata": {},
   "outputs": [],
   "source": [
    "# Carregando dataset\n",
    "X, y = load_iris(return_X_y=True)\n",
    "\n",
    "# Separando dados\n",
    "X_pre_train, X_pre_test, y_train, y_test = train_test_split(X, y, test_size=0.3, random_state=6)\n",
    "\n",
    "# Instanciando e treinando preprocessador\n",
    "sc = StandardScaler().fit(X_pre_train)\n",
    "\n",
    "# Preprocessando dados de treino\n",
    "X_train = sc.transform(X_pre_train)\n",
    "\n",
    "# Intervalo de valores para hidden layer\n",
    "intervalo = np.arange(40, 73, 3)"
   ]
  },
  {
   "cell_type": "markdown",
   "metadata": {},
   "source": [
    "## Grid search com pesos randomicos"
   ]
  },
  {
   "cell_type": "code",
   "execution_count": 3,
   "metadata": {},
   "outputs": [
    {
     "output_type": "execute_result",
     "data": {
      "text/plain": "   param_hidden_layer_sizes  mean_test_score  std_test_score  rank_test_score\n0                        40         0.952381        0.046657                1\n1                        43         0.942857        0.042592                2\n2                        46         0.942857        0.042592                2\n3                        49         0.942857        0.042592                2\n4                        52         0.942857        0.042592                2\n5                        55         0.942857        0.042592                2\n6                        58         0.942857        0.042592                2\n7                        61         0.942857        0.042592                2\n8                        64         0.942857        0.042592                2\n9                        67         0.942857        0.042592                2\n10                       70         0.942857        0.042592                2",
      "text/html": "<div>\n<style scoped>\n    .dataframe tbody tr th:only-of-type {\n        vertical-align: middle;\n    }\n\n    .dataframe tbody tr th {\n        vertical-align: top;\n    }\n\n    .dataframe thead th {\n        text-align: right;\n    }\n</style>\n<table border=\"1\" class=\"dataframe\">\n  <thead>\n    <tr style=\"text-align: right;\">\n      <th></th>\n      <th>param_hidden_layer_sizes</th>\n      <th>mean_test_score</th>\n      <th>std_test_score</th>\n      <th>rank_test_score</th>\n    </tr>\n  </thead>\n  <tbody>\n    <tr>\n      <th>0</th>\n      <td>40</td>\n      <td>0.952381</td>\n      <td>0.046657</td>\n      <td>1</td>\n    </tr>\n    <tr>\n      <th>1</th>\n      <td>43</td>\n      <td>0.942857</td>\n      <td>0.042592</td>\n      <td>2</td>\n    </tr>\n    <tr>\n      <th>2</th>\n      <td>46</td>\n      <td>0.942857</td>\n      <td>0.042592</td>\n      <td>2</td>\n    </tr>\n    <tr>\n      <th>3</th>\n      <td>49</td>\n      <td>0.942857</td>\n      <td>0.042592</td>\n      <td>2</td>\n    </tr>\n    <tr>\n      <th>4</th>\n      <td>52</td>\n      <td>0.942857</td>\n      <td>0.042592</td>\n      <td>2</td>\n    </tr>\n    <tr>\n      <th>5</th>\n      <td>55</td>\n      <td>0.942857</td>\n      <td>0.042592</td>\n      <td>2</td>\n    </tr>\n    <tr>\n      <th>6</th>\n      <td>58</td>\n      <td>0.942857</td>\n      <td>0.042592</td>\n      <td>2</td>\n    </tr>\n    <tr>\n      <th>7</th>\n      <td>61</td>\n      <td>0.942857</td>\n      <td>0.042592</td>\n      <td>2</td>\n    </tr>\n    <tr>\n      <th>8</th>\n      <td>64</td>\n      <td>0.942857</td>\n      <td>0.042592</td>\n      <td>2</td>\n    </tr>\n    <tr>\n      <th>9</th>\n      <td>67</td>\n      <td>0.942857</td>\n      <td>0.042592</td>\n      <td>2</td>\n    </tr>\n    <tr>\n      <th>10</th>\n      <td>70</td>\n      <td>0.942857</td>\n      <td>0.042592</td>\n      <td>2</td>\n    </tr>\n  </tbody>\n</table>\n</div>"
     },
     "metadata": {},
     "execution_count": 3
    }
   ],
   "source": [
    "gs1 = GridSearchCV(\n",
    "    estimator=MLPClassifier(),\n",
    "    param_grid={\n",
    "        'hidden_layer_sizes':intervalo,\n",
    "        'solver':['lbfgs']\n",
    "    },\n",
    "    cv=7\n",
    ").fit(\n",
    "    X_train,\n",
    "    y_train\n",
    ")\n",
    "\n",
    "pd.DataFrame(gs1.cv_results_).sort_values(by='rank_test_score')[['param_hidden_layer_sizes', 'mean_test_score', 'std_test_score', 'rank_test_score']]"
   ]
  },
  {
   "cell_type": "code",
   "execution_count": 4,
   "metadata": {},
   "outputs": [
    {
     "output_type": "execute_result",
     "data": {
      "text/plain": "   param_hidden_layer_sizes  mean_test_score  std_test_score  rank_test_score\n0                        40         0.952381        0.030117                1\n10                       70         0.952381        0.046657                2\n1                        43         0.942857        0.042592                3\n2                        46         0.942857        0.042592                3\n3                        49         0.942857        0.042592                3\n4                        52         0.942857        0.042592                3\n5                        55         0.942857        0.042592                3\n6                        58         0.942857        0.042592                3\n7                        61         0.942857        0.042592                3\n8                        64         0.942857        0.042592                3\n9                        67         0.942857        0.042592                3",
      "text/html": "<div>\n<style scoped>\n    .dataframe tbody tr th:only-of-type {\n        vertical-align: middle;\n    }\n\n    .dataframe tbody tr th {\n        vertical-align: top;\n    }\n\n    .dataframe thead th {\n        text-align: right;\n    }\n</style>\n<table border=\"1\" class=\"dataframe\">\n  <thead>\n    <tr style=\"text-align: right;\">\n      <th></th>\n      <th>param_hidden_layer_sizes</th>\n      <th>mean_test_score</th>\n      <th>std_test_score</th>\n      <th>rank_test_score</th>\n    </tr>\n  </thead>\n  <tbody>\n    <tr>\n      <th>0</th>\n      <td>40</td>\n      <td>0.952381</td>\n      <td>0.030117</td>\n      <td>1</td>\n    </tr>\n    <tr>\n      <th>10</th>\n      <td>70</td>\n      <td>0.952381</td>\n      <td>0.046657</td>\n      <td>2</td>\n    </tr>\n    <tr>\n      <th>1</th>\n      <td>43</td>\n      <td>0.942857</td>\n      <td>0.042592</td>\n      <td>3</td>\n    </tr>\n    <tr>\n      <th>2</th>\n      <td>46</td>\n      <td>0.942857</td>\n      <td>0.042592</td>\n      <td>3</td>\n    </tr>\n    <tr>\n      <th>3</th>\n      <td>49</td>\n      <td>0.942857</td>\n      <td>0.042592</td>\n      <td>3</td>\n    </tr>\n    <tr>\n      <th>4</th>\n      <td>52</td>\n      <td>0.942857</td>\n      <td>0.042592</td>\n      <td>3</td>\n    </tr>\n    <tr>\n      <th>5</th>\n      <td>55</td>\n      <td>0.942857</td>\n      <td>0.042592</td>\n      <td>3</td>\n    </tr>\n    <tr>\n      <th>6</th>\n      <td>58</td>\n      <td>0.942857</td>\n      <td>0.042592</td>\n      <td>3</td>\n    </tr>\n    <tr>\n      <th>7</th>\n      <td>61</td>\n      <td>0.942857</td>\n      <td>0.042592</td>\n      <td>3</td>\n    </tr>\n    <tr>\n      <th>8</th>\n      <td>64</td>\n      <td>0.942857</td>\n      <td>0.042592</td>\n      <td>3</td>\n    </tr>\n    <tr>\n      <th>9</th>\n      <td>67</td>\n      <td>0.942857</td>\n      <td>0.042592</td>\n      <td>3</td>\n    </tr>\n  </tbody>\n</table>\n</div>"
     },
     "metadata": {},
     "execution_count": 4
    }
   ],
   "source": [
    "gs2 = GridSearchCV(\n",
    "    estimator=MLPClassifier(),\n",
    "    param_grid={\n",
    "        'hidden_layer_sizes':intervalo,\n",
    "        'solver':['lbfgs']\n",
    "    },\n",
    "    cv=7\n",
    ").fit(\n",
    "    X_train,\n",
    "    y_train\n",
    ")\n",
    "\n",
    "pd.DataFrame(gs2.cv_results_).sort_values(by='rank_test_score')[['param_hidden_layer_sizes', 'mean_test_score', 'std_test_score', 'rank_test_score']]"
   ]
  },
  {
   "cell_type": "code",
   "execution_count": 5,
   "metadata": {},
   "outputs": [
    {
     "output_type": "execute_result",
     "data": {
      "text/plain": "   param_hidden_layer_sizes  mean_test_score  std_test_score  rank_test_score\n0                        40         0.942857        0.042592                1\n1                        43         0.942857        0.042592                1\n2                        46         0.942857        0.042592                1\n3                        49         0.942857        0.042592                1\n4                        52         0.942857        0.042592                1\n5                        55         0.942857        0.042592                1\n6                        58         0.942857        0.042592                1\n7                        61         0.942857        0.042592                1\n8                        64         0.942857        0.042592                1\n9                        67         0.942857        0.042592                1\n10                       70         0.942857        0.042592                1",
      "text/html": "<div>\n<style scoped>\n    .dataframe tbody tr th:only-of-type {\n        vertical-align: middle;\n    }\n\n    .dataframe tbody tr th {\n        vertical-align: top;\n    }\n\n    .dataframe thead th {\n        text-align: right;\n    }\n</style>\n<table border=\"1\" class=\"dataframe\">\n  <thead>\n    <tr style=\"text-align: right;\">\n      <th></th>\n      <th>param_hidden_layer_sizes</th>\n      <th>mean_test_score</th>\n      <th>std_test_score</th>\n      <th>rank_test_score</th>\n    </tr>\n  </thead>\n  <tbody>\n    <tr>\n      <th>0</th>\n      <td>40</td>\n      <td>0.942857</td>\n      <td>0.042592</td>\n      <td>1</td>\n    </tr>\n    <tr>\n      <th>1</th>\n      <td>43</td>\n      <td>0.942857</td>\n      <td>0.042592</td>\n      <td>1</td>\n    </tr>\n    <tr>\n      <th>2</th>\n      <td>46</td>\n      <td>0.942857</td>\n      <td>0.042592</td>\n      <td>1</td>\n    </tr>\n    <tr>\n      <th>3</th>\n      <td>49</td>\n      <td>0.942857</td>\n      <td>0.042592</td>\n      <td>1</td>\n    </tr>\n    <tr>\n      <th>4</th>\n      <td>52</td>\n      <td>0.942857</td>\n      <td>0.042592</td>\n      <td>1</td>\n    </tr>\n    <tr>\n      <th>5</th>\n      <td>55</td>\n      <td>0.942857</td>\n      <td>0.042592</td>\n      <td>1</td>\n    </tr>\n    <tr>\n      <th>6</th>\n      <td>58</td>\n      <td>0.942857</td>\n      <td>0.042592</td>\n      <td>1</td>\n    </tr>\n    <tr>\n      <th>7</th>\n      <td>61</td>\n      <td>0.942857</td>\n      <td>0.042592</td>\n      <td>1</td>\n    </tr>\n    <tr>\n      <th>8</th>\n      <td>64</td>\n      <td>0.942857</td>\n      <td>0.042592</td>\n      <td>1</td>\n    </tr>\n    <tr>\n      <th>9</th>\n      <td>67</td>\n      <td>0.942857</td>\n      <td>0.042592</td>\n      <td>1</td>\n    </tr>\n    <tr>\n      <th>10</th>\n      <td>70</td>\n      <td>0.942857</td>\n      <td>0.042592</td>\n      <td>1</td>\n    </tr>\n  </tbody>\n</table>\n</div>"
     },
     "metadata": {},
     "execution_count": 5
    }
   ],
   "source": [
    "gs3 = GridSearchCV(\n",
    "    estimator=MLPClassifier(),\n",
    "    param_grid={\n",
    "        'hidden_layer_sizes':intervalo,\n",
    "        'solver':['lbfgs']\n",
    "    },\n",
    "    cv=7\n",
    ").fit(\n",
    "    X_train,\n",
    "    y_train\n",
    ")\n",
    "\n",
    "pd.DataFrame(gs3.cv_results_).sort_values(by='rank_test_score')[['param_hidden_layer_sizes', 'mean_test_score', 'std_test_score', 'rank_test_score']]"
   ]
  },
  {
   "cell_type": "markdown",
   "metadata": {},
   "source": [
    "## Grid Search com pesos um pouco mais determinísticos"
   ]
  },
  {
   "cell_type": "code",
   "execution_count": 6,
   "metadata": {},
   "outputs": [
    {
     "output_type": "execute_result",
     "data": {
      "text/plain": "   param_hidden_layer_sizes  mean_test_score  std_test_score  rank_test_score\n0                        40         0.942857        0.042592                1\n1                        43         0.942857        0.042592                1\n2                        46         0.942857        0.042592                1\n3                        49         0.942857        0.042592                1\n4                        52         0.942857        0.042592                1\n5                        55         0.942857        0.042592                1\n6                        58         0.942857        0.042592                1\n7                        61         0.942857        0.042592                1\n8                        64         0.942857        0.042592                1\n9                        67         0.942857        0.042592                1\n10                       70         0.942857        0.042592                1",
      "text/html": "<div>\n<style scoped>\n    .dataframe tbody tr th:only-of-type {\n        vertical-align: middle;\n    }\n\n    .dataframe tbody tr th {\n        vertical-align: top;\n    }\n\n    .dataframe thead th {\n        text-align: right;\n    }\n</style>\n<table border=\"1\" class=\"dataframe\">\n  <thead>\n    <tr style=\"text-align: right;\">\n      <th></th>\n      <th>param_hidden_layer_sizes</th>\n      <th>mean_test_score</th>\n      <th>std_test_score</th>\n      <th>rank_test_score</th>\n    </tr>\n  </thead>\n  <tbody>\n    <tr>\n      <th>0</th>\n      <td>40</td>\n      <td>0.942857</td>\n      <td>0.042592</td>\n      <td>1</td>\n    </tr>\n    <tr>\n      <th>1</th>\n      <td>43</td>\n      <td>0.942857</td>\n      <td>0.042592</td>\n      <td>1</td>\n    </tr>\n    <tr>\n      <th>2</th>\n      <td>46</td>\n      <td>0.942857</td>\n      <td>0.042592</td>\n      <td>1</td>\n    </tr>\n    <tr>\n      <th>3</th>\n      <td>49</td>\n      <td>0.942857</td>\n      <td>0.042592</td>\n      <td>1</td>\n    </tr>\n    <tr>\n      <th>4</th>\n      <td>52</td>\n      <td>0.942857</td>\n      <td>0.042592</td>\n      <td>1</td>\n    </tr>\n    <tr>\n      <th>5</th>\n      <td>55</td>\n      <td>0.942857</td>\n      <td>0.042592</td>\n      <td>1</td>\n    </tr>\n    <tr>\n      <th>6</th>\n      <td>58</td>\n      <td>0.942857</td>\n      <td>0.042592</td>\n      <td>1</td>\n    </tr>\n    <tr>\n      <th>7</th>\n      <td>61</td>\n      <td>0.942857</td>\n      <td>0.042592</td>\n      <td>1</td>\n    </tr>\n    <tr>\n      <th>8</th>\n      <td>64</td>\n      <td>0.942857</td>\n      <td>0.042592</td>\n      <td>1</td>\n    </tr>\n    <tr>\n      <th>9</th>\n      <td>67</td>\n      <td>0.942857</td>\n      <td>0.042592</td>\n      <td>1</td>\n    </tr>\n    <tr>\n      <th>10</th>\n      <td>70</td>\n      <td>0.942857</td>\n      <td>0.042592</td>\n      <td>1</td>\n    </tr>\n  </tbody>\n</table>\n</div>"
     },
     "metadata": {},
     "execution_count": 6
    }
   ],
   "source": [
    "gs4 = GridSearchCV(\n",
    "    estimator=MLPClassifier(),\n",
    "    param_grid={\n",
    "        'hidden_layer_sizes':intervalo,\n",
    "        'random_state':[42],\n",
    "        'solver':['lbfgs']\n",
    "    },\n",
    "    cv=7\n",
    ").fit(\n",
    "    X_train,\n",
    "    y_train\n",
    ")\n",
    "\n",
    "pd.DataFrame(gs4.cv_results_).sort_values(by='rank_test_score')[['param_hidden_layer_sizes', 'mean_test_score', 'std_test_score', 'rank_test_score']]"
   ]
  },
  {
   "cell_type": "code",
   "execution_count": 7,
   "metadata": {},
   "outputs": [
    {
     "output_type": "execute_result",
     "data": {
      "text/plain": "   param_hidden_layer_sizes  mean_test_score  std_test_score  rank_test_score\n0                        40         0.942857        0.042592                1\n1                        43         0.942857        0.042592                1\n2                        46         0.942857        0.042592                1\n3                        49         0.942857        0.042592                1\n4                        52         0.942857        0.042592                1\n5                        55         0.942857        0.042592                1\n6                        58         0.942857        0.042592                1\n7                        61         0.942857        0.042592                1\n8                        64         0.942857        0.042592                1\n9                        67         0.942857        0.042592                1\n10                       70         0.942857        0.042592                1",
      "text/html": "<div>\n<style scoped>\n    .dataframe tbody tr th:only-of-type {\n        vertical-align: middle;\n    }\n\n    .dataframe tbody tr th {\n        vertical-align: top;\n    }\n\n    .dataframe thead th {\n        text-align: right;\n    }\n</style>\n<table border=\"1\" class=\"dataframe\">\n  <thead>\n    <tr style=\"text-align: right;\">\n      <th></th>\n      <th>param_hidden_layer_sizes</th>\n      <th>mean_test_score</th>\n      <th>std_test_score</th>\n      <th>rank_test_score</th>\n    </tr>\n  </thead>\n  <tbody>\n    <tr>\n      <th>0</th>\n      <td>40</td>\n      <td>0.942857</td>\n      <td>0.042592</td>\n      <td>1</td>\n    </tr>\n    <tr>\n      <th>1</th>\n      <td>43</td>\n      <td>0.942857</td>\n      <td>0.042592</td>\n      <td>1</td>\n    </tr>\n    <tr>\n      <th>2</th>\n      <td>46</td>\n      <td>0.942857</td>\n      <td>0.042592</td>\n      <td>1</td>\n    </tr>\n    <tr>\n      <th>3</th>\n      <td>49</td>\n      <td>0.942857</td>\n      <td>0.042592</td>\n      <td>1</td>\n    </tr>\n    <tr>\n      <th>4</th>\n      <td>52</td>\n      <td>0.942857</td>\n      <td>0.042592</td>\n      <td>1</td>\n    </tr>\n    <tr>\n      <th>5</th>\n      <td>55</td>\n      <td>0.942857</td>\n      <td>0.042592</td>\n      <td>1</td>\n    </tr>\n    <tr>\n      <th>6</th>\n      <td>58</td>\n      <td>0.942857</td>\n      <td>0.042592</td>\n      <td>1</td>\n    </tr>\n    <tr>\n      <th>7</th>\n      <td>61</td>\n      <td>0.942857</td>\n      <td>0.042592</td>\n      <td>1</td>\n    </tr>\n    <tr>\n      <th>8</th>\n      <td>64</td>\n      <td>0.942857</td>\n      <td>0.042592</td>\n      <td>1</td>\n    </tr>\n    <tr>\n      <th>9</th>\n      <td>67</td>\n      <td>0.942857</td>\n      <td>0.042592</td>\n      <td>1</td>\n    </tr>\n    <tr>\n      <th>10</th>\n      <td>70</td>\n      <td>0.942857</td>\n      <td>0.042592</td>\n      <td>1</td>\n    </tr>\n  </tbody>\n</table>\n</div>"
     },
     "metadata": {},
     "execution_count": 7
    }
   ],
   "source": [
    "gs5 = GridSearchCV(\n",
    "    estimator=MLPClassifier(),\n",
    "    param_grid={\n",
    "        'hidden_layer_sizes':intervalo,\n",
    "        'random_state':[42],\n",
    "        'solver':['lbfgs']\n",
    "    },\n",
    "    cv=7\n",
    ").fit(\n",
    "    X_train,\n",
    "    y_train\n",
    ")\n",
    "\n",
    "pd.DataFrame(gs5.cv_results_).sort_values(by='rank_test_score')[['param_hidden_layer_sizes', 'mean_test_score', 'std_test_score', 'rank_test_score']]"
   ]
  },
  {
   "cell_type": "code",
   "execution_count": 8,
   "metadata": {},
   "outputs": [
    {
     "output_type": "execute_result",
     "data": {
      "text/plain": "   param_hidden_layer_sizes  mean_test_score  std_test_score  rank_test_score\n0                        40         0.942857        0.042592                1\n1                        43         0.942857        0.042592                1\n2                        46         0.942857        0.042592                1\n3                        49         0.942857        0.042592                1\n4                        52         0.942857        0.042592                1\n5                        55         0.942857        0.042592                1\n6                        58         0.942857        0.042592                1\n7                        61         0.942857        0.042592                1\n8                        64         0.942857        0.042592                1\n9                        67         0.942857        0.042592                1\n10                       70         0.942857        0.042592                1",
      "text/html": "<div>\n<style scoped>\n    .dataframe tbody tr th:only-of-type {\n        vertical-align: middle;\n    }\n\n    .dataframe tbody tr th {\n        vertical-align: top;\n    }\n\n    .dataframe thead th {\n        text-align: right;\n    }\n</style>\n<table border=\"1\" class=\"dataframe\">\n  <thead>\n    <tr style=\"text-align: right;\">\n      <th></th>\n      <th>param_hidden_layer_sizes</th>\n      <th>mean_test_score</th>\n      <th>std_test_score</th>\n      <th>rank_test_score</th>\n    </tr>\n  </thead>\n  <tbody>\n    <tr>\n      <th>0</th>\n      <td>40</td>\n      <td>0.942857</td>\n      <td>0.042592</td>\n      <td>1</td>\n    </tr>\n    <tr>\n      <th>1</th>\n      <td>43</td>\n      <td>0.942857</td>\n      <td>0.042592</td>\n      <td>1</td>\n    </tr>\n    <tr>\n      <th>2</th>\n      <td>46</td>\n      <td>0.942857</td>\n      <td>0.042592</td>\n      <td>1</td>\n    </tr>\n    <tr>\n      <th>3</th>\n      <td>49</td>\n      <td>0.942857</td>\n      <td>0.042592</td>\n      <td>1</td>\n    </tr>\n    <tr>\n      <th>4</th>\n      <td>52</td>\n      <td>0.942857</td>\n      <td>0.042592</td>\n      <td>1</td>\n    </tr>\n    <tr>\n      <th>5</th>\n      <td>55</td>\n      <td>0.942857</td>\n      <td>0.042592</td>\n      <td>1</td>\n    </tr>\n    <tr>\n      <th>6</th>\n      <td>58</td>\n      <td>0.942857</td>\n      <td>0.042592</td>\n      <td>1</td>\n    </tr>\n    <tr>\n      <th>7</th>\n      <td>61</td>\n      <td>0.942857</td>\n      <td>0.042592</td>\n      <td>1</td>\n    </tr>\n    <tr>\n      <th>8</th>\n      <td>64</td>\n      <td>0.942857</td>\n      <td>0.042592</td>\n      <td>1</td>\n    </tr>\n    <tr>\n      <th>9</th>\n      <td>67</td>\n      <td>0.942857</td>\n      <td>0.042592</td>\n      <td>1</td>\n    </tr>\n    <tr>\n      <th>10</th>\n      <td>70</td>\n      <td>0.942857</td>\n      <td>0.042592</td>\n      <td>1</td>\n    </tr>\n  </tbody>\n</table>\n</div>"
     },
     "metadata": {},
     "execution_count": 8
    }
   ],
   "source": [
    "gs6 = GridSearchCV(\n",
    "    estimator=MLPClassifier(),\n",
    "    param_grid={\n",
    "        'hidden_layer_sizes':intervalo,\n",
    "        'random_state':[42],\n",
    "        'solver':['lbfgs']\n",
    "    },\n",
    "    cv=7\n",
    ").fit(\n",
    "    X_train,\n",
    "    y_train\n",
    ")\n",
    "\n",
    "pd.DataFrame(gs6.cv_results_).sort_values(by='rank_test_score')[['param_hidden_layer_sizes', 'mean_test_score', 'std_test_score', 'rank_test_score']]"
   ]
  }
 ],
 "metadata": {
  "language_info": {
   "codemirror_mode": {
    "name": "ipython",
    "version": 3
   },
   "file_extension": ".py",
   "mimetype": "text/x-python",
   "name": "python",
   "nbconvert_exporter": "python",
   "pygments_lexer": "ipython3",
   "version": "3.7.7-final"
  },
  "orig_nbformat": 2,
  "kernelspec": {
   "name": "ml_venv",
   "display_name": "ML_venv"
  }
 },
 "nbformat": 4,
 "nbformat_minor": 2
}