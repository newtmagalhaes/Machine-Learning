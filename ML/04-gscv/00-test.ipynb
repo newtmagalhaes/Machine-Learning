{
 "cells": [
  {
   "cell_type": "markdown",
   "metadata": {},
   "source": [
    "# GS CV Test 1\n",
    "\n",
    "Explorando _Grid Search_ e _Cross Validation_ para melhoramento de Hiperparâmetros de classificador **KNN** para o conjunto de dados iris\n",
    "\n",
    "## Importando bibliotecas"
   ]
  },
  {
   "cell_type": "code",
   "execution_count": 1,
   "metadata": {},
   "outputs": [],
   "source": [
    "import numpy as np\n",
    "import pandas as pd\n",
    "\n",
    "from sklearn.datasets import load_iris\n",
    "from sklearn.neighbors import KNeighborsClassifier\n",
    "from sklearn.model_selection import GridSearchCV, train_test_split, cross_val_score"
   ]
  },
  {
   "cell_type": "code",
   "execution_count": 2,
   "metadata": {},
   "outputs": [
    {
     "output_type": "stream",
     "name": "stdout",
     "text": "1 vizinhos: mean = 0.96; std = 0.016329931618554536\narray: [0.98 0.94 0.96]\n\n3 vizinhos: mean = 0.9733333333333333; std = 0.009428090415820642\narray: [0.98 0.96 0.98]\n\n5 vizinhos: mean = 0.98; std = 0.0\narray: [0.98 0.98 0.98]\n\n7 vizinhos: mean = 0.9733333333333333; std = 0.009428090415820642\narray: [0.98 0.98 0.96]\n\n12 vizinhos: mean = 0.9666666666666667; std = 0.024944382578492966\narray: [0.96 1.   0.94]\n\n"
    }
   ],
   "source": [
    "# Carregando conjunto de dados\n",
    "X, y = load_iris(return_X_y=True)\n",
    "\n",
    "for vizinho in [1, 3, 5, 7, 12]:\n",
    "    # cross validation score para knn com 5 vizinhos\n",
    "    accuracy = cross_val_score(\n",
    "        estimator=KNeighborsClassifier(n_neighbors=vizinho),\n",
    "        X=X,\n",
    "        y=y,\n",
    "        cv=3\n",
    "    )\n",
    "    print(f'{vizinho} vizinhos: mean = {accuracy.mean()}; std = {accuracy.std()}\\narray: {accuracy}\\n')"
   ]
  },
  {
   "cell_type": "code",
   "execution_count": 3,
   "metadata": {},
   "outputs": [
    {
     "output_type": "execute_result",
     "data": {
      "text/plain": "{'n_neighbors': 5}"
     },
     "metadata": {},
     "execution_count": 3
    }
   ],
   "source": [
    "gsClassifier = GridSearchCV(\n",
    "    estimator=KNeighborsClassifier(),\n",
    "    param_grid={'n_neighbors':[1, 3, 5, 7, 12]},\n",
    "    cv=3\n",
    ")\n",
    "gsClassifier.fit(X, y)\n",
    "gsClassifier.best_params_"
   ]
  },
  {
   "cell_type": "code",
   "execution_count": 4,
   "metadata": {},
   "outputs": [
    {
     "output_type": "execute_result",
     "data": {
      "text/plain": "   mean_fit_time  std_fit_time  mean_score_time  std_score_time  \\\n0       0.001924      0.000858         0.007057        0.001884   \n1       0.001533      0.000374         0.007469        0.001128   \n2       0.001107      0.000141         0.007573        0.001552   \n3       0.001031      0.000315         0.006616        0.003033   \n4       0.001417      0.000571         0.005620        0.002135   \n\n  param_n_neighbors               params  split0_test_score  \\\n0                 1   {'n_neighbors': 1}               0.98   \n1                 3   {'n_neighbors': 3}               0.98   \n2                 5   {'n_neighbors': 5}               0.98   \n3                 7   {'n_neighbors': 7}               0.98   \n4                12  {'n_neighbors': 12}               0.96   \n\n   split1_test_score  split2_test_score  mean_test_score  std_test_score  \\\n0               0.94               0.96         0.960000        0.016330   \n1               0.96               0.98         0.973333        0.009428   \n2               0.98               0.98         0.980000        0.000000   \n3               0.98               0.96         0.973333        0.009428   \n4               1.00               0.94         0.966667        0.024944   \n\n   rank_test_score  \n0                5  \n1                2  \n2                1  \n3                2  \n4                4  ",
      "text/html": "<div>\n<style scoped>\n    .dataframe tbody tr th:only-of-type {\n        vertical-align: middle;\n    }\n\n    .dataframe tbody tr th {\n        vertical-align: top;\n    }\n\n    .dataframe thead th {\n        text-align: right;\n    }\n</style>\n<table border=\"1\" class=\"dataframe\">\n  <thead>\n    <tr style=\"text-align: right;\">\n      <th></th>\n      <th>mean_fit_time</th>\n      <th>std_fit_time</th>\n      <th>mean_score_time</th>\n      <th>std_score_time</th>\n      <th>param_n_neighbors</th>\n      <th>params</th>\n      <th>split0_test_score</th>\n      <th>split1_test_score</th>\n      <th>split2_test_score</th>\n      <th>mean_test_score</th>\n      <th>std_test_score</th>\n      <th>rank_test_score</th>\n    </tr>\n  </thead>\n  <tbody>\n    <tr>\n      <th>0</th>\n      <td>0.001924</td>\n      <td>0.000858</td>\n      <td>0.007057</td>\n      <td>0.001884</td>\n      <td>1</td>\n      <td>{'n_neighbors': 1}</td>\n      <td>0.98</td>\n      <td>0.94</td>\n      <td>0.96</td>\n      <td>0.960000</td>\n      <td>0.016330</td>\n      <td>5</td>\n    </tr>\n    <tr>\n      <th>1</th>\n      <td>0.001533</td>\n      <td>0.000374</td>\n      <td>0.007469</td>\n      <td>0.001128</td>\n      <td>3</td>\n      <td>{'n_neighbors': 3}</td>\n      <td>0.98</td>\n      <td>0.96</td>\n      <td>0.98</td>\n      <td>0.973333</td>\n      <td>0.009428</td>\n      <td>2</td>\n    </tr>\n    <tr>\n      <th>2</th>\n      <td>0.001107</td>\n      <td>0.000141</td>\n      <td>0.007573</td>\n      <td>0.001552</td>\n      <td>5</td>\n      <td>{'n_neighbors': 5}</td>\n      <td>0.98</td>\n      <td>0.98</td>\n      <td>0.98</td>\n      <td>0.980000</td>\n      <td>0.000000</td>\n      <td>1</td>\n    </tr>\n    <tr>\n      <th>3</th>\n      <td>0.001031</td>\n      <td>0.000315</td>\n      <td>0.006616</td>\n      <td>0.003033</td>\n      <td>7</td>\n      <td>{'n_neighbors': 7}</td>\n      <td>0.98</td>\n      <td>0.98</td>\n      <td>0.96</td>\n      <td>0.973333</td>\n      <td>0.009428</td>\n      <td>2</td>\n    </tr>\n    <tr>\n      <th>4</th>\n      <td>0.001417</td>\n      <td>0.000571</td>\n      <td>0.005620</td>\n      <td>0.002135</td>\n      <td>12</td>\n      <td>{'n_neighbors': 12}</td>\n      <td>0.96</td>\n      <td>1.00</td>\n      <td>0.94</td>\n      <td>0.966667</td>\n      <td>0.024944</td>\n      <td>4</td>\n    </tr>\n  </tbody>\n</table>\n</div>"
     },
     "metadata": {},
     "execution_count": 4
    }
   ],
   "source": [
    "gridDF = pd.DataFrame(gsClassifier.cv_results_)\n",
    "gridDF"
   ]
  },
  {
   "cell_type": "code",
   "execution_count": 5,
   "metadata": {},
   "outputs": [
    {
     "output_type": "execute_result",
     "data": {
      "text/plain": "  param_n_neighbors  mean_test_score  std_test_score  rank_test_score\n0                 1         0.960000        0.016330                5\n1                 3         0.973333        0.009428                2\n2                 5         0.980000        0.000000                1\n3                 7         0.973333        0.009428                2\n4                12         0.966667        0.024944                4",
      "text/html": "<div>\n<style scoped>\n    .dataframe tbody tr th:only-of-type {\n        vertical-align: middle;\n    }\n\n    .dataframe tbody tr th {\n        vertical-align: top;\n    }\n\n    .dataframe thead th {\n        text-align: right;\n    }\n</style>\n<table border=\"1\" class=\"dataframe\">\n  <thead>\n    <tr style=\"text-align: right;\">\n      <th></th>\n      <th>param_n_neighbors</th>\n      <th>mean_test_score</th>\n      <th>std_test_score</th>\n      <th>rank_test_score</th>\n    </tr>\n  </thead>\n  <tbody>\n    <tr>\n      <th>0</th>\n      <td>1</td>\n      <td>0.960000</td>\n      <td>0.016330</td>\n      <td>5</td>\n    </tr>\n    <tr>\n      <th>1</th>\n      <td>3</td>\n      <td>0.973333</td>\n      <td>0.009428</td>\n      <td>2</td>\n    </tr>\n    <tr>\n      <th>2</th>\n      <td>5</td>\n      <td>0.980000</td>\n      <td>0.000000</td>\n      <td>1</td>\n    </tr>\n    <tr>\n      <th>3</th>\n      <td>7</td>\n      <td>0.973333</td>\n      <td>0.009428</td>\n      <td>2</td>\n    </tr>\n    <tr>\n      <th>4</th>\n      <td>12</td>\n      <td>0.966667</td>\n      <td>0.024944</td>\n      <td>4</td>\n    </tr>\n  </tbody>\n</table>\n</div>"
     },
     "metadata": {},
     "execution_count": 5
    }
   ],
   "source": [
    "gridDF[['param_n_neighbors', 'mean_test_score', 'std_test_score', 'rank_test_score']]"
   ]
  },
  {
   "cell_type": "markdown",
   "metadata": {},
   "source": [
    "## Cross Validation Workflow\n",
    "\n",
    "Os melhores hiperparâmetros podem ser determinados por tecnicas de _grid search_.\n",
    "\n",
    "> [Fonte](https://scikit-learn.org/stable/modules/cross_validation.html)\n",
    "\n",
    "Exemplo de fluxograma de fluxo de trabalho envolvendo _Cross Validation_ no treinamento de modelo.\n",
    "\n",
    "![Workflow](https://scikit-learn.org/stable/_images/grid_search_workflow.png)\n",
    "\n",
    "Exemplo de distribuição dos dados para _Cross Validation_.\n",
    "\n",
    "![Data Distribution](https://scikit-learn.org/stable/_images/grid_search_cross_validation.png)"
   ]
  }
 ],
 "metadata": {
  "language_info": {
   "codemirror_mode": {
    "name": "ipython",
    "version": 3
   },
   "file_extension": ".py",
   "mimetype": "text/x-python",
   "name": "python",
   "nbconvert_exporter": "python",
   "pygments_lexer": "ipython3",
   "version": "3.7.7-final"
  },
  "orig_nbformat": 2,
  "kernelspec": {
   "name": "ml_venv",
   "display_name": "ML_venv"
  }
 },
 "nbformat": 4,
 "nbformat_minor": 2
}