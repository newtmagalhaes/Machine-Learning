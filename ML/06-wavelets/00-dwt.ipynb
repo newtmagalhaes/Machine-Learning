{
 "cells": [
  {
   "cell_type": "markdown",
   "metadata": {},
   "source": [
    "# DWT\n",
    "\n",
    "Explorando aplicação de _discrete wavelet transform_ semelhante ao exemplo da documentação da biblioteca [pywt](https://pywavelets.readthedocs.io/en/latest/index.html)\n",
    "\n",
    "## Importando bibliotecas"
   ]
  },
  {
   "cell_type": "code",
   "execution_count": 1,
   "metadata": {},
   "outputs": [],
   "source": [
    "import pywt\n",
    "import numpy as np"
   ]
  },
  {
   "cell_type": "code",
   "execution_count": 2,
   "metadata": {
    "tags": []
   },
   "outputs": [
    {
     "output_type": "stream",
     "name": "stdout",
     "text": "mock: [ 5 36  9  2]\n\nmean: 13.0; std: 13.509256086106296;\n"
    }
   ],
   "source": [
    "mock = np.random.randint(0, 100, 4)\n",
    "print(f'''mock: {mock}\n",
    "\n",
    "mean: {mock.mean()}; std: {mock.std()};''')"
   ]
  },
  {
   "cell_type": "code",
   "execution_count": 3,
   "metadata": {
    "tags": []
   },
   "outputs": [
    {
     "output_type": "stream",
     "name": "stdout",
     "text": "coef_aprox1: [-2.28313665 29.91603155 12.36358114 33.5426292  -2.28313665]\n\nmean: 14.251193719351443; std: 15.283179445473033;\n\ncoef_detail1: [ -7.29733454 -15.15044109   4.18421597  18.26355965  -7.29733454]\n\nmean: -1.4594669070536757; std: 11.631449643598916;\n"
    }
   ],
   "source": [
    "coef_aprox1, coef_detail1 = pywt.dwt(data=mock, wavelet='db4')\n",
    "\n",
    "print(f'''coef_aprox1: {coef_aprox1}\n",
    "\n",
    "mean: {coef_aprox1.mean()}; std: {coef_aprox1.std()};\\n''')\n",
    "\n",
    "print(f'''coef_detail1: {coef_detail1}\n",
    "\n",
    "mean: {coef_detail1.mean()}; std: {coef_detail1.std()};''')"
   ]
  },
  {
   "cell_type": "code",
   "execution_count": 4,
   "metadata": {
    "tags": []
   },
   "outputs": [
    {
     "output_type": "stream",
     "name": "stdout",
     "text": "mock:           [ 5 36  9  2]\nrebuild_mock:   [ 5. 36.  9.  2.]\n"
    }
   ],
   "source": [
    "rebuild_mock = pywt.idwt(cA=coef_aprox1, cD=coef_detail1, wavelet='db4')\n",
    "print(f'mock:           {mock}')\n",
    "print(f'rebuild_mock:   {rebuild_mock}')"
   ]
  }
 ],
 "metadata": {
  "language_info": {
   "codemirror_mode": {
    "name": "ipython",
    "version": 3
   },
   "file_extension": ".py",
   "mimetype": "text/x-python",
   "name": "python",
   "nbconvert_exporter": "python",
   "pygments_lexer": "ipython3",
   "version": "3.7.7-final"
  },
  "orig_nbformat": 2,
  "kernelspec": {
   "name": "ml_venv",
   "display_name": "ML_venv"
  }
 },
 "nbformat": 4,
 "nbformat_minor": 2
}